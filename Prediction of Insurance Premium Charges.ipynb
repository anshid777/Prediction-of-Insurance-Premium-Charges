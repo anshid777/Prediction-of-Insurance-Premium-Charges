{
  "nbformat": 4,
  "nbformat_minor": 0,
  "metadata": {
    "colab": {
      "provenance": []
    },
    "kernelspec": {
      "name": "python3",
      "display_name": "Python 3"
    },
    "language_info": {
      "name": "python"
    }
  },
  "cells": [
    {
      "cell_type": "markdown",
      "metadata": {
        "id": "adEs5c4sgGfJ"
      },
      "source": [
        "# **Importing Libraries**"
      ]
    },
    {
      "cell_type": "code",
      "metadata": {
        "id": "0WHYixCmf4Ib"
      },
      "source": [
        "import pandas as pd\n",
        "import seaborn as sns\n",
        "import matplotlib.pyplot as plt\n",
        "from sklearn.preprocessing import MinMaxScaler\n",
        "from sklearn.model_selection import cross_val_score\n",
        "from sklearn.linear_model import LinearRegression"
      ],
      "execution_count": null,
      "outputs": []
    },
    {
      "cell_type": "markdown",
      "metadata": {
        "id": "4z5NDHTQgODy"
      },
      "source": [
        "# **Importing and understanding Dataset**"
      ]
    },
    {
      "cell_type": "code",
      "metadata": {
        "id": "NrJmNJZMCcha",
        "colab": {
          "base_uri": "https://localhost:8080/",
          "height": 202
        },
        "outputId": "c280b593-8d3f-487e-874e-4039f540acc2"
      },
      "source": [
        "ds = pd.read_csv('https://raw.githubusercontent.com/ammishra08/MachineLearning/master/Datasets/insurance.csv', sep = ',')\n",
        "ds.head()"
      ],
      "execution_count": null,
      "outputs": [
        {
          "output_type": "execute_result",
          "data": {
            "text/html": [
              "<div>\n",
              "<style scoped>\n",
              "    .dataframe tbody tr th:only-of-type {\n",
              "        vertical-align: middle;\n",
              "    }\n",
              "\n",
              "    .dataframe tbody tr th {\n",
              "        vertical-align: top;\n",
              "    }\n",
              "\n",
              "    .dataframe thead th {\n",
              "        text-align: right;\n",
              "    }\n",
              "</style>\n",
              "<table border=\"1\" class=\"dataframe\">\n",
              "  <thead>\n",
              "    <tr style=\"text-align: right;\">\n",
              "      <th></th>\n",
              "      <th>age</th>\n",
              "      <th>sex</th>\n",
              "      <th>bmi</th>\n",
              "      <th>children</th>\n",
              "      <th>smoker</th>\n",
              "      <th>region</th>\n",
              "      <th>charges</th>\n",
              "    </tr>\n",
              "  </thead>\n",
              "  <tbody>\n",
              "    <tr>\n",
              "      <th>0</th>\n",
              "      <td>19</td>\n",
              "      <td>female</td>\n",
              "      <td>27.900</td>\n",
              "      <td>0</td>\n",
              "      <td>yes</td>\n",
              "      <td>southwest</td>\n",
              "      <td>16884.92400</td>\n",
              "    </tr>\n",
              "    <tr>\n",
              "      <th>1</th>\n",
              "      <td>18</td>\n",
              "      <td>male</td>\n",
              "      <td>33.770</td>\n",
              "      <td>1</td>\n",
              "      <td>no</td>\n",
              "      <td>southeast</td>\n",
              "      <td>1725.55230</td>\n",
              "    </tr>\n",
              "    <tr>\n",
              "      <th>2</th>\n",
              "      <td>28</td>\n",
              "      <td>male</td>\n",
              "      <td>33.000</td>\n",
              "      <td>3</td>\n",
              "      <td>no</td>\n",
              "      <td>southeast</td>\n",
              "      <td>4449.46200</td>\n",
              "    </tr>\n",
              "    <tr>\n",
              "      <th>3</th>\n",
              "      <td>33</td>\n",
              "      <td>male</td>\n",
              "      <td>22.705</td>\n",
              "      <td>0</td>\n",
              "      <td>no</td>\n",
              "      <td>northwest</td>\n",
              "      <td>21984.47061</td>\n",
              "    </tr>\n",
              "    <tr>\n",
              "      <th>4</th>\n",
              "      <td>32</td>\n",
              "      <td>male</td>\n",
              "      <td>28.880</td>\n",
              "      <td>0</td>\n",
              "      <td>no</td>\n",
              "      <td>northwest</td>\n",
              "      <td>3866.85520</td>\n",
              "    </tr>\n",
              "  </tbody>\n",
              "</table>\n",
              "</div>"
            ],
            "text/plain": [
              "   age     sex     bmi  children smoker     region      charges\n",
              "0   19  female  27.900         0    yes  southwest  16884.92400\n",
              "1   18    male  33.770         1     no  southeast   1725.55230\n",
              "2   28    male  33.000         3     no  southeast   4449.46200\n",
              "3   33    male  22.705         0     no  northwest  21984.47061\n",
              "4   32    male  28.880         0     no  northwest   3866.85520"
            ]
          },
          "metadata": {
            "tags": []
          },
          "execution_count": 2
        }
      ]
    },
    {
      "cell_type": "markdown",
      "metadata": {
        "id": "l8ZcWg3QLcAi"
      },
      "source": [
        "Size of dataset:"
      ]
    },
    {
      "cell_type": "code",
      "metadata": {
        "colab": {
          "base_uri": "https://localhost:8080/"
        },
        "id": "8Sm9WIEIC2-7",
        "outputId": "43141fd3-2c7e-43ef-822f-50132fe43172"
      },
      "source": [
        "ds.shape"
      ],
      "execution_count": null,
      "outputs": [
        {
          "output_type": "execute_result",
          "data": {
            "text/plain": [
              "(1338, 7)"
            ]
          },
          "metadata": {
            "tags": []
          },
          "execution_count": 3
        }
      ]
    },
    {
      "cell_type": "code",
      "metadata": {
        "colab": {
          "base_uri": "https://localhost:8080/",
          "height": 294
        },
        "id": "HcTWOvOYlCuI",
        "outputId": "fa9a7fdd-adcf-4a8b-ad85-d61a5a58c773"
      },
      "source": [
        "ds.describe()"
      ],
      "execution_count": null,
      "outputs": [
        {
          "output_type": "execute_result",
          "data": {
            "text/html": [
              "<div>\n",
              "<style scoped>\n",
              "    .dataframe tbody tr th:only-of-type {\n",
              "        vertical-align: middle;\n",
              "    }\n",
              "\n",
              "    .dataframe tbody tr th {\n",
              "        vertical-align: top;\n",
              "    }\n",
              "\n",
              "    .dataframe thead th {\n",
              "        text-align: right;\n",
              "    }\n",
              "</style>\n",
              "<table border=\"1\" class=\"dataframe\">\n",
              "  <thead>\n",
              "    <tr style=\"text-align: right;\">\n",
              "      <th></th>\n",
              "      <th>age</th>\n",
              "      <th>bmi</th>\n",
              "      <th>children</th>\n",
              "      <th>charges</th>\n",
              "    </tr>\n",
              "  </thead>\n",
              "  <tbody>\n",
              "    <tr>\n",
              "      <th>count</th>\n",
              "      <td>1338.000000</td>\n",
              "      <td>1338.000000</td>\n",
              "      <td>1338.000000</td>\n",
              "      <td>1338.000000</td>\n",
              "    </tr>\n",
              "    <tr>\n",
              "      <th>mean</th>\n",
              "      <td>39.207025</td>\n",
              "      <td>30.663397</td>\n",
              "      <td>1.094918</td>\n",
              "      <td>13270.422265</td>\n",
              "    </tr>\n",
              "    <tr>\n",
              "      <th>std</th>\n",
              "      <td>14.049960</td>\n",
              "      <td>6.098187</td>\n",
              "      <td>1.205493</td>\n",
              "      <td>12110.011237</td>\n",
              "    </tr>\n",
              "    <tr>\n",
              "      <th>min</th>\n",
              "      <td>18.000000</td>\n",
              "      <td>15.960000</td>\n",
              "      <td>0.000000</td>\n",
              "      <td>1121.873900</td>\n",
              "    </tr>\n",
              "    <tr>\n",
              "      <th>25%</th>\n",
              "      <td>27.000000</td>\n",
              "      <td>26.296250</td>\n",
              "      <td>0.000000</td>\n",
              "      <td>4740.287150</td>\n",
              "    </tr>\n",
              "    <tr>\n",
              "      <th>50%</th>\n",
              "      <td>39.000000</td>\n",
              "      <td>30.400000</td>\n",
              "      <td>1.000000</td>\n",
              "      <td>9382.033000</td>\n",
              "    </tr>\n",
              "    <tr>\n",
              "      <th>75%</th>\n",
              "      <td>51.000000</td>\n",
              "      <td>34.693750</td>\n",
              "      <td>2.000000</td>\n",
              "      <td>16639.912515</td>\n",
              "    </tr>\n",
              "    <tr>\n",
              "      <th>max</th>\n",
              "      <td>64.000000</td>\n",
              "      <td>53.130000</td>\n",
              "      <td>5.000000</td>\n",
              "      <td>63770.428010</td>\n",
              "    </tr>\n",
              "  </tbody>\n",
              "</table>\n",
              "</div>"
            ],
            "text/plain": [
              "               age          bmi     children       charges\n",
              "count  1338.000000  1338.000000  1338.000000   1338.000000\n",
              "mean     39.207025    30.663397     1.094918  13270.422265\n",
              "std      14.049960     6.098187     1.205493  12110.011237\n",
              "min      18.000000    15.960000     0.000000   1121.873900\n",
              "25%      27.000000    26.296250     0.000000   4740.287150\n",
              "50%      39.000000    30.400000     1.000000   9382.033000\n",
              "75%      51.000000    34.693750     2.000000  16639.912515\n",
              "max      64.000000    53.130000     5.000000  63770.428010"
            ]
          },
          "metadata": {
            "tags": []
          },
          "execution_count": 4
        }
      ]
    },
    {
      "cell_type": "markdown",
      "metadata": {
        "id": "AHBg5oJuLfPo"
      },
      "source": [
        "**Checking for missing values and datatypes:**"
      ]
    },
    {
      "cell_type": "code",
      "metadata": {
        "colab": {
          "base_uri": "https://localhost:8080/"
        },
        "id": "SkXFtWx_Lm37",
        "outputId": "eb7aae78-48c7-43de-82c3-42fcab3bde8a"
      },
      "source": [
        "ds.info()"
      ],
      "execution_count": null,
      "outputs": [
        {
          "output_type": "stream",
          "text": [
            "<class 'pandas.core.frame.DataFrame'>\n",
            "RangeIndex: 1338 entries, 0 to 1337\n",
            "Data columns (total 7 columns):\n",
            " #   Column    Non-Null Count  Dtype  \n",
            "---  ------    --------------  -----  \n",
            " 0   age       1338 non-null   int64  \n",
            " 1   sex       1338 non-null   object \n",
            " 2   bmi       1338 non-null   float64\n",
            " 3   children  1338 non-null   int64  \n",
            " 4   smoker    1338 non-null   object \n",
            " 5   region    1338 non-null   object \n",
            " 6   charges   1338 non-null   float64\n",
            "dtypes: float64(2), int64(2), object(3)\n",
            "memory usage: 73.3+ KB\n"
          ],
          "name": "stdout"
        }
      ]
    },
    {
      "cell_type": "markdown",
      "metadata": {
        "id": "H4bPoTKwRJp4"
      },
      "source": [
        "There are no missing values, and we have three features of data type object, namely sex, smoker, region. These are categorical data."
      ]
    },
    {
      "cell_type": "markdown",
      "metadata": {
        "id": "07pjFopHNWFA"
      },
      "source": [
        "**Assigning values to object data:**"
      ]
    },
    {
      "cell_type": "code",
      "metadata": {
        "colab": {
          "base_uri": "https://localhost:8080/"
        },
        "id": "3PO2yxd6P4c7",
        "outputId": "405ddce1-ba72-4c82-8c65-397707d9b293"
      },
      "source": [
        "ds[\"sex\"].unique()"
      ],
      "execution_count": null,
      "outputs": [
        {
          "output_type": "execute_result",
          "data": {
            "text/plain": [
              "array(['female', 'male'], dtype=object)"
            ]
          },
          "metadata": {
            "tags": []
          },
          "execution_count": 6
        }
      ]
    },
    {
      "cell_type": "code",
      "metadata": {
        "colab": {
          "base_uri": "https://localhost:8080/"
        },
        "id": "PlcHMHu_QKMu",
        "outputId": "8d29f15f-bba1-47df-c6bb-ed9b39ec91cf"
      },
      "source": [
        "ds[\"smoker\"].unique()"
      ],
      "execution_count": null,
      "outputs": [
        {
          "output_type": "execute_result",
          "data": {
            "text/plain": [
              "array(['yes', 'no'], dtype=object)"
            ]
          },
          "metadata": {
            "tags": []
          },
          "execution_count": 7
        }
      ]
    },
    {
      "cell_type": "code",
      "metadata": {
        "colab": {
          "base_uri": "https://localhost:8080/"
        },
        "id": "Aph4ToqxQLRr",
        "outputId": "568ae00e-22b3-4969-9638-f45e63e38c20"
      },
      "source": [
        "ds[\"region\"].unique()"
      ],
      "execution_count": null,
      "outputs": [
        {
          "output_type": "execute_result",
          "data": {
            "text/plain": [
              "array(['southwest', 'southeast', 'northwest', 'northeast'], dtype=object)"
            ]
          },
          "metadata": {
            "tags": []
          },
          "execution_count": 8
        }
      ]
    },
    {
      "cell_type": "code",
      "metadata": {
        "colab": {
          "base_uri": "https://localhost:8080/",
          "height": 202
        },
        "id": "T7d7X2qjRk3k",
        "outputId": "2947fcec-a7b2-4878-ab24-7650214dcc7d"
      },
      "source": [
        "ds['sex'] = ds['sex'].map({'male': 0, 'female': 1})\n",
        "ds['smoker'] = ds['smoker'].map({'no': 0, 'yes': 1})\n",
        "ds['region'] = ds['region'].map({'southwest': 0, 'southeast': 1, 'northwest': 2, 'northeast': 3})\n",
        "ds.head()"
      ],
      "execution_count": null,
      "outputs": [
        {
          "output_type": "execute_result",
          "data": {
            "text/html": [
              "<div>\n",
              "<style scoped>\n",
              "    .dataframe tbody tr th:only-of-type {\n",
              "        vertical-align: middle;\n",
              "    }\n",
              "\n",
              "    .dataframe tbody tr th {\n",
              "        vertical-align: top;\n",
              "    }\n",
              "\n",
              "    .dataframe thead th {\n",
              "        text-align: right;\n",
              "    }\n",
              "</style>\n",
              "<table border=\"1\" class=\"dataframe\">\n",
              "  <thead>\n",
              "    <tr style=\"text-align: right;\">\n",
              "      <th></th>\n",
              "      <th>age</th>\n",
              "      <th>sex</th>\n",
              "      <th>bmi</th>\n",
              "      <th>children</th>\n",
              "      <th>smoker</th>\n",
              "      <th>region</th>\n",
              "      <th>charges</th>\n",
              "    </tr>\n",
              "  </thead>\n",
              "  <tbody>\n",
              "    <tr>\n",
              "      <th>0</th>\n",
              "      <td>19</td>\n",
              "      <td>1</td>\n",
              "      <td>27.900</td>\n",
              "      <td>0</td>\n",
              "      <td>1</td>\n",
              "      <td>0</td>\n",
              "      <td>16884.92400</td>\n",
              "    </tr>\n",
              "    <tr>\n",
              "      <th>1</th>\n",
              "      <td>18</td>\n",
              "      <td>0</td>\n",
              "      <td>33.770</td>\n",
              "      <td>1</td>\n",
              "      <td>0</td>\n",
              "      <td>1</td>\n",
              "      <td>1725.55230</td>\n",
              "    </tr>\n",
              "    <tr>\n",
              "      <th>2</th>\n",
              "      <td>28</td>\n",
              "      <td>0</td>\n",
              "      <td>33.000</td>\n",
              "      <td>3</td>\n",
              "      <td>0</td>\n",
              "      <td>1</td>\n",
              "      <td>4449.46200</td>\n",
              "    </tr>\n",
              "    <tr>\n",
              "      <th>3</th>\n",
              "      <td>33</td>\n",
              "      <td>0</td>\n",
              "      <td>22.705</td>\n",
              "      <td>0</td>\n",
              "      <td>0</td>\n",
              "      <td>2</td>\n",
              "      <td>21984.47061</td>\n",
              "    </tr>\n",
              "    <tr>\n",
              "      <th>4</th>\n",
              "      <td>32</td>\n",
              "      <td>0</td>\n",
              "      <td>28.880</td>\n",
              "      <td>0</td>\n",
              "      <td>0</td>\n",
              "      <td>2</td>\n",
              "      <td>3866.85520</td>\n",
              "    </tr>\n",
              "  </tbody>\n",
              "</table>\n",
              "</div>"
            ],
            "text/plain": [
              "   age  sex     bmi  children  smoker  region      charges\n",
              "0   19    1  27.900         0       1       0  16884.92400\n",
              "1   18    0  33.770         1       0       1   1725.55230\n",
              "2   28    0  33.000         3       0       1   4449.46200\n",
              "3   33    0  22.705         0       0       2  21984.47061\n",
              "4   32    0  28.880         0       0       2   3866.85520"
            ]
          },
          "metadata": {
            "tags": []
          },
          "execution_count": 9
        }
      ]
    },
    {
      "cell_type": "markdown",
      "metadata": {
        "id": "uzx7FTzGPRbE"
      },
      "source": [
        "Again verifying data type of features:"
      ]
    },
    {
      "cell_type": "code",
      "metadata": {
        "colab": {
          "base_uri": "https://localhost:8080/",
          "height": 682
        },
        "id": "xVu6xiScR0ao",
        "outputId": "44245e12-1b7c-4d20-98a7-a30a718e6514"
      },
      "source": [
        "ds.info()\n",
        "ds.hist()"
      ],
      "execution_count": null,
      "outputs": [
        {
          "output_type": "stream",
          "text": [
            "<class 'pandas.core.frame.DataFrame'>\n",
            "RangeIndex: 1338 entries, 0 to 1337\n",
            "Data columns (total 7 columns):\n",
            " #   Column    Non-Null Count  Dtype  \n",
            "---  ------    --------------  -----  \n",
            " 0   age       1338 non-null   int64  \n",
            " 1   sex       1338 non-null   int64  \n",
            " 2   bmi       1338 non-null   float64\n",
            " 3   children  1338 non-null   int64  \n",
            " 4   smoker    1338 non-null   int64  \n",
            " 5   region    1338 non-null   int64  \n",
            " 6   charges   1338 non-null   float64\n",
            "dtypes: float64(2), int64(5)\n",
            "memory usage: 73.3 KB\n"
          ],
          "name": "stdout"
        },
        {
          "output_type": "execute_result",
          "data": {
            "text/plain": [
              "array([[<matplotlib.axes._subplots.AxesSubplot object at 0x7fc30dfb96d0>,\n",
              "        <matplotlib.axes._subplots.AxesSubplot object at 0x7fc30df876d0>,\n",
              "        <matplotlib.axes._subplots.AxesSubplot object at 0x7fc30df3ed50>],\n",
              "       [<matplotlib.axes._subplots.AxesSubplot object at 0x7fc30df00410>,\n",
              "        <matplotlib.axes._subplots.AxesSubplot object at 0x7fc30deb4a90>,\n",
              "        <matplotlib.axes._subplots.AxesSubplot object at 0x7fc30de77150>],\n",
              "       [<matplotlib.axes._subplots.AxesSubplot object at 0x7fc30dead7d0>,\n",
              "        <matplotlib.axes._subplots.AxesSubplot object at 0x7fc30de62e50>,\n",
              "        <matplotlib.axes._subplots.AxesSubplot object at 0x7fc30ddf9390>]],\n",
              "      dtype=object)"
            ]
          },
          "metadata": {
            "tags": []
          },
          "execution_count": 10
        },
        {
          "output_type": "display_data",
          "data": {
            "image/png": "[encoded data removed]",
            "text/plain": [
              "<Figure size 432x288 with 9 Axes>"
            ]
          },
          "metadata": {
            "tags": [],
            "needs_background": "light"
          }
        }
      ]
    },
    {
      "cell_type": "markdown",
      "metadata": {
        "id": "F2I1uNK7NN-f"
      },
      "source": [
        "**Viewing distributions of the features and target variable:**"
      ]
    },
    {
      "cell_type": "code",
      "metadata": {
        "colab": {
          "base_uri": "https://localhost:8080/",
          "height": 349
        },
        "id": "BVFOrLl1MPVd",
        "outputId": "8e780e53-7619-488d-a5e4-0583839c1112"
      },
      "source": [
        "sns.distplot(ds[\"age\"])"
      ],
      "execution_count": null,
      "outputs": [
        {
          "output_type": "stream",
          "text": [
            "/usr/local/lib/python3.7/dist-packages/seaborn/distributions.py:2557: FutureWarning: `distplot` is a deprecated function and will be removed in a future version. Please adapt your code to use either `displot` (a figure-level function with similar flexibility) or `histplot` (an axes-level function for histograms).\n",
            "  warnings.warn(msg, FutureWarning)\n"
          ],
          "name": "stderr"
        },
        {
          "output_type": "execute_result",
          "data": {
            "text/plain": [
              "<matplotlib.axes._subplots.AxesSubplot at 0x7fc30de4b9d0>"
            ]
          },
          "metadata": {
            "tags": []
          },
          "execution_count": 11
        },
        {
          "output_type": "display_data",
          "data": {
            "image/png": "[encoded data removed]",
            "text/plain": [
              "<Figure size 432x288 with 1 Axes>"
            ]
          },
          "metadata": {
            "tags": [],
            "needs_background": "light"
          }
        }
      ]
    },
    {
      "cell_type": "code",
      "metadata": {
        "colab": {
          "base_uri": "https://localhost:8080/",
          "height": 349
        },
        "id": "oN4WeHupWhFF",
        "outputId": "4e53ef8f-871b-4762-b54b-712b82fe575f"
      },
      "source": [
        "sns.distplot(ds[\"bmi\"])"
      ],
      "execution_count": null,
      "outputs": [
        {
          "output_type": "stream",
          "text": [
            "/usr/local/lib/python3.7/dist-packages/seaborn/distributions.py:2557: FutureWarning: `distplot` is a deprecated function and will be removed in a future version. Please adapt your code to use either `displot` (a figure-level function with similar flexibility) or `histplot` (an axes-level function for histograms).\n",
            "  warnings.warn(msg, FutureWarning)\n"
          ],
          "name": "stderr"
        },
        {
          "output_type": "execute_result",
          "data": {
            "text/plain": [
              "<matplotlib.axes._subplots.AxesSubplot at 0x7fc30ac207d0>"
            ]
          },
          "metadata": {
            "tags": []
          },
          "execution_count": 12
        },
        {
          "output_type": "display_data",
          "data": {
            "image/png": "[encoded data removed]",
            "text/plain": [
              "<Figure size 432x288 with 1 Axes>"
            ]
          },
          "metadata": {
            "tags": [],
            "needs_background": "light"
          }
        }
      ]
    },
    {
      "cell_type": "code",
      "metadata": {
        "colab": {
          "base_uri": "https://localhost:8080/",
          "height": 349
        },
        "id": "ceRvKkodWv6N",
        "outputId": "677771f0-0197-47f9-e032-ad020f9da1a0"
      },
      "source": [
        "sns.distplot(ds[\"children\"])"
      ],
      "execution_count": null,
      "outputs": [
        {
          "output_type": "stream",
          "text": [
            "/usr/local/lib/python3.7/dist-packages/seaborn/distributions.py:2557: FutureWarning: `distplot` is a deprecated function and will be removed in a future version. Please adapt your code to use either `displot` (a figure-level function with similar flexibility) or `histplot` (an axes-level function for histograms).\n",
            "  warnings.warn(msg, FutureWarning)\n"
          ],
          "name": "stderr"
        },
        {
          "output_type": "execute_result",
          "data": {
            "text/plain": [
              "<matplotlib.axes._subplots.AxesSubplot at 0x7fc30ac4cdd0>"
            ]
          },
          "metadata": {
            "tags": []
          },
          "execution_count": 13
        },
        {
          "output_type": "display_data",
          "data": {
            "image/png": "[encoded data removed]",
            "text/plain": [
              "<Figure size 432x288 with 1 Axes>"
            ]
          },
          "metadata": {
            "tags": [],
            "needs_background": "light"
          }
        }
      ]
    },
    {
      "cell_type": "code",
      "metadata": {
        "colab": {
          "base_uri": "https://localhost:8080/",
          "height": 353
        },
        "id": "DarwKYpbW6p2",
        "outputId": "f1856276-8255-471b-93f3-91a801c6727b"
      },
      "source": [
        "sns.distplot(ds[\"smoker\"])"
      ],
      "execution_count": null,
      "outputs": [
        {
          "output_type": "stream",
          "text": [
            "/usr/local/lib/python3.7/dist-packages/seaborn/distributions.py:2557: FutureWarning: `distplot` is a deprecated function and will be removed in a future version. Please adapt your code to use either `displot` (a figure-level function with similar flexibility) or `histplot` (an axes-level function for histograms).\n",
            "  warnings.warn(msg, FutureWarning)\n"
          ],
          "name": "stderr"
        },
        {
          "output_type": "execute_result",
          "data": {
            "text/plain": [
              "<matplotlib.axes._subplots.AxesSubplot at 0x7fc30abaf4d0>"
            ]
          },
          "metadata": {
            "tags": []
          },
          "execution_count": 14
        },
        {
          "output_type": "display_data",
          "data": {
            "image/png": "[encoded data removed]",
            "text/plain": [
              "<Figure size 432x288 with 1 Axes>"
            ]
          },
          "metadata": {
            "tags": [],
            "needs_background": "light"
          }
        }
      ]
    },
    {
      "cell_type": "code",
      "metadata": {
        "colab": {
          "base_uri": "https://localhost:8080/",
          "height": 351
        },
        "id": "I2g80YWyXA6m",
        "outputId": "c98a101a-43d2-4fd4-889c-5343a3793de5"
      },
      "source": [
        "sns.distplot(ds[\"region\"])"
      ],
      "execution_count": null,
      "outputs": [
        {
          "output_type": "stream",
          "text": [
            "/usr/local/lib/python3.7/dist-packages/seaborn/distributions.py:2557: FutureWarning: `distplot` is a deprecated function and will be removed in a future version. Please adapt your code to use either `displot` (a figure-level function with similar flexibility) or `histplot` (an axes-level function for histograms).\n",
            "  warnings.warn(msg, FutureWarning)\n"
          ],
          "name": "stderr"
        },
        {
          "output_type": "execute_result",
          "data": {
            "text/plain": [
              "<matplotlib.axes._subplots.AxesSubplot at 0x7fc30aa58990>"
            ]
          },
          "metadata": {
            "tags": []
          },
          "execution_count": 15
        },
        {
          "output_type": "display_data",
          "data": {
            "image/png": "[encoded data removed]",
            "text/plain": [
              "<Figure size 432x288 with 1 Axes>"
            ]
          },
          "metadata": {
            "tags": [],
            "needs_background": "light"
          }
        }
      ]
    },
    {
      "cell_type": "code",
      "metadata": {
        "colab": {
          "base_uri": "https://localhost:8080/",
          "height": 349
        },
        "id": "8UMnGU19Wl8n",
        "outputId": "a681440e-cc05-4ba6-d8e0-7f0ae01c84b9"
      },
      "source": [
        "sns.distplot(ds[\"sex\"])"
      ],
      "execution_count": null,
      "outputs": [
        {
          "output_type": "stream",
          "text": [
            "/usr/local/lib/python3.7/dist-packages/seaborn/distributions.py:2557: FutureWarning: `distplot` is a deprecated function and will be removed in a future version. Please adapt your code to use either `displot` (a figure-level function with similar flexibility) or `histplot` (an axes-level function for histograms).\n",
            "  warnings.warn(msg, FutureWarning)\n"
          ],
          "name": "stderr"
        },
        {
          "output_type": "execute_result",
          "data": {
            "text/plain": [
              "<matplotlib.axes._subplots.AxesSubplot at 0x7fc30a983110>"
            ]
          },
          "metadata": {
            "tags": []
          },
          "execution_count": 16
        },
        {
          "output_type": "display_data",
          "data": {
            "image/png": "[encoded data removed]",
            "text/plain": [
              "<Figure size 432x288 with 1 Axes>"
            ]
          },
          "metadata": {
            "tags": [],
            "needs_background": "light"
          }
        }
      ]
    },
    {
      "cell_type": "code",
      "metadata": {
        "colab": {
          "base_uri": "https://localhost:8080/",
          "height": 360
        },
        "id": "gfs-UrhpVytq",
        "outputId": "c35f204d-fcf4-4817-c92a-cc722b036b79"
      },
      "source": [
        "sns.distplot(ds[\"charges\"])"
      ],
      "execution_count": null,
      "outputs": [
        {
          "output_type": "stream",
          "text": [
            "/usr/local/lib/python3.7/dist-packages/seaborn/distributions.py:2557: FutureWarning: `distplot` is a deprecated function and will be removed in a future version. Please adapt your code to use either `displot` (a figure-level function with similar flexibility) or `histplot` (an axes-level function for histograms).\n",
            "  warnings.warn(msg, FutureWarning)\n"
          ],
          "name": "stderr"
        },
        {
          "output_type": "execute_result",
          "data": {
            "text/plain": [
              "<matplotlib.axes._subplots.AxesSubplot at 0x7fc30aafef50>"
            ]
          },
          "metadata": {
            "tags": []
          },
          "execution_count": 17
        },
        {
          "output_type": "display_data",
          "data": {
            "image/png": "[encoded data removed]",
            "text/plain": [
              "<Figure size 432x288 with 1 Axes>"
            ]
          },
          "metadata": {
            "tags": [],
            "needs_background": "light"
          }
        }
      ]
    },
    {
      "cell_type": "markdown",
      "metadata": {
        "id": "mX-lSN8CYDK2"
      },
      "source": [
        "**Checking correlation of features with the target variable:**"
      ]
    },
    {
      "cell_type": "code",
      "metadata": {
        "colab": {
          "base_uri": "https://localhost:8080/"
        },
        "id": "PsaDJHBQYIVR",
        "outputId": "b279d729-a46b-41b2-8345-22303940cf67"
      },
      "source": [
        "print(ds.corr()[\"charges\"].abs().sort_values(ascending=False))"
      ],
      "execution_count": null,
      "outputs": [
        {
          "output_type": "stream",
          "text": [
            "charges     1.000000\n",
            "smoker      0.787251\n",
            "age         0.299008\n",
            "bmi         0.198341\n",
            "children    0.067998\n",
            "sex         0.057292\n",
            "region      0.006208\n",
            "Name: charges, dtype: float64\n"
          ],
          "name": "stdout"
        }
      ]
    },
    {
      "cell_type": "markdown",
      "metadata": {
        "id": "dFLfB889JDK1"
      },
      "source": [
        "Smoker status has the highest correlation with the target variable (charges)"
      ]
    },
    {
      "cell_type": "markdown",
      "metadata": {
        "id": "UPjuGaeMY_yV"
      },
      "source": [
        "**Correlation Matrix:**"
      ]
    },
    {
      "cell_type": "code",
      "metadata": {
        "colab": {
          "base_uri": "https://localhost:8080/",
          "height": 596
        },
        "id": "dOKMoza4Y_SS",
        "outputId": "c84a9526-a70f-4b29-abb8-d06abcf61a1f"
      },
      "source": [
        "corrmat = ds.corr()\n",
        "top_corr_features = corrmat.index\n",
        "plt.figure(figsize=(10,10))\n",
        "#plot heat map\n",
        "g=sns.heatmap(ds[top_corr_features].corr(),annot=True,cmap=\"RdYlGn\")"
      ],
      "execution_count": null,
      "outputs": [
        {
          "output_type": "display_data",
          "data": {
            "image/png": "[encoded data removed]",
            "text/plain": [
              "<Figure size 720x720 with 2 Axes>"
            ]
          },
          "metadata": {
            "tags": [],
            "needs_background": "light"
          }
        }
      ]
    },
    {
      "cell_type": "markdown",
      "metadata": {
        "id": "HZ-tuyAtaCJr"
      },
      "source": [
        "A correlation greater than 0.85 is not present. The features are moderately correlated or weakly correlated."
      ]
    },
    {
      "cell_type": "markdown",
      "metadata": {
        "id": "R9FNbxkParcP"
      },
      "source": [
        "**Visualizing the distribution of charges with respect to individual features:**"
      ]
    },
    {
      "cell_type": "markdown",
      "metadata": {
        "id": "q5X-5fZscJlc"
      },
      "source": [
        "This is used for categorical data."
      ]
    },
    {
      "cell_type": "markdown",
      "metadata": {
        "id": "V1B2-61-cdck"
      },
      "source": [
        "1)Sex:"
      ]
    },
    {
      "cell_type": "code",
      "metadata": {
        "colab": {
          "base_uri": "https://localhost:8080/",
          "height": 349
        },
        "id": "pokkt-Q7a5mj",
        "outputId": "abfa0f59-a2a9-483d-822f-77bf039b782c"
      },
      "source": [
        "y = ds[\"charges\"]\n",
        "sns.barplot(ds[\"sex\"],y)"
      ],
      "execution_count": null,
      "outputs": [
        {
          "output_type": "stream",
          "text": [
            "/usr/local/lib/python3.7/dist-packages/seaborn/_decorators.py:43: FutureWarning: Pass the following variables as keyword args: x, y. From version 0.12, the only valid positional argument will be `data`, and passing other arguments without an explicit keyword will result in an error or misinterpretation.\n",
            "  FutureWarning\n"
          ],
          "name": "stderr"
        },
        {
          "output_type": "execute_result",
          "data": {
            "text/plain": [
              "<matplotlib.axes._subplots.AxesSubplot at 0x7fc30a84d050>"
            ]
          },
          "metadata": {
            "tags": []
          },
          "execution_count": 20
        },
        {
          "output_type": "display_data",
          "data": {
            "image/png": "[encoded data removed]",
            "text/plain": [
              "<Figure size 432x288 with 1 Axes>"
            ]
          },
          "metadata": {
            "tags": [],
            "needs_background": "light"
          }
        }
      ]
    },
    {
      "cell_type": "markdown",
      "metadata": {
        "id": "ItPzpPCfc4c7"
      },
      "source": [
        "The charges for males are only slightly higher than that for females."
      ]
    },
    {
      "cell_type": "markdown",
      "metadata": {
        "id": "hYi0qlbpcnIR"
      },
      "source": [
        "2)Smoker Status:"
      ]
    },
    {
      "cell_type": "code",
      "metadata": {
        "colab": {
          "base_uri": "https://localhost:8080/",
          "height": 352
        },
        "id": "MGXh_CKecs-J",
        "outputId": "a77b445c-b70e-412f-998d-f62cb8d8eafe"
      },
      "source": [
        "sns.barplot(ds[\"smoker\"],y)"
      ],
      "execution_count": null,
      "outputs": [
        {
          "output_type": "stream",
          "text": [
            "/usr/local/lib/python3.7/dist-packages/seaborn/_decorators.py:43: FutureWarning: Pass the following variables as keyword args: x, y. From version 0.12, the only valid positional argument will be `data`, and passing other arguments without an explicit keyword will result in an error or misinterpretation.\n",
            "  FutureWarning\n"
          ],
          "name": "stderr"
        },
        {
          "output_type": "execute_result",
          "data": {
            "text/plain": [
              "<matplotlib.axes._subplots.AxesSubplot at 0x7fc301ecc750>"
            ]
          },
          "metadata": {
            "tags": []
          },
          "execution_count": 21
        },
        {
          "output_type": "display_data",
          "data": {
            "image/png": "[encoded data removed]",
            "text/plain": [
              "<Figure size 432x288 with 1 Axes>"
            ]
          },
          "metadata": {
            "tags": [],
            "needs_background": "light"
          }
        }
      ]
    },
    {
      "cell_type": "markdown",
      "metadata": {
        "id": "pdhTNokSdCO0"
      },
      "source": [
        "The charges are higher for smokers."
      ]
    },
    {
      "cell_type": "markdown",
      "metadata": {
        "id": "nrFjMStYdKYB"
      },
      "source": [
        "3)Region:"
      ]
    },
    {
      "cell_type": "code",
      "metadata": {
        "colab": {
          "base_uri": "https://localhost:8080/",
          "height": 349
        },
        "id": "wTTQiSZ9c1o2",
        "outputId": "20b3e0d2-1d3e-4791-a901-666ba558c9e5"
      },
      "source": [
        "sns.barplot(ds[\"region\"],y)"
      ],
      "execution_count": null,
      "outputs": [
        {
          "output_type": "stream",
          "text": [
            "/usr/local/lib/python3.7/dist-packages/seaborn/_decorators.py:43: FutureWarning: Pass the following variables as keyword args: x, y. From version 0.12, the only valid positional argument will be `data`, and passing other arguments without an explicit keyword will result in an error or misinterpretation.\n",
            "  FutureWarning\n"
          ],
          "name": "stderr"
        },
        {
          "output_type": "execute_result",
          "data": {
            "text/plain": [
              "<matplotlib.axes._subplots.AxesSubplot at 0x7fc30ac8d450>"
            ]
          },
          "metadata": {
            "tags": []
          },
          "execution_count": 22
        },
        {
          "output_type": "display_data",
          "data": {
            "image/png": "[encoded data removed]",
            "text/plain": [
              "<Figure size 432x288 with 1 Axes>"
            ]
          },
          "metadata": {
            "tags": [],
            "needs_background": "light"
          }
        }
      ]
    },
    {
      "cell_type": "markdown",
      "metadata": {
        "id": "roGR2vNadThq"
      },
      "source": [
        "The charges are nearly the same across regions, southeast having slightly higher charges followed by northeast."
      ]
    },
    {
      "cell_type": "markdown",
      "metadata": {
        "id": "Qx6wwd8kdqXU"
      },
      "source": [
        "4) Children:"
      ]
    },
    {
      "cell_type": "code",
      "metadata": {
        "colab": {
          "base_uri": "https://localhost:8080/",
          "height": 349
        },
        "id": "PJQIL0w3dhHW",
        "outputId": "a377d7fb-9f5e-4a76-9bae-282dab15e0bd"
      },
      "source": [
        "sns.barplot(ds[\"children\"],y)"
      ],
      "execution_count": null,
      "outputs": [
        {
          "output_type": "stream",
          "text": [
            "/usr/local/lib/python3.7/dist-packages/seaborn/_decorators.py:43: FutureWarning: Pass the following variables as keyword args: x, y. From version 0.12, the only valid positional argument will be `data`, and passing other arguments without an explicit keyword will result in an error or misinterpretation.\n",
            "  FutureWarning\n"
          ],
          "name": "stderr"
        },
        {
          "output_type": "execute_result",
          "data": {
            "text/plain": [
              "<matplotlib.axes._subplots.AxesSubplot at 0x7fc30a846850>"
            ]
          },
          "metadata": {
            "tags": []
          },
          "execution_count": 23
        },
        {
          "output_type": "display_data",
          "data": {
            "image/png": "[encoded data removed]",
            "text/plain": [
              "<Figure size 432x288 with 1 Axes>"
            ]
          },
          "metadata": {
            "tags": [],
            "needs_background": "light"
          }
        }
      ]
    },
    {
      "cell_type": "markdown",
      "metadata": {
        "id": "mH6NS6zEea_V"
      },
      "source": [
        "# **Data Processing**"
      ]
    },
    {
      "cell_type": "markdown",
      "metadata": {
        "id": "CjAUqARVgvU7"
      },
      "source": [
        "The features age, bmi are to be normalised. Dummy variables are created for the nominal categorical features, namely: region, sex, smoker status\n",
        "\n"
      ]
    },
    {
      "cell_type": "code",
      "metadata": {
        "colab": {
          "base_uri": "https://localhost:8080/",
          "height": 202
        },
        "id": "3XaRT3LSDAFE",
        "outputId": "4536934c-3bd8-4a99-9ffe-98a8f37c38d4"
      },
      "source": [
        "#dummy coding for nominal data\n",
        "ds = pd.get_dummies(ds, columns=['sex','smoker','region'])\n",
        "ds.head()"
      ],
      "execution_count": null,
      "outputs": [
        {
          "output_type": "execute_result",
          "data": {
            "text/html": [
              "<div>\n",
              "<style scoped>\n",
              "    .dataframe tbody tr th:only-of-type {\n",
              "        vertical-align: middle;\n",
              "    }\n",
              "\n",
              "    .dataframe tbody tr th {\n",
              "        vertical-align: top;\n",
              "    }\n",
              "\n",
              "    .dataframe thead th {\n",
              "        text-align: right;\n",
              "    }\n",
              "</style>\n",
              "<table border=\"1\" class=\"dataframe\">\n",
              "  <thead>\n",
              "    <tr style=\"text-align: right;\">\n",
              "      <th></th>\n",
              "      <th>age</th>\n",
              "      <th>bmi</th>\n",
              "      <th>children</th>\n",
              "      <th>charges</th>\n",
              "      <th>sex_0</th>\n",
              "      <th>sex_1</th>\n",
              "      <th>smoker_0</th>\n",
              "      <th>smoker_1</th>\n",
              "      <th>region_0</th>\n",
              "      <th>region_1</th>\n",
              "      <th>region_2</th>\n",
              "      <th>region_3</th>\n",
              "    </tr>\n",
              "  </thead>\n",
              "  <tbody>\n",
              "    <tr>\n",
              "      <th>0</th>\n",
              "      <td>19</td>\n",
              "      <td>27.900</td>\n",
              "      <td>0</td>\n",
              "      <td>16884.92400</td>\n",
              "      <td>0</td>\n",
              "      <td>1</td>\n",
              "      <td>0</td>\n",
              "      <td>1</td>\n",
              "      <td>1</td>\n",
              "      <td>0</td>\n",
              "      <td>0</td>\n",
              "      <td>0</td>\n",
              "    </tr>\n",
              "    <tr>\n",
              "      <th>1</th>\n",
              "      <td>18</td>\n",
              "      <td>33.770</td>\n",
              "      <td>1</td>\n",
              "      <td>1725.55230</td>\n",
              "      <td>1</td>\n",
              "      <td>0</td>\n",
              "      <td>1</td>\n",
              "      <td>0</td>\n",
              "      <td>0</td>\n",
              "      <td>1</td>\n",
              "      <td>0</td>\n",
              "      <td>0</td>\n",
              "    </tr>\n",
              "    <tr>\n",
              "      <th>2</th>\n",
              "      <td>28</td>\n",
              "      <td>33.000</td>\n",
              "      <td>3</td>\n",
              "      <td>4449.46200</td>\n",
              "      <td>1</td>\n",
              "      <td>0</td>\n",
              "      <td>1</td>\n",
              "      <td>0</td>\n",
              "      <td>0</td>\n",
              "      <td>1</td>\n",
              "      <td>0</td>\n",
              "      <td>0</td>\n",
              "    </tr>\n",
              "    <tr>\n",
              "      <th>3</th>\n",
              "      <td>33</td>\n",
              "      <td>22.705</td>\n",
              "      <td>0</td>\n",
              "      <td>21984.47061</td>\n",
              "      <td>1</td>\n",
              "      <td>0</td>\n",
              "      <td>1</td>\n",
              "      <td>0</td>\n",
              "      <td>0</td>\n",
              "      <td>0</td>\n",
              "      <td>1</td>\n",
              "      <td>0</td>\n",
              "    </tr>\n",
              "    <tr>\n",
              "      <th>4</th>\n",
              "      <td>32</td>\n",
              "      <td>28.880</td>\n",
              "      <td>0</td>\n",
              "      <td>3866.85520</td>\n",
              "      <td>1</td>\n",
              "      <td>0</td>\n",
              "      <td>1</td>\n",
              "      <td>0</td>\n",
              "      <td>0</td>\n",
              "      <td>0</td>\n",
              "      <td>1</td>\n",
              "      <td>0</td>\n",
              "    </tr>\n",
              "  </tbody>\n",
              "</table>\n",
              "</div>"
            ],
            "text/plain": [
              "   age     bmi  children      charges  ...  region_0  region_1  region_2  region_3\n",
              "0   19  27.900         0  16884.92400  ...         1         0         0         0\n",
              "1   18  33.770         1   1725.55230  ...         0         1         0         0\n",
              "2   28  33.000         3   4449.46200  ...         0         1         0         0\n",
              "3   33  22.705         0  21984.47061  ...         0         0         1         0\n",
              "4   32  28.880         0   3866.85520  ...         0         0         1         0\n",
              "\n",
              "[5 rows x 12 columns]"
            ]
          },
          "metadata": {
            "tags": []
          },
          "execution_count": 24
        }
      ]
    },
    {
      "cell_type": "markdown",
      "metadata": {
        "id": "Y9O2R3etX3eJ"
      },
      "source": [
        "Splitting data into train and test set:"
      ]
    },
    {
      "cell_type": "code",
      "metadata": {
        "id": "w9_OxhGgV_33"
      },
      "source": [
        "from sklearn.model_selection import train_test_split\n",
        "dataset_train, dataset_test = train_test_split(ds, test_size=0.2, train_size=0.8, random_state=42)"
      ],
      "execution_count": null,
      "outputs": []
    },
    {
      "cell_type": "markdown",
      "metadata": {
        "id": "nLAhVLZDZHnz"
      },
      "source": [
        "Standardising continuous variables:"
      ]
    },
    {
      "cell_type": "code",
      "metadata": {
        "colab": {
          "base_uri": "https://localhost:8080/",
          "height": 604
        },
        "id": "N57uFKMgZG3D",
        "outputId": "5bbf53e8-5868-4afb-bf06-515338002d19"
      },
      "source": [
        "standardScaler = MinMaxScaler()\n",
        "columns_to_scale = ['age', 'bmi', 'charges']\n",
        "dataset_train[columns_to_scale] = standardScaler.fit_transform(dataset_train[columns_to_scale])\n",
        "dataset_test[columns_to_scale] = standardScaler.fit_transform(dataset_test[columns_to_scale])\n",
        "dataset_train.head()\n",
        "dataset_test.head()"
      ],
      "execution_count": null,
      "outputs": [
        {
          "output_type": "stream",
          "text": [
            "/usr/local/lib/python3.7/dist-packages/ipykernel_launcher.py:3: SettingWithCopyWarning: \n",
            "A value is trying to be set on a copy of a slice from a DataFrame.\n",
            "Try using .loc[row_indexer,col_indexer] = value instead\n",
            "\n",
            "See the caveats in the documentation: https://pandas.pydata.org/pandas-docs/stable/user_guide/indexing.html#returning-a-view-versus-a-copy\n",
            "  This is separate from the ipykernel package so we can avoid doing imports until\n",
            "/usr/local/lib/python3.7/dist-packages/pandas/core/indexing.py:1734: SettingWithCopyWarning: \n",
            "A value is trying to be set on a copy of a slice from a DataFrame.\n",
            "Try using .loc[row_indexer,col_indexer] = value instead\n",
            "\n",
            "See the caveats in the documentation: https://pandas.pydata.org/pandas-docs/stable/user_guide/indexing.html#returning-a-view-versus-a-copy\n",
            "  isetter(loc, value[:, i].tolist())\n",
            "/usr/local/lib/python3.7/dist-packages/ipykernel_launcher.py:4: SettingWithCopyWarning: \n",
            "A value is trying to be set on a copy of a slice from a DataFrame.\n",
            "Try using .loc[row_indexer,col_indexer] = value instead\n",
            "\n",
            "See the caveats in the documentation: https://pandas.pydata.org/pandas-docs/stable/user_guide/indexing.html#returning-a-view-versus-a-copy\n",
            "  after removing the cwd from sys.path.\n",
            "/usr/local/lib/python3.7/dist-packages/pandas/core/indexing.py:1734: SettingWithCopyWarning: \n",
            "A value is trying to be set on a copy of a slice from a DataFrame.\n",
            "Try using .loc[row_indexer,col_indexer] = value instead\n",
            "\n",
            "See the caveats in the documentation: https://pandas.pydata.org/pandas-docs/stable/user_guide/indexing.html#returning-a-view-versus-a-copy\n",
            "  isetter(loc, value[:, i].tolist())\n"
          ],
          "name": "stderr"
        },
        {
          "output_type": "execute_result",
          "data": {
            "text/html": [
              "<div>\n",
              "<style scoped>\n",
              "    .dataframe tbody tr th:only-of-type {\n",
              "        vertical-align: middle;\n",
              "    }\n",
              "\n",
              "    .dataframe tbody tr th {\n",
              "        vertical-align: top;\n",
              "    }\n",
              "\n",
              "    .dataframe thead th {\n",
              "        text-align: right;\n",
              "    }\n",
              "</style>\n",
              "<table border=\"1\" class=\"dataframe\">\n",
              "  <thead>\n",
              "    <tr style=\"text-align: right;\">\n",
              "      <th></th>\n",
              "      <th>age</th>\n",
              "      <th>bmi</th>\n",
              "      <th>children</th>\n",
              "      <th>charges</th>\n",
              "      <th>sex_0</th>\n",
              "      <th>sex_1</th>\n",
              "      <th>smoker_0</th>\n",
              "      <th>smoker_1</th>\n",
              "      <th>region_0</th>\n",
              "      <th>region_1</th>\n",
              "      <th>region_2</th>\n",
              "      <th>region_3</th>\n",
              "    </tr>\n",
              "  </thead>\n",
              "  <tbody>\n",
              "    <tr>\n",
              "      <th>764</th>\n",
              "      <td>0.586957</td>\n",
              "      <td>0.233748</td>\n",
              "      <td>2</td>\n",
              "      <td>0.127134</td>\n",
              "      <td>0</td>\n",
              "      <td>1</td>\n",
              "      <td>1</td>\n",
              "      <td>0</td>\n",
              "      <td>0</td>\n",
              "      <td>0</td>\n",
              "      <td>0</td>\n",
              "      <td>1</td>\n",
              "    </tr>\n",
              "    <tr>\n",
              "      <th>887</th>\n",
              "      <td>0.391304</td>\n",
              "      <td>0.369216</td>\n",
              "      <td>0</td>\n",
              "      <td>0.066104</td>\n",
              "      <td>0</td>\n",
              "      <td>1</td>\n",
              "      <td>1</td>\n",
              "      <td>0</td>\n",
              "      <td>0</td>\n",
              "      <td>0</td>\n",
              "      <td>1</td>\n",
              "      <td>0</td>\n",
              "    </tr>\n",
              "    <tr>\n",
              "      <th>890</th>\n",
              "      <td>1.000000</td>\n",
              "      <td>0.281560</td>\n",
              "      <td>0</td>\n",
              "      <td>0.450191</td>\n",
              "      <td>0</td>\n",
              "      <td>1</td>\n",
              "      <td>0</td>\n",
              "      <td>1</td>\n",
              "      <td>0</td>\n",
              "      <td>0</td>\n",
              "      <td>1</td>\n",
              "      <td>0</td>\n",
              "    </tr>\n",
              "    <tr>\n",
              "      <th>1293</th>\n",
              "      <td>0.608696</td>\n",
              "      <td>0.249685</td>\n",
              "      <td>3</td>\n",
              "      <td>0.130436</td>\n",
              "      <td>1</td>\n",
              "      <td>0</td>\n",
              "      <td>1</td>\n",
              "      <td>0</td>\n",
              "      <td>0</td>\n",
              "      <td>0</td>\n",
              "      <td>1</td>\n",
              "      <td>0</td>\n",
              "    </tr>\n",
              "    <tr>\n",
              "      <th>259</th>\n",
              "      <td>0.021739</td>\n",
              "      <td>0.422340</td>\n",
              "      <td>0</td>\n",
              "      <td>0.520743</td>\n",
              "      <td>1</td>\n",
              "      <td>0</td>\n",
              "      <td>0</td>\n",
              "      <td>1</td>\n",
              "      <td>0</td>\n",
              "      <td>0</td>\n",
              "      <td>1</td>\n",
              "      <td>0</td>\n",
              "    </tr>\n",
              "  </tbody>\n",
              "</table>\n",
              "</div>"
            ],
            "text/plain": [
              "           age       bmi  children  ...  region_1  region_2  region_3\n",
              "764   0.586957  0.233748         2  ...         0         0         1\n",
              "887   0.391304  0.369216         0  ...         0         1         0\n",
              "890   1.000000  0.281560         0  ...         0         1         0\n",
              "1293  0.608696  0.249685         3  ...         0         1         0\n",
              "259   0.021739  0.422340         0  ...         0         1         0\n",
              "\n",
              "[5 rows x 12 columns]"
            ]
          },
          "metadata": {
            "tags": []
          },
          "execution_count": 26
        }
      ]
    },
    {
      "cell_type": "markdown",
      "metadata": {
        "id": "gV2IQqp-wL-7"
      },
      "source": [
        "Dividing into X_train, y_train, X_test, y_test:"
      ]
    },
    {
      "cell_type": "code",
      "metadata": {
        "id": "g_sDKvfbbZeA"
      },
      "source": [
        "y_train = dataset_train.pop('charges')\n",
        "X_train = dataset_train\n",
        "\n",
        "y_test = dataset_test.pop('charges')\n",
        "X_test = dataset_test\n",
        "\n",
        "ds[columns_to_scale] = standardScaler.fit_transform(ds[columns_to_scale])\n",
        "y = ds.pop('charges')\n",
        "X = ds"
      ],
      "execution_count": null,
      "outputs": []
    },
    {
      "cell_type": "markdown",
      "metadata": {
        "id": "NXl3ihItLRxY"
      },
      "source": [
        "# **Fitting Linear Regression Model:**\n"
      ]
    },
    {
      "cell_type": "code",
      "metadata": {
        "colab": {
          "base_uri": "https://localhost:8080/"
        },
        "id": "LKK_0vWTL8Um",
        "outputId": "5363762f-4175-498a-d779-0a20654b64dd"
      },
      "source": [
        "lm = LinearRegression()\n",
        "scores = cross_val_score(lm, X, y, scoring='r2', cv=10)\n",
        "print(scores)\n",
        "print('Linear Regression model with cross-validation on train set gives mean R-2 score of ',round(scores.mean(),2))"
      ],
      "execution_count": null,
      "outputs": [
        {
          "output_type": "stream",
          "text": [
            "[0.78599896 0.73249853 0.73491249 0.66880787 0.77174242 0.78401994\n",
            " 0.79314562 0.66869189 0.74242455 0.76276472]\n",
            "Linear Regression model with cross-validation on train set gives mean R-2 score of  0.74\n"
          ],
          "name": "stdout"
        }
      ]
    },
    {
      "cell_type": "markdown",
      "metadata": {
        "id": "zs28l-MFQjO-"
      },
      "source": [
        "Lets consider only some features and build a regression model. RFE is used."
      ]
    },
    {
      "cell_type": "code",
      "metadata": {
        "colab": {
          "base_uri": "https://localhost:8080/"
        },
        "id": "CN_Cp9mKQ2rB",
        "outputId": "971ba597-5d18-48f7-9caf-58d98dfeb4cd"
      },
      "source": [
        "# step-1: create a cross-validation scheme\n",
        "from sklearn.model_selection import KFold\n",
        "folds = KFold(n_splits = 10, shuffle = True, random_state = 100)\n",
        "\n",
        "# step-2: specify range of hyperparameters to tune\n",
        "hyper_params = [{'n_features_to_select': list(range(1,12))}]\n",
        "\n",
        "\n",
        "# step-3: perform grid search\n",
        "# 3.1 specify model\n",
        "lm = LinearRegression()\n",
        "lm.fit(X, y)\n",
        "from sklearn.feature_selection import RFE\n",
        "rfe = RFE(lm)\n",
        "\n",
        "# 3.2 call GridSearchCV()\n",
        "from sklearn.model_selection import GridSearchCV\n",
        "model_cv = GridSearchCV(estimator = rfe,\n",
        "                        param_grid = hyper_params,\n",
        "                        scoring= 'r2',\n",
        "                        cv = folds,\n",
        "                        verbose = 1,\n",
        "                        return_train_score=True)\n",
        "\n",
        "# fit the model\n",
        "model_cv.fit(X, y)"
      ],
      "execution_count": null,
      "outputs": [
        {
          "output_type": "stream",
          "text": [
            "Fitting 10 folds for each of 11 candidates, totalling 110 fits\n"
          ],
          "name": "stdout"
        },
        {
          "output_type": "stream",
          "text": [
            "[Parallel(n_jobs=1)]: Using backend SequentialBackend with 1 concurrent workers.\n",
            "[Parallel(n_jobs=1)]: Done 110 out of 110 | elapsed:    1.4s finished\n"
          ],
          "name": "stderr"
        },
        {
          "output_type": "execute_result",
          "data": {
            "text/plain": [
              "GridSearchCV(cv=KFold(n_splits=10, random_state=100, shuffle=True),\n",
              "             error_score=nan,\n",
              "             estimator=RFE(estimator=LinearRegression(copy_X=True,\n",
              "                                                      fit_intercept=True,\n",
              "                                                      n_jobs=None,\n",
              "                                                      normalize=False),\n",
              "                           n_features_to_select=None, step=1, verbose=0),\n",
              "             iid='deprecated', n_jobs=None,\n",
              "             param_grid=[{'n_features_to_select': [1, 2, 3, 4, 5, 6, 7, 8, 9,\n",
              "                                                   10, 11]}],\n",
              "             pre_dispatch='2*n_jobs', refit=True, return_train_score=True,\n",
              "             scoring='r2', verbose=1)"
            ]
          },
          "metadata": {
            "tags": []
          },
          "execution_count": 29
        }
      ]
    },
    {
      "cell_type": "code",
      "metadata": {
        "colab": {
          "base_uri": "https://localhost:8080/",
          "height": 591
        },
        "id": "U2T1yMhFUZNQ",
        "outputId": "0499d124-011e-46b6-e7f3-bcefdc406703"
      },
      "source": [
        "# cv results\n",
        "cv_results = pd.DataFrame(model_cv.cv_results_)\n",
        "cv_results"
      ],
      "execution_count": null,
      "outputs": [
        {
          "output_type": "execute_result",
          "data": {
            "text/html": [
              "<div>\n",
              "<style scoped>\n",
              "    .dataframe tbody tr th:only-of-type {\n",
              "        vertical-align: middle;\n",
              "    }\n",
              "\n",
              "    .dataframe tbody tr th {\n",
              "        vertical-align: top;\n",
              "    }\n",
              "\n",
              "    .dataframe thead th {\n",
              "        text-align: right;\n",
              "    }\n",
              "</style>\n",
              "<table border=\"1\" class=\"dataframe\">\n",
              "  <thead>\n",
              "    <tr style=\"text-align: right;\">\n",
              "      <th></th>\n",
              "      <th>mean_fit_time</th>\n",
              "      <th>std_fit_time</th>\n",
              "      <th>mean_score_time</th>\n",
              "      <th>std_score_time</th>\n",
              "      <th>param_n_features_to_select</th>\n",
              "      <th>params</th>\n",
              "      <th>split0_test_score</th>\n",
              "      <th>split1_test_score</th>\n",
              "      <th>split2_test_score</th>\n",
              "      <th>split3_test_score</th>\n",
              "      <th>split4_test_score</th>\n",
              "      <th>split5_test_score</th>\n",
              "      <th>split6_test_score</th>\n",
              "      <th>split7_test_score</th>\n",
              "      <th>split8_test_score</th>\n",
              "      <th>split9_test_score</th>\n",
              "      <th>mean_test_score</th>\n",
              "      <th>std_test_score</th>\n",
              "      <th>rank_test_score</th>\n",
              "      <th>split0_train_score</th>\n",
              "      <th>split1_train_score</th>\n",
              "      <th>split2_train_score</th>\n",
              "      <th>split3_train_score</th>\n",
              "      <th>split4_train_score</th>\n",
              "      <th>split5_train_score</th>\n",
              "      <th>split6_train_score</th>\n",
              "      <th>split7_train_score</th>\n",
              "      <th>split8_train_score</th>\n",
              "      <th>split9_train_score</th>\n",
              "      <th>mean_train_score</th>\n",
              "      <th>std_train_score</th>\n",
              "    </tr>\n",
              "  </thead>\n",
              "  <tbody>\n",
              "    <tr>\n",
              "      <th>0</th>\n",
              "      <td>0.013801</td>\n",
              "      <td>0.001741</td>\n",
              "      <td>0.001548</td>\n",
              "      <td>0.000177</td>\n",
              "      <td>1</td>\n",
              "      <td>{'n_features_to_select': 1}</td>\n",
              "      <td>0.623730</td>\n",
              "      <td>0.720859</td>\n",
              "      <td>0.526084</td>\n",
              "      <td>0.346647</td>\n",
              "      <td>0.601758</td>\n",
              "      <td>0.703355</td>\n",
              "      <td>0.566889</td>\n",
              "      <td>0.537493</td>\n",
              "      <td>0.628570</td>\n",
              "      <td>0.668433</td>\n",
              "      <td>0.592382</td>\n",
              "      <td>0.102679</td>\n",
              "      <td>11</td>\n",
              "      <td>0.619294</td>\n",
              "      <td>0.605111</td>\n",
              "      <td>0.627496</td>\n",
              "      <td>0.636095</td>\n",
              "      <td>0.621722</td>\n",
              "      <td>0.601721</td>\n",
              "      <td>0.625173</td>\n",
              "      <td>0.628446</td>\n",
              "      <td>0.617394</td>\n",
              "      <td>0.614418</td>\n",
              "      <td>0.619687</td>\n",
              "      <td>0.010048</td>\n",
              "    </tr>\n",
              "    <tr>\n",
              "      <th>1</th>\n",
              "      <td>0.012886</td>\n",
              "      <td>0.001236</td>\n",
              "      <td>0.001708</td>\n",
              "      <td>0.000236</td>\n",
              "      <td>2</td>\n",
              "      <td>{'n_features_to_select': 2}</td>\n",
              "      <td>0.617879</td>\n",
              "      <td>0.821089</td>\n",
              "      <td>0.682899</td>\n",
              "      <td>0.318943</td>\n",
              "      <td>0.601537</td>\n",
              "      <td>0.714474</td>\n",
              "      <td>0.576927</td>\n",
              "      <td>0.538273</td>\n",
              "      <td>0.660871</td>\n",
              "      <td>0.668433</td>\n",
              "      <td>0.620132</td>\n",
              "      <td>0.125240</td>\n",
              "      <td>9</td>\n",
              "      <td>0.617672</td>\n",
              "      <td>0.706910</td>\n",
              "      <td>0.724171</td>\n",
              "      <td>0.634550</td>\n",
              "      <td>0.620451</td>\n",
              "      <td>0.600206</td>\n",
              "      <td>0.666385</td>\n",
              "      <td>0.628348</td>\n",
              "      <td>0.656194</td>\n",
              "      <td>0.614418</td>\n",
              "      <td>0.646930</td>\n",
              "      <td>0.039146</td>\n",
              "    </tr>\n",
              "    <tr>\n",
              "      <th>2</th>\n",
              "      <td>0.012417</td>\n",
              "      <td>0.001342</td>\n",
              "      <td>0.001690</td>\n",
              "      <td>0.000237</td>\n",
              "      <td>3</td>\n",
              "      <td>{'n_features_to_select': 3}</td>\n",
              "      <td>0.665778</td>\n",
              "      <td>0.821089</td>\n",
              "      <td>0.682899</td>\n",
              "      <td>0.354355</td>\n",
              "      <td>0.654545</td>\n",
              "      <td>0.788096</td>\n",
              "      <td>0.646906</td>\n",
              "      <td>-0.116223</td>\n",
              "      <td>0.758024</td>\n",
              "      <td>0.744431</td>\n",
              "      <td>0.599990</td>\n",
              "      <td>0.268288</td>\n",
              "      <td>10</td>\n",
              "      <td>0.726924</td>\n",
              "      <td>0.706910</td>\n",
              "      <td>0.724171</td>\n",
              "      <td>0.675522</td>\n",
              "      <td>0.658029</td>\n",
              "      <td>0.707142</td>\n",
              "      <td>0.757892</td>\n",
              "      <td>-0.095544</td>\n",
              "      <td>0.745491</td>\n",
              "      <td>0.718471</td>\n",
              "      <td>0.632501</td>\n",
              "      <td>0.244307</td>\n",
              "    </tr>\n",
              "    <tr>\n",
              "      <th>3</th>\n",
              "      <td>0.011424</td>\n",
              "      <td>0.003027</td>\n",
              "      <td>0.001613</td>\n",
              "      <td>0.000073</td>\n",
              "      <td>4</td>\n",
              "      <td>{'n_features_to_select': 4}</td>\n",
              "      <td>0.703435</td>\n",
              "      <td>0.849598</td>\n",
              "      <td>0.732590</td>\n",
              "      <td>0.453424</td>\n",
              "      <td>0.769363</td>\n",
              "      <td>0.824576</td>\n",
              "      <td>0.646906</td>\n",
              "      <td>0.687314</td>\n",
              "      <td>0.758024</td>\n",
              "      <td>0.772512</td>\n",
              "      <td>0.719774</td>\n",
              "      <td>0.105961</td>\n",
              "      <td>7</td>\n",
              "      <td>0.751809</td>\n",
              "      <td>0.731083</td>\n",
              "      <td>0.747766</td>\n",
              "      <td>0.765476</td>\n",
              "      <td>0.744405</td>\n",
              "      <td>0.731699</td>\n",
              "      <td>0.757892</td>\n",
              "      <td>0.753661</td>\n",
              "      <td>0.745491</td>\n",
              "      <td>0.741199</td>\n",
              "      <td>0.747048</td>\n",
              "      <td>0.010287</td>\n",
              "    </tr>\n",
              "    <tr>\n",
              "      <th>4</th>\n",
              "      <td>0.009252</td>\n",
              "      <td>0.000634</td>\n",
              "      <td>0.001518</td>\n",
              "      <td>0.000101</td>\n",
              "      <td>5</td>\n",
              "      <td>{'n_features_to_select': 5}</td>\n",
              "      <td>0.705164</td>\n",
              "      <td>0.854819</td>\n",
              "      <td>0.731057</td>\n",
              "      <td>0.450914</td>\n",
              "      <td>0.766559</td>\n",
              "      <td>0.822675</td>\n",
              "      <td>0.647287</td>\n",
              "      <td>0.685322</td>\n",
              "      <td>0.762052</td>\n",
              "      <td>0.775441</td>\n",
              "      <td>0.720129</td>\n",
              "      <td>0.107223</td>\n",
              "      <td>6</td>\n",
              "      <td>0.752138</td>\n",
              "      <td>0.732644</td>\n",
              "      <td>0.749062</td>\n",
              "      <td>0.766121</td>\n",
              "      <td>0.745236</td>\n",
              "      <td>0.732526</td>\n",
              "      <td>0.758610</td>\n",
              "      <td>0.754115</td>\n",
              "      <td>0.745797</td>\n",
              "      <td>0.744862</td>\n",
              "      <td>0.748111</td>\n",
              "      <td>0.009970</td>\n",
              "    </tr>\n",
              "    <tr>\n",
              "      <th>5</th>\n",
              "      <td>0.008213</td>\n",
              "      <td>0.000540</td>\n",
              "      <td>0.001564</td>\n",
              "      <td>0.000179</td>\n",
              "      <td>6</td>\n",
              "      <td>{'n_features_to_select': 6}</td>\n",
              "      <td>0.707978</td>\n",
              "      <td>0.855288</td>\n",
              "      <td>0.733773</td>\n",
              "      <td>0.455114</td>\n",
              "      <td>0.766271</td>\n",
              "      <td>0.822622</td>\n",
              "      <td>0.650954</td>\n",
              "      <td>0.686870</td>\n",
              "      <td>0.762133</td>\n",
              "      <td>0.775737</td>\n",
              "      <td>0.721674</td>\n",
              "      <td>0.105921</td>\n",
              "      <td>5</td>\n",
              "      <td>0.752614</td>\n",
              "      <td>0.732659</td>\n",
              "      <td>0.751283</td>\n",
              "      <td>0.766499</td>\n",
              "      <td>0.745995</td>\n",
              "      <td>0.733288</td>\n",
              "      <td>0.760728</td>\n",
              "      <td>0.754888</td>\n",
              "      <td>0.746331</td>\n",
              "      <td>0.745529</td>\n",
              "      <td>0.748981</td>\n",
              "      <td>0.010192</td>\n",
              "    </tr>\n",
              "    <tr>\n",
              "      <th>6</th>\n",
              "      <td>0.007695</td>\n",
              "      <td>0.000855</td>\n",
              "      <td>0.001597</td>\n",
              "      <td>0.000212</td>\n",
              "      <td>7</td>\n",
              "      <td>{'n_features_to_select': 7}</td>\n",
              "      <td>0.707634</td>\n",
              "      <td>0.854157</td>\n",
              "      <td>0.731266</td>\n",
              "      <td>0.358778</td>\n",
              "      <td>0.776309</td>\n",
              "      <td>0.823206</td>\n",
              "      <td>0.651319</td>\n",
              "      <td>0.690726</td>\n",
              "      <td>0.756097</td>\n",
              "      <td>0.776106</td>\n",
              "      <td>0.712560</td>\n",
              "      <td>0.131169</td>\n",
              "      <td>8</td>\n",
              "      <td>0.754998</td>\n",
              "      <td>0.732710</td>\n",
              "      <td>0.751532</td>\n",
              "      <td>0.710769</td>\n",
              "      <td>0.741493</td>\n",
              "      <td>0.735796</td>\n",
              "      <td>0.760854</td>\n",
              "      <td>0.756908</td>\n",
              "      <td>0.749239</td>\n",
              "      <td>0.747933</td>\n",
              "      <td>0.744223</td>\n",
              "      <td>0.014058</td>\n",
              "    </tr>\n",
              "    <tr>\n",
              "      <th>7</th>\n",
              "      <td>0.006526</td>\n",
              "      <td>0.000440</td>\n",
              "      <td>0.001522</td>\n",
              "      <td>0.000118</td>\n",
              "      <td>8</td>\n",
              "      <td>{'n_features_to_select': 8}</td>\n",
              "      <td>0.708043</td>\n",
              "      <td>0.857963</td>\n",
              "      <td>0.733616</td>\n",
              "      <td>0.463526</td>\n",
              "      <td>0.771543</td>\n",
              "      <td>0.823251</td>\n",
              "      <td>0.652865</td>\n",
              "      <td>0.691259</td>\n",
              "      <td>0.755454</td>\n",
              "      <td>0.776288</td>\n",
              "      <td>0.723381</td>\n",
              "      <td>0.103972</td>\n",
              "      <td>1</td>\n",
              "      <td>0.755070</td>\n",
              "      <td>0.735318</td>\n",
              "      <td>0.751676</td>\n",
              "      <td>0.768406</td>\n",
              "      <td>0.747915</td>\n",
              "      <td>0.735910</td>\n",
              "      <td>0.760903</td>\n",
              "      <td>0.756943</td>\n",
              "      <td>0.749281</td>\n",
              "      <td>0.748028</td>\n",
              "      <td>0.750945</td>\n",
              "      <td>0.009738</td>\n",
              "    </tr>\n",
              "    <tr>\n",
              "      <th>8</th>\n",
              "      <td>0.005419</td>\n",
              "      <td>0.000385</td>\n",
              "      <td>0.001535</td>\n",
              "      <td>0.000108</td>\n",
              "      <td>9</td>\n",
              "      <td>{'n_features_to_select': 9}</td>\n",
              "      <td>0.708043</td>\n",
              "      <td>0.857963</td>\n",
              "      <td>0.733422</td>\n",
              "      <td>0.463526</td>\n",
              "      <td>0.771543</td>\n",
              "      <td>0.823251</td>\n",
              "      <td>0.652391</td>\n",
              "      <td>0.691259</td>\n",
              "      <td>0.755454</td>\n",
              "      <td>0.776288</td>\n",
              "      <td>0.723314</td>\n",
              "      <td>0.104003</td>\n",
              "      <td>2</td>\n",
              "      <td>0.755070</td>\n",
              "      <td>0.735318</td>\n",
              "      <td>0.751722</td>\n",
              "      <td>0.768406</td>\n",
              "      <td>0.747915</td>\n",
              "      <td>0.735910</td>\n",
              "      <td>0.760978</td>\n",
              "      <td>0.756943</td>\n",
              "      <td>0.749281</td>\n",
              "      <td>0.748028</td>\n",
              "      <td>0.750957</td>\n",
              "      <td>0.009746</td>\n",
              "    </tr>\n",
              "    <tr>\n",
              "      <th>9</th>\n",
              "      <td>0.006249</td>\n",
              "      <td>0.002725</td>\n",
              "      <td>0.001544</td>\n",
              "      <td>0.000177</td>\n",
              "      <td>10</td>\n",
              "      <td>{'n_features_to_select': 10}</td>\n",
              "      <td>0.708111</td>\n",
              "      <td>0.857980</td>\n",
              "      <td>0.733422</td>\n",
              "      <td>0.462379</td>\n",
              "      <td>0.771382</td>\n",
              "      <td>0.822707</td>\n",
              "      <td>0.652391</td>\n",
              "      <td>0.691180</td>\n",
              "      <td>0.754747</td>\n",
              "      <td>0.776428</td>\n",
              "      <td>0.723073</td>\n",
              "      <td>0.104219</td>\n",
              "      <td>3</td>\n",
              "      <td>0.755070</td>\n",
              "      <td>0.735344</td>\n",
              "      <td>0.751722</td>\n",
              "      <td>0.768420</td>\n",
              "      <td>0.747967</td>\n",
              "      <td>0.736013</td>\n",
              "      <td>0.760978</td>\n",
              "      <td>0.756986</td>\n",
              "      <td>0.749361</td>\n",
              "      <td>0.748042</td>\n",
              "      <td>0.750990</td>\n",
              "      <td>0.009728</td>\n",
              "    </tr>\n",
              "    <tr>\n",
              "      <th>10</th>\n",
              "      <td>0.004351</td>\n",
              "      <td>0.004085</td>\n",
              "      <td>0.001526</td>\n",
              "      <td>0.000155</td>\n",
              "      <td>11</td>\n",
              "      <td>{'n_features_to_select': 11}</td>\n",
              "      <td>0.708111</td>\n",
              "      <td>0.857980</td>\n",
              "      <td>0.733422</td>\n",
              "      <td>0.462379</td>\n",
              "      <td>0.771382</td>\n",
              "      <td>0.822707</td>\n",
              "      <td>0.652391</td>\n",
              "      <td>0.691180</td>\n",
              "      <td>0.754747</td>\n",
              "      <td>0.776428</td>\n",
              "      <td>0.723073</td>\n",
              "      <td>0.104219</td>\n",
              "      <td>3</td>\n",
              "      <td>0.755070</td>\n",
              "      <td>0.735344</td>\n",
              "      <td>0.751722</td>\n",
              "      <td>0.768420</td>\n",
              "      <td>0.747967</td>\n",
              "      <td>0.736013</td>\n",
              "      <td>0.760978</td>\n",
              "      <td>0.756986</td>\n",
              "      <td>0.749361</td>\n",
              "      <td>0.748042</td>\n",
              "      <td>0.750990</td>\n",
              "      <td>0.009728</td>\n",
              "    </tr>\n",
              "  </tbody>\n",
              "</table>\n",
              "</div>"
            ],
            "text/plain": [
              "    mean_fit_time  std_fit_time  ...  mean_train_score  std_train_score\n",
              "0        0.013801      0.001741  ...          0.619687         0.010048\n",
              "1        0.012886      0.001236  ...          0.646930         0.039146\n",
              "2        0.012417      0.001342  ...          0.632501         0.244307\n",
              "3        0.011424      0.003027  ...          0.747048         0.010287\n",
              "4        0.009252      0.000634  ...          0.748111         0.009970\n",
              "5        0.008213      0.000540  ...          0.748981         0.010192\n",
              "6        0.007695      0.000855  ...          0.744223         0.014058\n",
              "7        0.006526      0.000440  ...          0.750945         0.009738\n",
              "8        0.005419      0.000385  ...          0.750957         0.009746\n",
              "9        0.006249      0.002725  ...          0.750990         0.009728\n",
              "10       0.004351      0.004085  ...          0.750990         0.009728\n",
              "\n",
              "[11 rows x 31 columns]"
            ]
          },
          "metadata": {
            "tags": []
          },
          "execution_count": 30
        }
      ]
    },
    {
      "cell_type": "code",
      "metadata": {
        "colab": {
          "base_uri": "https://localhost:8080/",
          "height": 421
        },
        "id": "YGKrzn8HU3y-",
        "outputId": "0b8217c3-ba5d-4399-e634-3ff92bfd23c4"
      },
      "source": [
        "# plotting cv results\n",
        "plt.figure(figsize=(16,6))\n",
        "\n",
        "plt.plot(cv_results[\"param_n_features_to_select\"], cv_results[\"mean_test_score\"])\n",
        "plt.plot(cv_results[\"param_n_features_to_select\"], cv_results[\"mean_train_score\"])\n",
        "plt.xlabel('number of features')\n",
        "plt.ylabel('r-squared')\n",
        "plt.title(\"Optimal Number of Features\")\n",
        "plt.legend(['test score', 'train score'], loc='upper left')"
      ],
      "execution_count": null,
      "outputs": [
        {
          "output_type": "execute_result",
          "data": {
            "text/plain": [
              "<matplotlib.legend.Legend at 0x7fc300e54d10>"
            ]
          },
          "metadata": {
            "tags": []
          },
          "execution_count": 31
        },
        {
          "output_type": "display_data",
          "data": {
            "image/png": "[encoded data removed]",
            "text/plain": [
              "<Figure size 1152x432 with 1 Axes>"
            ]
          },
          "metadata": {
            "tags": [],
            "needs_background": "light"
          }
        }
      ]
    },
    {
      "cell_type": "markdown",
      "metadata": {
        "id": "ud0P03HBeGwF"
      },
      "source": [
        "We can choose the number of optimal features from the above plot"
      ]
    },
    {
      "cell_type": "code",
      "metadata": {
        "colab": {
          "base_uri": "https://localhost:8080/"
        },
        "id": "IO9nmP49Va8c",
        "outputId": "23869b17-4765-4c3b-c506-7b0b5cb4a1d5"
      },
      "source": [
        "#r2 score on test-train set without cross-validation\n",
        "n_features_optimal = 4\n",
        "\n",
        "lm = LinearRegression()\n",
        "lm.fit(X_train, y_train)\n",
        "\n",
        "rfe = RFE(lm, n_features_to_select=n_features_optimal)\n",
        "rfe = rfe.fit(X_train, y_train)\n",
        "\n",
        "# predict prices of X_test\n",
        "y_pred = rfe.predict(X_test)\n",
        "from sklearn.metrics import r2_score\n",
        "r2 = r2_score(y_test, y_pred)\n",
        "print(round(r2,2))"
      ],
      "execution_count": null,
      "outputs": [
        {
          "output_type": "stream",
          "text": [
            "0.77\n"
          ],
          "name": "stdout"
        }
      ]
    },
    {
      "cell_type": "code",
      "metadata": {
        "colab": {
          "base_uri": "https://localhost:8080/"
        },
        "id": "f8msIx5etXmW",
        "outputId": "778f09b4-429c-45cc-fbea-3e26bedc0a48"
      },
      "source": [
        "# tuples of (feature name, whether selected, ranking)\n",
        "# note that the 'rank' is > 1 for non-selected features\n",
        "list(zip(X_train.columns,rfe.support_,rfe.ranking_))"
      ],
      "execution_count": null,
      "outputs": [
        {
          "output_type": "execute_result",
          "data": {
            "text/plain": [
              "[('age', True, 1),\n",
              " ('bmi', True, 1),\n",
              " ('children', False, 3),\n",
              " ('sex_0', False, 8),\n",
              " ('sex_1', False, 7),\n",
              " ('smoker_0', True, 1),\n",
              " ('smoker_1', True, 1),\n",
              " ('region_0', False, 4),\n",
              " ('region_1', False, 5),\n",
              " ('region_2', False, 6),\n",
              " ('region_3', False, 2)]"
            ]
          },
          "metadata": {
            "tags": []
          },
          "execution_count": 33
        }
      ]
    },
    {
      "cell_type": "markdown",
      "metadata": {
        "id": "plg2OpPAuGnI"
      },
      "source": [
        "Features not selected show 'False'\n"
      ]
    },
    {
      "cell_type": "code",
      "metadata": {
        "colab": {
          "base_uri": "https://localhost:8080/"
        },
        "id": "iSsgnY8kqct7",
        "outputId": "969d2572-18aa-45ea-a6dc-d6ea25c73119"
      },
      "source": [
        "#cross-validation mean score with RFE:\n",
        "scores_rfe = cross_val_score(rfe, X, y, scoring='r2', cv=10)\n",
        "print(scores_rfe)\n",
        "print('Linear regression after RFE and on cross-validation gives mean R-2 score ',round(scores_rfe.mean(),2))"
      ],
      "execution_count": null,
      "outputs": [
        {
          "output_type": "stream",
          "text": [
            "[0.78830669 0.73116608 0.73547149 0.67682853 0.76783033 0.77553635\n",
            " 0.78555856 0.66752792 0.7454301  0.75863314]\n",
            "Linear regression after RFE and on cross-validation gives mean R-2 score  0.74\n"
          ],
          "name": "stdout"
        }
      ]
    },
    {
      "cell_type": "markdown",
      "metadata": {
        "id": "ItLEcpncfJoe"
      },
      "source": [
        "# **Fitting Polynomial Regression model:**\n"
      ]
    },
    {
      "cell_type": "code",
      "metadata": {
        "id": "njju7OgwfOGr"
      },
      "source": [
        "degrees = [1, 2, 3, 4, 5, 6]\n",
        "\n",
        "# initialise y_train_pred and y_test_pred matrices to store the train and test predictions\n",
        "# each row is a data point, each column a prediction using a polynomial of some degree\n",
        "import numpy as np\n",
        "y_train_pred = np.zeros((len(X_train), len(degrees)))\n",
        "y_test_pred = np.zeros((len(X_test), len(degrees)))\n",
        "from sklearn.pipeline import make_pipeline\n",
        "from sklearn.preprocessing import PolynomialFeatures\n",
        "\n",
        "for i, degree in enumerate(degrees):\n",
        "\n",
        "    # make pipeline: create features, then feed them to linear_reg model\n",
        "    model = make_pipeline(PolynomialFeatures(degree), LinearRegression())\n",
        "    model.fit(X_train, y_train)\n",
        "\n",
        "    # predict on test and train data\n",
        "    # store the predictions of each degree in the corresponding column\n",
        "    y_train_pred[:, i] = model.predict(X_train)\n",
        "    y_test_pred[:, i] = model.predict(X_test)"
      ],
      "execution_count": null,
      "outputs": []
    },
    {
      "cell_type": "code",
      "metadata": {
        "colab": {
          "base_uri": "https://localhost:8080/"
        },
        "id": "L_QG7XI6hbBT",
        "outputId": "27fd0643-a048-474d-96d3-b246fcb53478"
      },
      "source": [
        "# compare r2 for train and test sets (for all polynomial fits)\n",
        "print(\"R-squared values: \\n\")\n",
        "\n",
        "for i, degree in enumerate(degrees):\n",
        "    train_r2 = round(r2_score(y_train, y_train_pred[:, i]), 2)\n",
        "    test_r2 = round(r2_score(y_test, y_test_pred[:, i]), 2)\n",
        "    print(\"Polynomial degree {0}: train score={1}, test score={2}\".format(degree, train_r2, test_r2))"
      ],
      "execution_count": null,
      "outputs": [
        {
          "output_type": "stream",
          "text": [
            "R-squared values: \n",
            "\n",
            "Polynomial degree 1: train score=0.74, test score=0.78\n",
            "Polynomial degree 2: train score=0.84, test score=0.86\n",
            "Polynomial degree 3: train score=0.85, test score=0.84\n",
            "Polynomial degree 4: train score=0.88, test score=0.73\n",
            "Polynomial degree 5: train score=0.91, test score=-0.54\n",
            "Polynomial degree 6: train score=0.95, test score=-43762.2\n"
          ],
          "name": "stdout"
        }
      ]
    },
    {
      "cell_type": "markdown",
      "metadata": {
        "id": "r2w6vcNikf_i"
      },
      "source": [
        "A polynomial fit of degree 2 gives a higher test score, while that of degree >4 tends to overfit (High train score but low test score)"
      ]
    },
    {
      "cell_type": "markdown",
      "metadata": {
        "id": "mR1dl3OKo09I"
      },
      "source": [
        "Final Polynomial Regression model with degree = 2:"
      ]
    },
    {
      "cell_type": "code",
      "metadata": {
        "colab": {
          "base_uri": "https://localhost:8080/"
        },
        "id": "YVYhAPeso7Im",
        "outputId": "e00a304f-de4c-4515-8fc6-a2490fce2697"
      },
      "source": [
        "#without cross validation\n",
        "pr = make_pipeline(PolynomialFeatures(degree = 2), LinearRegression())\n",
        "pr.fit(X_train, y_train)\n",
        "y_pred = pr.predict(X_test)\n",
        "from sklearn.metrics import r2_score\n",
        "r2_pr = round(r2_score(y_test, y_pred),2)\n",
        "print('R-2 score on test set for polynomial regression is', r2_pr)\n"
      ],
      "execution_count": null,
      "outputs": [
        {
          "output_type": "stream",
          "text": [
            "R-2 score on test set for polynomial regression is 0.86\n"
          ],
          "name": "stdout"
        }
      ]
    },
    {
      "cell_type": "code",
      "metadata": {
        "colab": {
          "base_uri": "https://localhost:8080/"
        },
        "id": "DOn5LJvrsEoL",
        "outputId": "a3c41398-3075-4d8c-bfb1-febe73e0e56a"
      },
      "source": [
        "#with cross validation\n",
        "scores_pr = cross_val_score(pr, X, y, scoring='r2', cv= 10)\n",
        "print(scores_pr)\n",
        "print('On cross validation on the train set, Polynomial regression gives mean R-2 score ',round(scores_pr.mean(),2))"
      ],
      "execution_count": null,
      "outputs": [
        {
          "output_type": "stream",
          "text": [
            "[0.85872303 0.84486959 0.83059821 0.75829803 0.86751739 0.90119182\n",
            " 0.85211085 0.78161268 0.83905833 0.82846089]\n",
            "On cross validation on the train set, Polynomial regression gives mean R-2 score  0.84\n"
          ],
          "name": "stdout"
        }
      ]
    },
    {
      "cell_type": "markdown",
      "metadata": {
        "id": "jic9CH9JuWO3"
      },
      "source": [
        "# **Artificial Neural Network:**\n",
        "Linear regression gives a R-2 score of about 0.76 while Polynomial regression gives R-2 score of 0.86. Let's check the score for ANN Regression."
      ]
    },
    {
      "cell_type": "code",
      "metadata": {
        "id": "dMJ3VDu0siz4"
      },
      "source": [
        "import tensorflow\n",
        "tensorflow.random.set_seed(1)\n",
        "from tensorflow.python.keras.layers import Dense\n",
        "from tensorflow.keras.layers import Dropout\n",
        "from tensorflow.python.keras.models import Sequential\n",
        "from tensorflow.python.keras.wrappers.scikit_learn import KerasRegressor\n",
        "from sklearn.metrics import mean_absolute_error\n",
        "from sklearn.metrics import mean_squared_error"
      ],
      "execution_count": null,
      "outputs": []
    },
    {
      "cell_type": "code",
      "metadata": {
        "colab": {
          "base_uri": "https://localhost:8080/",
          "height": 202
        },
        "id": "oUYJnJ-gE7eV",
        "outputId": "303252aa-abe0-44ea-992c-8560fd1a7d9e"
      },
      "source": [
        "ds_ann = pd.read_csv('https://raw.githubusercontent.com/ammishra08/MachineLearning/master/Datasets/insurance.csv', sep = ',')\n",
        "ds_ann.head()\n"
      ],
      "execution_count": null,
      "outputs": [
        {
          "output_type": "execute_result",
          "data": {
            "text/html": [
              "<div>\n",
              "<style scoped>\n",
              "    .dataframe tbody tr th:only-of-type {\n",
              "        vertical-align: middle;\n",
              "    }\n",
              "\n",
              "    .dataframe tbody tr th {\n",
              "        vertical-align: top;\n",
              "    }\n",
              "\n",
              "    .dataframe thead th {\n",
              "        text-align: right;\n",
              "    }\n",
              "</style>\n",
              "<table border=\"1\" class=\"dataframe\">\n",
              "  <thead>\n",
              "    <tr style=\"text-align: right;\">\n",
              "      <th></th>\n",
              "      <th>age</th>\n",
              "      <th>sex</th>\n",
              "      <th>bmi</th>\n",
              "      <th>children</th>\n",
              "      <th>smoker</th>\n",
              "      <th>region</th>\n",
              "      <th>charges</th>\n",
              "    </tr>\n",
              "  </thead>\n",
              "  <tbody>\n",
              "    <tr>\n",
              "      <th>0</th>\n",
              "      <td>19</td>\n",
              "      <td>female</td>\n",
              "      <td>27.900</td>\n",
              "      <td>0</td>\n",
              "      <td>yes</td>\n",
              "      <td>southwest</td>\n",
              "      <td>16884.92400</td>\n",
              "    </tr>\n",
              "    <tr>\n",
              "      <th>1</th>\n",
              "      <td>18</td>\n",
              "      <td>male</td>\n",
              "      <td>33.770</td>\n",
              "      <td>1</td>\n",
              "      <td>no</td>\n",
              "      <td>southeast</td>\n",
              "      <td>1725.55230</td>\n",
              "    </tr>\n",
              "    <tr>\n",
              "      <th>2</th>\n",
              "      <td>28</td>\n",
              "      <td>male</td>\n",
              "      <td>33.000</td>\n",
              "      <td>3</td>\n",
              "      <td>no</td>\n",
              "      <td>southeast</td>\n",
              "      <td>4449.46200</td>\n",
              "    </tr>\n",
              "    <tr>\n",
              "      <th>3</th>\n",
              "      <td>33</td>\n",
              "      <td>male</td>\n",
              "      <td>22.705</td>\n",
              "      <td>0</td>\n",
              "      <td>no</td>\n",
              "      <td>northwest</td>\n",
              "      <td>21984.47061</td>\n",
              "    </tr>\n",
              "    <tr>\n",
              "      <th>4</th>\n",
              "      <td>32</td>\n",
              "      <td>male</td>\n",
              "      <td>28.880</td>\n",
              "      <td>0</td>\n",
              "      <td>no</td>\n",
              "      <td>northwest</td>\n",
              "      <td>3866.85520</td>\n",
              "    </tr>\n",
              "  </tbody>\n",
              "</table>\n",
              "</div>"
            ],
            "text/plain": [
              "   age     sex     bmi  children smoker     region      charges\n",
              "0   19  female  27.900         0    yes  southwest  16884.92400\n",
              "1   18    male  33.770         1     no  southeast   1725.55230\n",
              "2   28    male  33.000         3     no  southeast   4449.46200\n",
              "3   33    male  22.705         0     no  northwest  21984.47061\n",
              "4   32    male  28.880         0     no  northwest   3866.85520"
            ]
          },
          "metadata": {
            "tags": []
          },
          "execution_count": 40
        }
      ]
    },
    {
      "cell_type": "code",
      "metadata": {
        "colab": {
          "base_uri": "https://localhost:8080/",
          "height": 202
        },
        "id": "YWwYNOgcHJCG",
        "outputId": "f00a22b4-1e87-4952-bfcb-10bf39cd5544"
      },
      "source": [
        "ds_ann['sex'] = ds_ann['sex'].map({'male': 0, 'female': 1})\n",
        "ds_ann['smoker'] = ds_ann['smoker'].map({'no': 0, 'yes': 1})\n",
        "ds_ann['region'] = ds_ann['region'].map({'southwest': 1, 'southeast': 2, 'northwest': 3, 'northeast': 4})\n",
        "ds_ann.head()"
      ],
      "execution_count": null,
      "outputs": [
        {
          "output_type": "execute_result",
          "data": {
            "text/html": [
              "<div>\n",
              "<style scoped>\n",
              "    .dataframe tbody tr th:only-of-type {\n",
              "        vertical-align: middle;\n",
              "    }\n",
              "\n",
              "    .dataframe tbody tr th {\n",
              "        vertical-align: top;\n",
              "    }\n",
              "\n",
              "    .dataframe thead th {\n",
              "        text-align: right;\n",
              "    }\n",
              "</style>\n",
              "<table border=\"1\" class=\"dataframe\">\n",
              "  <thead>\n",
              "    <tr style=\"text-align: right;\">\n",
              "      <th></th>\n",
              "      <th>age</th>\n",
              "      <th>sex</th>\n",
              "      <th>bmi</th>\n",
              "      <th>children</th>\n",
              "      <th>smoker</th>\n",
              "      <th>region</th>\n",
              "      <th>charges</th>\n",
              "    </tr>\n",
              "  </thead>\n",
              "  <tbody>\n",
              "    <tr>\n",
              "      <th>0</th>\n",
              "      <td>19</td>\n",
              "      <td>1</td>\n",
              "      <td>27.900</td>\n",
              "      <td>0</td>\n",
              "      <td>1</td>\n",
              "      <td>1</td>\n",
              "      <td>16884.92400</td>\n",
              "    </tr>\n",
              "    <tr>\n",
              "      <th>1</th>\n",
              "      <td>18</td>\n",
              "      <td>0</td>\n",
              "      <td>33.770</td>\n",
              "      <td>1</td>\n",
              "      <td>0</td>\n",
              "      <td>2</td>\n",
              "      <td>1725.55230</td>\n",
              "    </tr>\n",
              "    <tr>\n",
              "      <th>2</th>\n",
              "      <td>28</td>\n",
              "      <td>0</td>\n",
              "      <td>33.000</td>\n",
              "      <td>3</td>\n",
              "      <td>0</td>\n",
              "      <td>2</td>\n",
              "      <td>4449.46200</td>\n",
              "    </tr>\n",
              "    <tr>\n",
              "      <th>3</th>\n",
              "      <td>33</td>\n",
              "      <td>0</td>\n",
              "      <td>22.705</td>\n",
              "      <td>0</td>\n",
              "      <td>0</td>\n",
              "      <td>3</td>\n",
              "      <td>21984.47061</td>\n",
              "    </tr>\n",
              "    <tr>\n",
              "      <th>4</th>\n",
              "      <td>32</td>\n",
              "      <td>0</td>\n",
              "      <td>28.880</td>\n",
              "      <td>0</td>\n",
              "      <td>0</td>\n",
              "      <td>3</td>\n",
              "      <td>3866.85520</td>\n",
              "    </tr>\n",
              "  </tbody>\n",
              "</table>\n",
              "</div>"
            ],
            "text/plain": [
              "   age  sex     bmi  children  smoker  region      charges\n",
              "0   19    1  27.900         0       1       1  16884.92400\n",
              "1   18    0  33.770         1       0       2   1725.55230\n",
              "2   28    0  33.000         3       0       2   4449.46200\n",
              "3   33    0  22.705         0       0       3  21984.47061\n",
              "4   32    0  28.880         0       0       3   3866.85520"
            ]
          },
          "metadata": {
            "tags": []
          },
          "execution_count": 41
        }
      ]
    },
    {
      "cell_type": "code",
      "metadata": {
        "id": "I0XLo-aPHdrQ"
      },
      "source": [
        "X = ds_ann.drop(['charges'],axis=1)\n",
        "y = ds_ann['charges']\n",
        "X_train, X_test, y_train, y_test = train_test_split(X, y, test_size = 0.2, random_state = 0)"
      ],
      "execution_count": null,
      "outputs": []
    },
    {
      "cell_type": "code",
      "metadata": {
        "id": "KLypyVEm4ZRx"
      },
      "source": [
        "#columns_to_scale = ['age','bmi']\n",
        "#X_train[columns_to_scale] = standardScaler.fit_transform(X_train[columns_to_scale])\n",
        "#X_test[columns_to_scale] = standardScaler.fit_transform(X_test[columns_to_scale])"
      ],
      "execution_count": null,
      "outputs": []
    },
    {
      "cell_type": "code",
      "metadata": {
        "colab": {
          "base_uri": "https://localhost:8080/"
        },
        "id": "JcX4tDm4Iw45",
        "outputId": "202135c5-e9dd-4e52-b10e-93adb1fa2152"
      },
      "source": [
        "model = Sequential()\n",
        "model.add(Dense(units=64, activation='relu', input_shape=[len(X.keys())]))\n",
        "model.add(Dense(units=128, activation='relu'))\n",
        "model.add(Dense(units=256, activation='relu'))\n",
        "model.add(Dense(units=1))\n",
        "model.summary()"
      ],
      "execution_count": null,
      "outputs": [
        {
          "output_type": "stream",
          "text": [
            "Model: \"sequential\"\n",
            "_________________________________________________________________\n",
            "Layer (type)                 Output Shape              Param #   \n",
            "=================================================================\n",
            "dense (Dense)                (None, 64)                448       \n",
            "_________________________________________________________________\n",
            "dense_1 (Dense)              (None, 128)               8320      \n",
            "_________________________________________________________________\n",
            "dense_2 (Dense)              (None, 256)               33024     \n",
            "_________________________________________________________________\n",
            "dense_3 (Dense)              (None, 1)                 257       \n",
            "=================================================================\n",
            "Total params: 42,049\n",
            "Trainable params: 42,049\n",
            "Non-trainable params: 0\n",
            "_________________________________________________________________\n"
          ],
          "name": "stdout"
        }
      ]
    },
    {
      "cell_type": "code",
      "metadata": {
        "colab": {
          "base_uri": "https://localhost:8080/"
        },
        "id": "TtIqr83LymDr",
        "outputId": "fe1d3eeb-8554-4e3e-c74a-6814beb09f21"
      },
      "source": [
        "len(X_train)"
      ],
      "execution_count": null,
      "outputs": [
        {
          "output_type": "execute_result",
          "data": {
            "text/plain": [
              "1070"
            ]
          },
          "metadata": {
            "tags": []
          },
          "execution_count": 45
        }
      ]
    },
    {
      "cell_type": "code",
      "metadata": {
        "colab": {
          "base_uri": "https://localhost:8080/"
        },
        "id": "0qdTG6lMKSbB",
        "outputId": "71eae75d-6c7d-48a4-9dbc-49076b0fae1f"
      },
      "source": [
        "from keras.optimizers import RMSprop\n",
        "optimizers = RMSprop(learning_rate=0.01)\n",
        "model.compile(loss='mse', optimizer=optimizers, metrics=['mse'])\n",
        "ann = model.fit(X_train, y_train, epochs=500, batch_size=70,validation_split=0.15)\n",
        "y_pred = model.predict(X_test)\n"
      ],
      "execution_count": null,
      "outputs": [
        {
          "output_type": "stream",
          "text": [
            "Epoch 1/500\n",
            "13/13 [==============================] - 1s 15ms/step - loss: 176914656.0000 - mse: 176914656.0000 - val_loss: 162013056.0000 - val_mse: 162013056.0000\n",
            "Epoch 2/500\n",
            "13/13 [==============================] - 0s 3ms/step - loss: 125838456.0000 - mse: 125838456.0000 - val_loss: 184456768.0000 - val_mse: 184456768.0000\n",
            "Epoch 3/500\n",
            "13/13 [==============================] - 0s 3ms/step - loss: 121964680.0000 - mse: 121964680.0000 - val_loss: 159169328.0000 - val_mse: 159169312.0000\n",
            "Epoch 4/500\n",
            "13/13 [==============================] - 0s 3ms/step - loss: 123943880.0000 - mse: 123943880.0000 - val_loss: 157661728.0000 - val_mse: 157661728.0000\n",
            "Epoch 5/500\n",
            "13/13 [==============================] - 0s 3ms/step - loss: 122546896.0000 - mse: 122546912.0000 - val_loss: 161576000.0000 - val_mse: 161576000.0000\n",
            "Epoch 6/500\n",
            "13/13 [==============================] - 0s 3ms/step - loss: 119972192.0000 - mse: 119972192.0000 - val_loss: 159129008.0000 - val_mse: 159129008.0000\n",
            "Epoch 7/500\n",
            "13/13 [==============================] - 0s 3ms/step - loss: 116895136.0000 - mse: 116895128.0000 - val_loss: 155236944.0000 - val_mse: 155236944.0000\n",
            "Epoch 8/500\n",
            "13/13 [==============================] - 0s 3ms/step - loss: 116542888.0000 - mse: 116542888.0000 - val_loss: 159474944.0000 - val_mse: 159474944.0000\n",
            "Epoch 9/500\n",
            "13/13 [==============================] - 0s 3ms/step - loss: 113277336.0000 - mse: 113277336.0000 - val_loss: 149855424.0000 - val_mse: 149855424.0000\n",
            "Epoch 10/500\n",
            "13/13 [==============================] - 0s 3ms/step - loss: 113325488.0000 - mse: 113325488.0000 - val_loss: 144955056.0000 - val_mse: 144955056.0000\n",
            "Epoch 11/500\n",
            "13/13 [==============================] - 0s 3ms/step - loss: 107947112.0000 - mse: 107947120.0000 - val_loss: 140740592.0000 - val_mse: 140740608.0000\n",
            "Epoch 12/500\n",
            "13/13 [==============================] - 0s 3ms/step - loss: 103442168.0000 - mse: 103442168.0000 - val_loss: 132280408.0000 - val_mse: 132280408.0000\n",
            "Epoch 13/500\n",
            "13/13 [==============================] - 0s 3ms/step - loss: 98886368.0000 - mse: 98886368.0000 - val_loss: 129499480.0000 - val_mse: 129499480.0000\n",
            "Epoch 14/500\n",
            "13/13 [==============================] - 0s 3ms/step - loss: 87006424.0000 - mse: 87006424.0000 - val_loss: 137287248.0000 - val_mse: 137287248.0000\n",
            "Epoch 15/500\n",
            "13/13 [==============================] - 0s 3ms/step - loss: 76168952.0000 - mse: 76168952.0000 - val_loss: 91684864.0000 - val_mse: 91684864.0000\n",
            "Epoch 16/500\n",
            "13/13 [==============================] - 0s 3ms/step - loss: 62673000.0000 - mse: 62673000.0000 - val_loss: 153333728.0000 - val_mse: 153333728.0000\n",
            "Epoch 17/500\n",
            "13/13 [==============================] - 0s 3ms/step - loss: 60751816.0000 - mse: 60751816.0000 - val_loss: 88620192.0000 - val_mse: 88620192.0000\n",
            "Epoch 18/500\n",
            "13/13 [==============================] - 0s 3ms/step - loss: 52417220.0000 - mse: 52417220.0000 - val_loss: 88484672.0000 - val_mse: 88484672.0000\n",
            "Epoch 19/500\n",
            "13/13 [==============================] - 0s 4ms/step - loss: 45683568.0000 - mse: 45683568.0000 - val_loss: 127702824.0000 - val_mse: 127702824.0000\n",
            "Epoch 20/500\n",
            "13/13 [==============================] - 0s 3ms/step - loss: 45529844.0000 - mse: 45529844.0000 - val_loss: 55940452.0000 - val_mse: 55940452.0000\n",
            "Epoch 21/500\n",
            "13/13 [==============================] - 0s 3ms/step - loss: 54469996.0000 - mse: 54469996.0000 - val_loss: 63059732.0000 - val_mse: 63059732.0000\n",
            "Epoch 22/500\n",
            "13/13 [==============================] - 0s 3ms/step - loss: 42222044.0000 - mse: 42222044.0000 - val_loss: 95316688.0000 - val_mse: 95316688.0000\n",
            "Epoch 23/500\n",
            "13/13 [==============================] - 0s 3ms/step - loss: 47907636.0000 - mse: 47907636.0000 - val_loss: 59375476.0000 - val_mse: 59375476.0000\n",
            "Epoch 24/500\n",
            "13/13 [==============================] - 0s 3ms/step - loss: 44317252.0000 - mse: 44317252.0000 - val_loss: 57459744.0000 - val_mse: 57459744.0000\n",
            "Epoch 25/500\n",
            "13/13 [==============================] - 0s 4ms/step - loss: 46019904.0000 - mse: 46019908.0000 - val_loss: 63332608.0000 - val_mse: 63332608.0000\n",
            "Epoch 26/500\n",
            "13/13 [==============================] - 0s 4ms/step - loss: 44708880.0000 - mse: 44708880.0000 - val_loss: 81328576.0000 - val_mse: 81328576.0000\n",
            "Epoch 27/500\n",
            "13/13 [==============================] - 0s 3ms/step - loss: 45735272.0000 - mse: 45735272.0000 - val_loss: 53902360.0000 - val_mse: 53902360.0000\n",
            "Epoch 28/500\n",
            "13/13 [==============================] - 0s 4ms/step - loss: 39282532.0000 - mse: 39282532.0000 - val_loss: 68047640.0000 - val_mse: 68047640.0000\n",
            "Epoch 29/500\n",
            "13/13 [==============================] - 0s 4ms/step - loss: 45415604.0000 - mse: 45415604.0000 - val_loss: 63787720.0000 - val_mse: 63787720.0000\n",
            "Epoch 30/500\n",
            "13/13 [==============================] - 0s 3ms/step - loss: 48461096.0000 - mse: 48461096.0000 - val_loss: 53302920.0000 - val_mse: 53302920.0000\n",
            "Epoch 31/500\n",
            "13/13 [==============================] - 0s 3ms/step - loss: 35804160.0000 - mse: 35804160.0000 - val_loss: 68506648.0000 - val_mse: 68506648.0000\n",
            "Epoch 32/500\n",
            "13/13 [==============================] - 0s 3ms/step - loss: 43657596.0000 - mse: 43657596.0000 - val_loss: 63985484.0000 - val_mse: 63985484.0000\n",
            "Epoch 33/500\n",
            "13/13 [==============================] - 0s 4ms/step - loss: 39853260.0000 - mse: 39853260.0000 - val_loss: 59937124.0000 - val_mse: 59937124.0000\n",
            "Epoch 34/500\n",
            "13/13 [==============================] - 0s 4ms/step - loss: 38255300.0000 - mse: 38255300.0000 - val_loss: 55793904.0000 - val_mse: 55793904.0000\n",
            "Epoch 35/500\n",
            "13/13 [==============================] - 0s 3ms/step - loss: 41588472.0000 - mse: 41588472.0000 - val_loss: 66873700.0000 - val_mse: 66873700.0000\n",
            "Epoch 36/500\n",
            "13/13 [==============================] - 0s 3ms/step - loss: 40798336.0000 - mse: 40798336.0000 - val_loss: 80687552.0000 - val_mse: 80687552.0000\n",
            "Epoch 37/500\n",
            "13/13 [==============================] - 0s 3ms/step - loss: 40662480.0000 - mse: 40662480.0000 - val_loss: 51814024.0000 - val_mse: 51814024.0000\n",
            "Epoch 38/500\n",
            "13/13 [==============================] - 0s 3ms/step - loss: 37593032.0000 - mse: 37593032.0000 - val_loss: 149607184.0000 - val_mse: 149607184.0000\n",
            "Epoch 39/500\n",
            "13/13 [==============================] - 0s 3ms/step - loss: 42830128.0000 - mse: 42830128.0000 - val_loss: 55262220.0000 - val_mse: 55262220.0000\n",
            "Epoch 40/500\n",
            "13/13 [==============================] - 0s 4ms/step - loss: 38662240.0000 - mse: 38662240.0000 - val_loss: 51552424.0000 - val_mse: 51552424.0000\n",
            "Epoch 41/500\n",
            "13/13 [==============================] - 0s 3ms/step - loss: 45201020.0000 - mse: 45201020.0000 - val_loss: 56247148.0000 - val_mse: 56247148.0000\n",
            "Epoch 42/500\n",
            "13/13 [==============================] - 0s 5ms/step - loss: 33461420.0000 - mse: 33461420.0000 - val_loss: 52027080.0000 - val_mse: 52027080.0000\n",
            "Epoch 43/500\n",
            "13/13 [==============================] - 0s 3ms/step - loss: 38038128.0000 - mse: 38038128.0000 - val_loss: 86799584.0000 - val_mse: 86799584.0000\n",
            "Epoch 44/500\n",
            "13/13 [==============================] - 0s 4ms/step - loss: 42721596.0000 - mse: 42721596.0000 - val_loss: 59784988.0000 - val_mse: 59785000.0000\n",
            "Epoch 45/500\n",
            "13/13 [==============================] - 0s 3ms/step - loss: 35319844.0000 - mse: 35319844.0000 - val_loss: 59194980.0000 - val_mse: 59194980.0000\n",
            "Epoch 46/500\n",
            "13/13 [==============================] - 0s 3ms/step - loss: 38764352.0000 - mse: 38764352.0000 - val_loss: 148743600.0000 - val_mse: 148743600.0000\n",
            "Epoch 47/500\n",
            "13/13 [==============================] - 0s 3ms/step - loss: 38818284.0000 - mse: 38818292.0000 - val_loss: 50418524.0000 - val_mse: 50418524.0000\n",
            "Epoch 48/500\n",
            "13/13 [==============================] - 0s 3ms/step - loss: 40080240.0000 - mse: 40080240.0000 - val_loss: 50093564.0000 - val_mse: 50093568.0000\n",
            "Epoch 49/500\n",
            "13/13 [==============================] - 0s 3ms/step - loss: 35780816.0000 - mse: 35780816.0000 - val_loss: 120033888.0000 - val_mse: 120033888.0000\n",
            "Epoch 50/500\n",
            "13/13 [==============================] - 0s 3ms/step - loss: 34238096.0000 - mse: 34238096.0000 - val_loss: 53056568.0000 - val_mse: 53056564.0000\n",
            "Epoch 51/500\n",
            "13/13 [==============================] - 0s 3ms/step - loss: 42569092.0000 - mse: 42569092.0000 - val_loss: 70609256.0000 - val_mse: 70609256.0000\n",
            "Epoch 52/500\n",
            "13/13 [==============================] - 0s 3ms/step - loss: 38167264.0000 - mse: 38167264.0000 - val_loss: 106013584.0000 - val_mse: 106013584.0000\n",
            "Epoch 53/500\n",
            "13/13 [==============================] - 0s 3ms/step - loss: 35140088.0000 - mse: 35140088.0000 - val_loss: 49219096.0000 - val_mse: 49219096.0000\n",
            "Epoch 54/500\n",
            "13/13 [==============================] - 0s 3ms/step - loss: 39110716.0000 - mse: 39110716.0000 - val_loss: 56642204.0000 - val_mse: 56642204.0000\n",
            "Epoch 55/500\n",
            "13/13 [==============================] - 0s 3ms/step - loss: 37102880.0000 - mse: 37102880.0000 - val_loss: 55152184.0000 - val_mse: 55152184.0000\n",
            "Epoch 56/500\n",
            "13/13 [==============================] - 0s 3ms/step - loss: 38094736.0000 - mse: 38094736.0000 - val_loss: 49218488.0000 - val_mse: 49218488.0000\n",
            "Epoch 57/500\n",
            "13/13 [==============================] - 0s 3ms/step - loss: 39831616.0000 - mse: 39831616.0000 - val_loss: 55341208.0000 - val_mse: 55341208.0000\n",
            "Epoch 58/500\n",
            "13/13 [==============================] - 0s 3ms/step - loss: 33489122.0000 - mse: 33489120.0000 - val_loss: 53919224.0000 - val_mse: 53919224.0000\n",
            "Epoch 59/500\n",
            "13/13 [==============================] - 0s 3ms/step - loss: 44201928.0000 - mse: 44201928.0000 - val_loss: 50404716.0000 - val_mse: 50404716.0000\n",
            "Epoch 60/500\n",
            "13/13 [==============================] - 0s 3ms/step - loss: 33808284.0000 - mse: 33808284.0000 - val_loss: 76534784.0000 - val_mse: 76534784.0000\n",
            "Epoch 61/500\n",
            "13/13 [==============================] - 0s 3ms/step - loss: 38418484.0000 - mse: 38418484.0000 - val_loss: 48135792.0000 - val_mse: 48135792.0000\n",
            "Epoch 62/500\n",
            "13/13 [==============================] - 0s 3ms/step - loss: 38158920.0000 - mse: 38158920.0000 - val_loss: 49355712.0000 - val_mse: 49355712.0000\n",
            "Epoch 63/500\n",
            "13/13 [==============================] - 0s 3ms/step - loss: 39653836.0000 - mse: 39653836.0000 - val_loss: 65889644.0000 - val_mse: 65889644.0000\n",
            "Epoch 64/500\n",
            "13/13 [==============================] - 0s 3ms/step - loss: 31511292.0000 - mse: 31511292.0000 - val_loss: 53244224.0000 - val_mse: 53244224.0000\n",
            "Epoch 65/500\n",
            "13/13 [==============================] - 0s 4ms/step - loss: 34308912.0000 - mse: 34308912.0000 - val_loss: 50051152.0000 - val_mse: 50051152.0000\n",
            "Epoch 66/500\n",
            "13/13 [==============================] - 0s 4ms/step - loss: 36561480.0000 - mse: 36561480.0000 - val_loss: 60720248.0000 - val_mse: 60720248.0000\n",
            "Epoch 67/500\n",
            "13/13 [==============================] - 0s 4ms/step - loss: 31124012.0000 - mse: 31124012.0000 - val_loss: 81763192.0000 - val_mse: 81763192.0000\n",
            "Epoch 68/500\n",
            "13/13 [==============================] - 0s 3ms/step - loss: 39357372.0000 - mse: 39357372.0000 - val_loss: 49098792.0000 - val_mse: 49098792.0000\n",
            "Epoch 69/500\n",
            "13/13 [==============================] - 0s 3ms/step - loss: 31908798.0000 - mse: 31908800.0000 - val_loss: 49156824.0000 - val_mse: 49156828.0000\n",
            "Epoch 70/500\n",
            "13/13 [==============================] - 0s 3ms/step - loss: 36738616.0000 - mse: 36738616.0000 - val_loss: 50252428.0000 - val_mse: 50252428.0000\n",
            "Epoch 71/500\n",
            "13/13 [==============================] - 0s 3ms/step - loss: 34201304.0000 - mse: 34201304.0000 - val_loss: 54593816.0000 - val_mse: 54593816.0000\n",
            "Epoch 72/500\n",
            "13/13 [==============================] - 0s 3ms/step - loss: 34288080.0000 - mse: 34288080.0000 - val_loss: 112499144.0000 - val_mse: 112499144.0000\n",
            "Epoch 73/500\n",
            "13/13 [==============================] - 0s 3ms/step - loss: 33027988.0000 - mse: 33027988.0000 - val_loss: 89671168.0000 - val_mse: 89671168.0000\n",
            "Epoch 74/500\n",
            "13/13 [==============================] - 0s 3ms/step - loss: 32343704.0000 - mse: 32343704.0000 - val_loss: 47942916.0000 - val_mse: 47942916.0000\n",
            "Epoch 75/500\n",
            "13/13 [==============================] - 0s 3ms/step - loss: 36471664.0000 - mse: 36471664.0000 - val_loss: 54582960.0000 - val_mse: 54582960.0000\n",
            "Epoch 76/500\n",
            "13/13 [==============================] - 0s 3ms/step - loss: 34768264.0000 - mse: 34768264.0000 - val_loss: 60384280.0000 - val_mse: 60384280.0000\n",
            "Epoch 77/500\n",
            "13/13 [==============================] - 0s 4ms/step - loss: 29480834.0000 - mse: 29480834.0000 - val_loss: 49042216.0000 - val_mse: 49042216.0000\n",
            "Epoch 78/500\n",
            "13/13 [==============================] - 0s 4ms/step - loss: 36367704.0000 - mse: 36367704.0000 - val_loss: 47771200.0000 - val_mse: 47771200.0000\n",
            "Epoch 79/500\n",
            "13/13 [==============================] - 0s 4ms/step - loss: 30360534.0000 - mse: 30360534.0000 - val_loss: 49308304.0000 - val_mse: 49308304.0000\n",
            "Epoch 80/500\n",
            "13/13 [==============================] - 0s 3ms/step - loss: 29235068.0000 - mse: 29235068.0000 - val_loss: 48759240.0000 - val_mse: 48759236.0000\n",
            "Epoch 81/500\n",
            "13/13 [==============================] - 0s 3ms/step - loss: 38267552.0000 - mse: 38267552.0000 - val_loss: 46404276.0000 - val_mse: 46404280.0000\n",
            "Epoch 82/500\n",
            "13/13 [==============================] - 0s 4ms/step - loss: 28660874.0000 - mse: 28660874.0000 - val_loss: 73035672.0000 - val_mse: 73035672.0000\n",
            "Epoch 83/500\n",
            "13/13 [==============================] - 0s 3ms/step - loss: 30777526.0000 - mse: 30777526.0000 - val_loss: 68415008.0000 - val_mse: 68415008.0000\n",
            "Epoch 84/500\n",
            "13/13 [==============================] - 0s 3ms/step - loss: 33526040.0000 - mse: 33526040.0000 - val_loss: 47836480.0000 - val_mse: 47836476.0000\n",
            "Epoch 85/500\n",
            "13/13 [==============================] - 0s 3ms/step - loss: 29024542.0000 - mse: 29024542.0000 - val_loss: 46054260.0000 - val_mse: 46054260.0000\n",
            "Epoch 86/500\n",
            "13/13 [==============================] - 0s 3ms/step - loss: 30219806.0000 - mse: 30219806.0000 - val_loss: 48388496.0000 - val_mse: 48388500.0000\n",
            "Epoch 87/500\n",
            "13/13 [==============================] - 0s 3ms/step - loss: 31756532.0000 - mse: 31756532.0000 - val_loss: 52191752.0000 - val_mse: 52191756.0000\n",
            "Epoch 88/500\n",
            "13/13 [==============================] - 0s 3ms/step - loss: 33375248.0000 - mse: 33375248.0000 - val_loss: 47832852.0000 - val_mse: 47832852.0000\n",
            "Epoch 89/500\n",
            "13/13 [==============================] - 0s 3ms/step - loss: 27164054.0000 - mse: 27164054.0000 - val_loss: 44396132.0000 - val_mse: 44396132.0000\n",
            "Epoch 90/500\n",
            "13/13 [==============================] - 0s 4ms/step - loss: 30757210.0000 - mse: 30757210.0000 - val_loss: 44523620.0000 - val_mse: 44523620.0000\n",
            "Epoch 91/500\n",
            "13/13 [==============================] - 0s 3ms/step - loss: 27171522.0000 - mse: 27171522.0000 - val_loss: 45177084.0000 - val_mse: 45177084.0000\n",
            "Epoch 92/500\n",
            "13/13 [==============================] - 0s 4ms/step - loss: 30315384.0000 - mse: 30315384.0000 - val_loss: 44249596.0000 - val_mse: 44249596.0000\n",
            "Epoch 93/500\n",
            "13/13 [==============================] - 0s 4ms/step - loss: 28615108.0000 - mse: 28615108.0000 - val_loss: 45796312.0000 - val_mse: 45796312.0000\n",
            "Epoch 94/500\n",
            "13/13 [==============================] - 0s 4ms/step - loss: 28782034.0000 - mse: 28782034.0000 - val_loss: 45443004.0000 - val_mse: 45443004.0000\n",
            "Epoch 95/500\n",
            "13/13 [==============================] - 0s 3ms/step - loss: 27917552.0000 - mse: 27917552.0000 - val_loss: 49496072.0000 - val_mse: 49496072.0000\n",
            "Epoch 96/500\n",
            "13/13 [==============================] - 0s 3ms/step - loss: 28781046.0000 - mse: 28781046.0000 - val_loss: 44172344.0000 - val_mse: 44172344.0000\n",
            "Epoch 97/500\n",
            "13/13 [==============================] - 0s 3ms/step - loss: 27611186.0000 - mse: 27611186.0000 - val_loss: 50244376.0000 - val_mse: 50244380.0000\n",
            "Epoch 98/500\n",
            "13/13 [==============================] - 0s 3ms/step - loss: 28981886.0000 - mse: 28981886.0000 - val_loss: 50475900.0000 - val_mse: 50475900.0000\n",
            "Epoch 99/500\n",
            "13/13 [==============================] - 0s 3ms/step - loss: 31936302.0000 - mse: 31936298.0000 - val_loss: 45812952.0000 - val_mse: 45812952.0000\n",
            "Epoch 100/500\n",
            "13/13 [==============================] - 0s 4ms/step - loss: 26446088.0000 - mse: 26446088.0000 - val_loss: 52546700.0000 - val_mse: 52546700.0000\n",
            "Epoch 101/500\n",
            "13/13 [==============================] - 0s 5ms/step - loss: 27795944.0000 - mse: 27795944.0000 - val_loss: 62708164.0000 - val_mse: 62708164.0000\n",
            "Epoch 102/500\n",
            "13/13 [==============================] - 0s 4ms/step - loss: 30815248.0000 - mse: 30815248.0000 - val_loss: 43615016.0000 - val_mse: 43615016.0000\n",
            "Epoch 103/500\n",
            "13/13 [==============================] - 0s 3ms/step - loss: 24509682.0000 - mse: 24509682.0000 - val_loss: 44276004.0000 - val_mse: 44276000.0000\n",
            "Epoch 104/500\n",
            "13/13 [==============================] - 0s 3ms/step - loss: 29903942.0000 - mse: 29903942.0000 - val_loss: 64447412.0000 - val_mse: 64447412.0000\n",
            "Epoch 105/500\n",
            "13/13 [==============================] - 0s 3ms/step - loss: 26157590.0000 - mse: 26157590.0000 - val_loss: 46523964.0000 - val_mse: 46523964.0000\n",
            "Epoch 106/500\n",
            "13/13 [==============================] - 0s 4ms/step - loss: 33394998.0000 - mse: 33394998.0000 - val_loss: 82554584.0000 - val_mse: 82554584.0000\n",
            "Epoch 107/500\n",
            "13/13 [==============================] - 0s 3ms/step - loss: 26399176.0000 - mse: 26399176.0000 - val_loss: 43411932.0000 - val_mse: 43411932.0000\n",
            "Epoch 108/500\n",
            "13/13 [==============================] - 0s 4ms/step - loss: 25293278.0000 - mse: 25293278.0000 - val_loss: 65591944.0000 - val_mse: 65591944.0000\n",
            "Epoch 109/500\n",
            "13/13 [==============================] - 0s 3ms/step - loss: 26001828.0000 - mse: 26001828.0000 - val_loss: 43908688.0000 - val_mse: 43908688.0000\n",
            "Epoch 110/500\n",
            "13/13 [==============================] - 0s 4ms/step - loss: 27831068.0000 - mse: 27831068.0000 - val_loss: 45530512.0000 - val_mse: 45530512.0000\n",
            "Epoch 111/500\n",
            "13/13 [==============================] - 0s 4ms/step - loss: 28886190.0000 - mse: 28886190.0000 - val_loss: 49248572.0000 - val_mse: 49248572.0000\n",
            "Epoch 112/500\n",
            "13/13 [==============================] - 0s 4ms/step - loss: 26991690.0000 - mse: 26991690.0000 - val_loss: 50763592.0000 - val_mse: 50763592.0000\n",
            "Epoch 113/500\n",
            "13/13 [==============================] - 0s 3ms/step - loss: 28000494.0000 - mse: 28000494.0000 - val_loss: 43694868.0000 - val_mse: 43694868.0000\n",
            "Epoch 114/500\n",
            "13/13 [==============================] - 0s 4ms/step - loss: 25225214.0000 - mse: 25225214.0000 - val_loss: 63855788.0000 - val_mse: 63855788.0000\n",
            "Epoch 115/500\n",
            "13/13 [==============================] - 0s 3ms/step - loss: 26264562.0000 - mse: 26264562.0000 - val_loss: 69560800.0000 - val_mse: 69560792.0000\n",
            "Epoch 116/500\n",
            "13/13 [==============================] - 0s 4ms/step - loss: 24616564.0000 - mse: 24616564.0000 - val_loss: 50536852.0000 - val_mse: 50536852.0000\n",
            "Epoch 117/500\n",
            "13/13 [==============================] - 0s 3ms/step - loss: 27117196.0000 - mse: 27117196.0000 - val_loss: 46393140.0000 - val_mse: 46393140.0000\n",
            "Epoch 118/500\n",
            "13/13 [==============================] - 0s 4ms/step - loss: 26368260.0000 - mse: 26368260.0000 - val_loss: 42881420.0000 - val_mse: 42881420.0000\n",
            "Epoch 119/500\n",
            "13/13 [==============================] - 0s 3ms/step - loss: 30950686.0000 - mse: 30950686.0000 - val_loss: 47343880.0000 - val_mse: 47343880.0000\n",
            "Epoch 120/500\n",
            "13/13 [==============================] - 0s 3ms/step - loss: 27225140.0000 - mse: 27225140.0000 - val_loss: 61345340.0000 - val_mse: 61345340.0000\n",
            "Epoch 121/500\n",
            "13/13 [==============================] - 0s 3ms/step - loss: 27454942.0000 - mse: 27454942.0000 - val_loss: 49277132.0000 - val_mse: 49277136.0000\n",
            "Epoch 122/500\n",
            "13/13 [==============================] - 0s 4ms/step - loss: 24829812.0000 - mse: 24829812.0000 - val_loss: 43681004.0000 - val_mse: 43681004.0000\n",
            "Epoch 123/500\n",
            "13/13 [==============================] - 0s 3ms/step - loss: 26967754.0000 - mse: 26967754.0000 - val_loss: 42254268.0000 - val_mse: 42254268.0000\n",
            "Epoch 124/500\n",
            "13/13 [==============================] - 0s 4ms/step - loss: 24328304.0000 - mse: 24328304.0000 - val_loss: 77173984.0000 - val_mse: 77173992.0000\n",
            "Epoch 125/500\n",
            "13/13 [==============================] - 0s 4ms/step - loss: 28442426.0000 - mse: 28442426.0000 - val_loss: 50203740.0000 - val_mse: 50203740.0000\n",
            "Epoch 126/500\n",
            "13/13 [==============================] - 0s 3ms/step - loss: 26977472.0000 - mse: 26977472.0000 - val_loss: 61815212.0000 - val_mse: 61815212.0000\n",
            "Epoch 127/500\n",
            "13/13 [==============================] - 0s 3ms/step - loss: 25594046.0000 - mse: 25594046.0000 - val_loss: 43514812.0000 - val_mse: 43514812.0000\n",
            "Epoch 128/500\n",
            "13/13 [==============================] - 0s 3ms/step - loss: 26614276.0000 - mse: 26614276.0000 - val_loss: 42739344.0000 - val_mse: 42739344.0000\n",
            "Epoch 129/500\n",
            "13/13 [==============================] - 0s 4ms/step - loss: 27469988.0000 - mse: 27469988.0000 - val_loss: 46303576.0000 - val_mse: 46303576.0000\n",
            "Epoch 130/500\n",
            "13/13 [==============================] - 0s 4ms/step - loss: 22813334.0000 - mse: 22813334.0000 - val_loss: 44923820.0000 - val_mse: 44923820.0000\n",
            "Epoch 131/500\n",
            "13/13 [==============================] - 0s 4ms/step - loss: 27105830.0000 - mse: 27105830.0000 - val_loss: 56112120.0000 - val_mse: 56112120.0000\n",
            "Epoch 132/500\n",
            "13/13 [==============================] - 0s 4ms/step - loss: 26373148.0000 - mse: 26373148.0000 - val_loss: 44761856.0000 - val_mse: 44761856.0000\n",
            "Epoch 133/500\n",
            "13/13 [==============================] - 0s 3ms/step - loss: 27018726.0000 - mse: 27018726.0000 - val_loss: 42274464.0000 - val_mse: 42274464.0000\n",
            "Epoch 134/500\n",
            "13/13 [==============================] - 0s 3ms/step - loss: 25404622.0000 - mse: 25404622.0000 - val_loss: 45775244.0000 - val_mse: 45775244.0000\n",
            "Epoch 135/500\n",
            "13/13 [==============================] - 0s 3ms/step - loss: 23780038.0000 - mse: 23780038.0000 - val_loss: 73613440.0000 - val_mse: 73613440.0000\n",
            "Epoch 136/500\n",
            "13/13 [==============================] - 0s 3ms/step - loss: 27359208.0000 - mse: 27359208.0000 - val_loss: 44033540.0000 - val_mse: 44033540.0000\n",
            "Epoch 137/500\n",
            "13/13 [==============================] - 0s 4ms/step - loss: 25440592.0000 - mse: 25440592.0000 - val_loss: 41704672.0000 - val_mse: 41704672.0000\n",
            "Epoch 138/500\n",
            "13/13 [==============================] - 0s 3ms/step - loss: 31280528.0000 - mse: 31280528.0000 - val_loss: 41598072.0000 - val_mse: 41598072.0000\n",
            "Epoch 139/500\n",
            "13/13 [==============================] - 0s 3ms/step - loss: 23514818.0000 - mse: 23514818.0000 - val_loss: 43598744.0000 - val_mse: 43598744.0000\n",
            "Epoch 140/500\n",
            "13/13 [==============================] - 0s 3ms/step - loss: 24149614.0000 - mse: 24149614.0000 - val_loss: 44858368.0000 - val_mse: 44858368.0000\n",
            "Epoch 141/500\n",
            "13/13 [==============================] - 0s 3ms/step - loss: 24783928.0000 - mse: 24783928.0000 - val_loss: 46838388.0000 - val_mse: 46838388.0000\n",
            "Epoch 142/500\n",
            "13/13 [==============================] - 0s 4ms/step - loss: 26807396.0000 - mse: 26807396.0000 - val_loss: 61175584.0000 - val_mse: 61175584.0000\n",
            "Epoch 143/500\n",
            "13/13 [==============================] - 0s 3ms/step - loss: 25710292.0000 - mse: 25710292.0000 - val_loss: 45132408.0000 - val_mse: 45132408.0000\n",
            "Epoch 144/500\n",
            "13/13 [==============================] - 0s 3ms/step - loss: 25585146.0000 - mse: 25585146.0000 - val_loss: 41474804.0000 - val_mse: 41474804.0000\n",
            "Epoch 145/500\n",
            "13/13 [==============================] - 0s 4ms/step - loss: 27415640.0000 - mse: 27415640.0000 - val_loss: 42157952.0000 - val_mse: 42157952.0000\n",
            "Epoch 146/500\n",
            "13/13 [==============================] - 0s 3ms/step - loss: 23224618.0000 - mse: 23224618.0000 - val_loss: 45685760.0000 - val_mse: 45685764.0000\n",
            "Epoch 147/500\n",
            "13/13 [==============================] - 0s 4ms/step - loss: 34954916.0000 - mse: 34954916.0000 - val_loss: 41448816.0000 - val_mse: 41448816.0000\n",
            "Epoch 148/500\n",
            "13/13 [==============================] - 0s 3ms/step - loss: 23381486.0000 - mse: 23381486.0000 - val_loss: 41094656.0000 - val_mse: 41094656.0000\n",
            "Epoch 149/500\n",
            "13/13 [==============================] - 0s 4ms/step - loss: 24882850.0000 - mse: 24882850.0000 - val_loss: 42725184.0000 - val_mse: 42725184.0000\n",
            "Epoch 150/500\n",
            "13/13 [==============================] - 0s 3ms/step - loss: 24416640.0000 - mse: 24416640.0000 - val_loss: 42750396.0000 - val_mse: 42750396.0000\n",
            "Epoch 151/500\n",
            "13/13 [==============================] - 0s 4ms/step - loss: 24487894.0000 - mse: 24487894.0000 - val_loss: 59702628.0000 - val_mse: 59702628.0000\n",
            "Epoch 152/500\n",
            "13/13 [==============================] - 0s 3ms/step - loss: 26472710.0000 - mse: 26472710.0000 - val_loss: 41829072.0000 - val_mse: 41829072.0000\n",
            "Epoch 153/500\n",
            "13/13 [==============================] - 0s 4ms/step - loss: 27904024.0000 - mse: 27904024.0000 - val_loss: 44124780.0000 - val_mse: 44124780.0000\n",
            "Epoch 154/500\n",
            "13/13 [==============================] - 0s 3ms/step - loss: 24472194.0000 - mse: 24472194.0000 - val_loss: 49583276.0000 - val_mse: 49583276.0000\n",
            "Epoch 155/500\n",
            "13/13 [==============================] - 0s 4ms/step - loss: 26212422.0000 - mse: 26212422.0000 - val_loss: 48075208.0000 - val_mse: 48075208.0000\n",
            "Epoch 156/500\n",
            "13/13 [==============================] - 0s 3ms/step - loss: 26068208.0000 - mse: 26068208.0000 - val_loss: 41872644.0000 - val_mse: 41872644.0000\n",
            "Epoch 157/500\n",
            "13/13 [==============================] - 0s 4ms/step - loss: 24983964.0000 - mse: 24983964.0000 - val_loss: 52512572.0000 - val_mse: 52512576.0000\n",
            "Epoch 158/500\n",
            "13/13 [==============================] - 0s 3ms/step - loss: 24856882.0000 - mse: 24856882.0000 - val_loss: 80894256.0000 - val_mse: 80894256.0000\n",
            "Epoch 159/500\n",
            "13/13 [==============================] - 0s 4ms/step - loss: 24744994.0000 - mse: 24744994.0000 - val_loss: 44839484.0000 - val_mse: 44839484.0000\n",
            "Epoch 160/500\n",
            "13/13 [==============================] - 0s 4ms/step - loss: 41265956.0000 - mse: 41265956.0000 - val_loss: 42135788.0000 - val_mse: 42135792.0000\n",
            "Epoch 161/500\n",
            "13/13 [==============================] - 0s 4ms/step - loss: 24139174.0000 - mse: 24139174.0000 - val_loss: 41202560.0000 - val_mse: 41202560.0000\n",
            "Epoch 162/500\n",
            "13/13 [==============================] - 0s 3ms/step - loss: 24601982.0000 - mse: 24601982.0000 - val_loss: 84774320.0000 - val_mse: 84774320.0000\n",
            "Epoch 163/500\n",
            "13/13 [==============================] - 0s 4ms/step - loss: 25349236.0000 - mse: 25349236.0000 - val_loss: 41188188.0000 - val_mse: 41188188.0000\n",
            "Epoch 164/500\n",
            "13/13 [==============================] - 0s 3ms/step - loss: 25362380.0000 - mse: 25362380.0000 - val_loss: 43496052.0000 - val_mse: 43496052.0000\n",
            "Epoch 165/500\n",
            "13/13 [==============================] - 0s 4ms/step - loss: 26958152.0000 - mse: 26958152.0000 - val_loss: 41003116.0000 - val_mse: 41003116.0000\n",
            "Epoch 166/500\n",
            "13/13 [==============================] - 0s 4ms/step - loss: 25428130.0000 - mse: 25428130.0000 - val_loss: 46965628.0000 - val_mse: 46965628.0000\n",
            "Epoch 167/500\n",
            "13/13 [==============================] - 0s 4ms/step - loss: 23840698.0000 - mse: 23840698.0000 - val_loss: 44101700.0000 - val_mse: 44101700.0000\n",
            "Epoch 168/500\n",
            "13/13 [==============================] - 0s 3ms/step - loss: 26159738.0000 - mse: 26159738.0000 - val_loss: 48219020.0000 - val_mse: 48219020.0000\n",
            "Epoch 169/500\n",
            "13/13 [==============================] - 0s 4ms/step - loss: 25292226.0000 - mse: 25292226.0000 - val_loss: 45872516.0000 - val_mse: 45872516.0000\n",
            "Epoch 170/500\n",
            "13/13 [==============================] - 0s 3ms/step - loss: 24080682.0000 - mse: 24080682.0000 - val_loss: 42153660.0000 - val_mse: 42153660.0000\n",
            "Epoch 171/500\n",
            "13/13 [==============================] - 0s 4ms/step - loss: 24746756.0000 - mse: 24746756.0000 - val_loss: 43696376.0000 - val_mse: 43696376.0000\n",
            "Epoch 172/500\n",
            "13/13 [==============================] - 0s 4ms/step - loss: 23172710.0000 - mse: 23172710.0000 - val_loss: 43670764.0000 - val_mse: 43670764.0000\n",
            "Epoch 173/500\n",
            "13/13 [==============================] - 0s 4ms/step - loss: 24807782.0000 - mse: 24807782.0000 - val_loss: 45500960.0000 - val_mse: 45500964.0000\n",
            "Epoch 174/500\n",
            "13/13 [==============================] - 0s 3ms/step - loss: 25540988.0000 - mse: 25540988.0000 - val_loss: 42445800.0000 - val_mse: 42445800.0000\n",
            "Epoch 175/500\n",
            "13/13 [==============================] - 0s 4ms/step - loss: 23596170.0000 - mse: 23596170.0000 - val_loss: 50774008.0000 - val_mse: 50774008.0000\n",
            "Epoch 176/500\n",
            "13/13 [==============================] - 0s 3ms/step - loss: 26991654.0000 - mse: 26991654.0000 - val_loss: 44675304.0000 - val_mse: 44675304.0000\n",
            "Epoch 177/500\n",
            "13/13 [==============================] - 0s 4ms/step - loss: 22990114.0000 - mse: 22990114.0000 - val_loss: 41890800.0000 - val_mse: 41890800.0000\n",
            "Epoch 178/500\n",
            "13/13 [==============================] - 0s 3ms/step - loss: 24937318.0000 - mse: 24937318.0000 - val_loss: 65757176.0000 - val_mse: 65757176.0000\n",
            "Epoch 179/500\n",
            "13/13 [==============================] - 0s 3ms/step - loss: 25083260.0000 - mse: 25083260.0000 - val_loss: 47795548.0000 - val_mse: 47795548.0000\n",
            "Epoch 180/500\n",
            "13/13 [==============================] - 0s 4ms/step - loss: 24680058.0000 - mse: 24680058.0000 - val_loss: 47338176.0000 - val_mse: 47338176.0000\n",
            "Epoch 181/500\n",
            "13/13 [==============================] - 0s 4ms/step - loss: 23998884.0000 - mse: 23998884.0000 - val_loss: 43125952.0000 - val_mse: 43125952.0000\n",
            "Epoch 182/500\n",
            "13/13 [==============================] - 0s 3ms/step - loss: 26004886.0000 - mse: 26004886.0000 - val_loss: 41252344.0000 - val_mse: 41252344.0000\n",
            "Epoch 183/500\n",
            "13/13 [==============================] - 0s 3ms/step - loss: 21951262.0000 - mse: 21951262.0000 - val_loss: 42834424.0000 - val_mse: 42834424.0000\n",
            "Epoch 184/500\n",
            "13/13 [==============================] - 0s 4ms/step - loss: 25598946.0000 - mse: 25598946.0000 - val_loss: 46498948.0000 - val_mse: 46498948.0000\n",
            "Epoch 185/500\n",
            "13/13 [==============================] - 0s 3ms/step - loss: 22619532.0000 - mse: 22619532.0000 - val_loss: 63773752.0000 - val_mse: 63773752.0000\n",
            "Epoch 186/500\n",
            "13/13 [==============================] - 0s 3ms/step - loss: 23161168.0000 - mse: 23161168.0000 - val_loss: 42946800.0000 - val_mse: 42946800.0000\n",
            "Epoch 187/500\n",
            "13/13 [==============================] - 0s 3ms/step - loss: 26337328.0000 - mse: 26337326.0000 - val_loss: 49580636.0000 - val_mse: 49580636.0000\n",
            "Epoch 188/500\n",
            "13/13 [==============================] - 0s 3ms/step - loss: 22212638.0000 - mse: 22212638.0000 - val_loss: 56699944.0000 - val_mse: 56699944.0000\n",
            "Epoch 189/500\n",
            "13/13 [==============================] - 0s 3ms/step - loss: 25036450.0000 - mse: 25036450.0000 - val_loss: 53853680.0000 - val_mse: 53853680.0000\n",
            "Epoch 190/500\n",
            "13/13 [==============================] - 0s 4ms/step - loss: 23518170.0000 - mse: 23518170.0000 - val_loss: 43657512.0000 - val_mse: 43657512.0000\n",
            "Epoch 191/500\n",
            "13/13 [==============================] - 0s 3ms/step - loss: 23794138.0000 - mse: 23794134.0000 - val_loss: 85435008.0000 - val_mse: 85435008.0000\n",
            "Epoch 192/500\n",
            "13/13 [==============================] - 0s 4ms/step - loss: 25479486.0000 - mse: 25479486.0000 - val_loss: 46472152.0000 - val_mse: 46472152.0000\n",
            "Epoch 193/500\n",
            "13/13 [==============================] - 0s 3ms/step - loss: 21260352.0000 - mse: 21260354.0000 - val_loss: 45022400.0000 - val_mse: 45022400.0000\n",
            "Epoch 194/500\n",
            "13/13 [==============================] - 0s 3ms/step - loss: 26015240.0000 - mse: 26015240.0000 - val_loss: 41863016.0000 - val_mse: 41863016.0000\n",
            "Epoch 195/500\n",
            "13/13 [==============================] - 0s 4ms/step - loss: 24803722.0000 - mse: 24803722.0000 - val_loss: 41878596.0000 - val_mse: 41878596.0000\n",
            "Epoch 196/500\n",
            "13/13 [==============================] - 0s 4ms/step - loss: 22586436.0000 - mse: 22586436.0000 - val_loss: 46868936.0000 - val_mse: 46868936.0000\n",
            "Epoch 197/500\n",
            "13/13 [==============================] - 0s 3ms/step - loss: 24220820.0000 - mse: 24220820.0000 - val_loss: 43600984.0000 - val_mse: 43600984.0000\n",
            "Epoch 198/500\n",
            "13/13 [==============================] - 0s 5ms/step - loss: 24556210.0000 - mse: 24556210.0000 - val_loss: 40710016.0000 - val_mse: 40710020.0000\n",
            "Epoch 199/500\n",
            "13/13 [==============================] - 0s 4ms/step - loss: 25245818.0000 - mse: 25245818.0000 - val_loss: 42163084.0000 - val_mse: 42163084.0000\n",
            "Epoch 200/500\n",
            "13/13 [==============================] - 0s 4ms/step - loss: 23027328.0000 - mse: 23027328.0000 - val_loss: 56614028.0000 - val_mse: 56614028.0000\n",
            "Epoch 201/500\n",
            "13/13 [==============================] - 0s 4ms/step - loss: 23830638.0000 - mse: 23830638.0000 - val_loss: 43721396.0000 - val_mse: 43721396.0000\n",
            "Epoch 202/500\n",
            "13/13 [==============================] - 0s 4ms/step - loss: 25246422.0000 - mse: 25246422.0000 - val_loss: 42511596.0000 - val_mse: 42511596.0000\n",
            "Epoch 203/500\n",
            "13/13 [==============================] - 0s 4ms/step - loss: 24534724.0000 - mse: 24534724.0000 - val_loss: 43056320.0000 - val_mse: 43056320.0000\n",
            "Epoch 204/500\n",
            "13/13 [==============================] - 0s 3ms/step - loss: 22153890.0000 - mse: 22153890.0000 - val_loss: 61439680.0000 - val_mse: 61439680.0000\n",
            "Epoch 205/500\n",
            "13/13 [==============================] - 0s 4ms/step - loss: 25493996.0000 - mse: 25493996.0000 - val_loss: 62962504.0000 - val_mse: 62962504.0000\n",
            "Epoch 206/500\n",
            "13/13 [==============================] - 0s 3ms/step - loss: 22880090.0000 - mse: 22880090.0000 - val_loss: 42401008.0000 - val_mse: 42401008.0000\n",
            "Epoch 207/500\n",
            "13/13 [==============================] - 0s 3ms/step - loss: 25098646.0000 - mse: 25098646.0000 - val_loss: 41243940.0000 - val_mse: 41243940.0000\n",
            "Epoch 208/500\n",
            "13/13 [==============================] - 0s 4ms/step - loss: 22707768.0000 - mse: 22707768.0000 - val_loss: 42832780.0000 - val_mse: 42832780.0000\n",
            "Epoch 209/500\n",
            "13/13 [==============================] - 0s 3ms/step - loss: 24340456.0000 - mse: 24340456.0000 - val_loss: 48318360.0000 - val_mse: 48318360.0000\n",
            "Epoch 210/500\n",
            "13/13 [==============================] - 0s 4ms/step - loss: 23594830.0000 - mse: 23594830.0000 - val_loss: 42257772.0000 - val_mse: 42257772.0000\n",
            "Epoch 211/500\n",
            "13/13 [==============================] - 0s 3ms/step - loss: 22111772.0000 - mse: 22111772.0000 - val_loss: 40431224.0000 - val_mse: 40431224.0000\n",
            "Epoch 212/500\n",
            "13/13 [==============================] - 0s 3ms/step - loss: 21402398.0000 - mse: 21402398.0000 - val_loss: 40557248.0000 - val_mse: 40557248.0000\n",
            "Epoch 213/500\n",
            "13/13 [==============================] - 0s 4ms/step - loss: 23276304.0000 - mse: 23276304.0000 - val_loss: 44545716.0000 - val_mse: 44545716.0000\n",
            "Epoch 214/500\n",
            "13/13 [==============================] - 0s 5ms/step - loss: 22104112.0000 - mse: 22104112.0000 - val_loss: 56051364.0000 - val_mse: 56051364.0000\n",
            "Epoch 215/500\n",
            "13/13 [==============================] - 0s 3ms/step - loss: 25245138.0000 - mse: 25245138.0000 - val_loss: 41172392.0000 - val_mse: 41172388.0000\n",
            "Epoch 216/500\n",
            "13/13 [==============================] - 0s 3ms/step - loss: 24547712.0000 - mse: 24547712.0000 - val_loss: 40482124.0000 - val_mse: 40482124.0000\n",
            "Epoch 217/500\n",
            "13/13 [==============================] - 0s 4ms/step - loss: 20246330.0000 - mse: 20246330.0000 - val_loss: 46675708.0000 - val_mse: 46675708.0000\n",
            "Epoch 218/500\n",
            "13/13 [==============================] - 0s 3ms/step - loss: 25430888.0000 - mse: 25430888.0000 - val_loss: 40446520.0000 - val_mse: 40446520.0000\n",
            "Epoch 219/500\n",
            "13/13 [==============================] - 0s 4ms/step - loss: 22535050.0000 - mse: 22535050.0000 - val_loss: 49477336.0000 - val_mse: 49477336.0000\n",
            "Epoch 220/500\n",
            "13/13 [==============================] - 0s 3ms/step - loss: 24404198.0000 - mse: 24404198.0000 - val_loss: 47612624.0000 - val_mse: 47612624.0000\n",
            "Epoch 221/500\n",
            "13/13 [==============================] - 0s 3ms/step - loss: 23432168.0000 - mse: 23432168.0000 - val_loss: 44209128.0000 - val_mse: 44209128.0000\n",
            "Epoch 222/500\n",
            "13/13 [==============================] - 0s 4ms/step - loss: 22751944.0000 - mse: 22751944.0000 - val_loss: 42479964.0000 - val_mse: 42479964.0000\n",
            "Epoch 223/500\n",
            "13/13 [==============================] - 0s 3ms/step - loss: 24092036.0000 - mse: 24092036.0000 - val_loss: 41712520.0000 - val_mse: 41712520.0000\n",
            "Epoch 224/500\n",
            "13/13 [==============================] - 0s 3ms/step - loss: 23127822.0000 - mse: 23127822.0000 - val_loss: 53636320.0000 - val_mse: 53636320.0000\n",
            "Epoch 225/500\n",
            "13/13 [==============================] - 0s 4ms/step - loss: 23512108.0000 - mse: 23512108.0000 - val_loss: 40208008.0000 - val_mse: 40208008.0000\n",
            "Epoch 226/500\n",
            "13/13 [==============================] - 0s 4ms/step - loss: 22739876.0000 - mse: 22739876.0000 - val_loss: 39862156.0000 - val_mse: 39862156.0000\n",
            "Epoch 227/500\n",
            "13/13 [==============================] - 0s 3ms/step - loss: 23414310.0000 - mse: 23414310.0000 - val_loss: 45082260.0000 - val_mse: 45082260.0000\n",
            "Epoch 228/500\n",
            "13/13 [==============================] - 0s 3ms/step - loss: 23005372.0000 - mse: 23005372.0000 - val_loss: 44235228.0000 - val_mse: 44235228.0000\n",
            "Epoch 229/500\n",
            "13/13 [==============================] - 0s 3ms/step - loss: 23524260.0000 - mse: 23524260.0000 - val_loss: 39841424.0000 - val_mse: 39841424.0000\n",
            "Epoch 230/500\n",
            "13/13 [==============================] - 0s 4ms/step - loss: 22325054.0000 - mse: 22325054.0000 - val_loss: 45410284.0000 - val_mse: 45410280.0000\n",
            "Epoch 231/500\n",
            "13/13 [==============================] - 0s 4ms/step - loss: 24017614.0000 - mse: 24017614.0000 - val_loss: 65039488.0000 - val_mse: 65039488.0000\n",
            "Epoch 232/500\n",
            "13/13 [==============================] - 0s 3ms/step - loss: 21966960.0000 - mse: 21966960.0000 - val_loss: 44621132.0000 - val_mse: 44621128.0000\n",
            "Epoch 233/500\n",
            "13/13 [==============================] - 0s 3ms/step - loss: 25375894.0000 - mse: 25375894.0000 - val_loss: 43986120.0000 - val_mse: 43986124.0000\n",
            "Epoch 234/500\n",
            "13/13 [==============================] - 0s 3ms/step - loss: 25382984.0000 - mse: 25382984.0000 - val_loss: 45317132.0000 - val_mse: 45317132.0000\n",
            "Epoch 235/500\n",
            "13/13 [==============================] - 0s 3ms/step - loss: 20655840.0000 - mse: 20655840.0000 - val_loss: 47374556.0000 - val_mse: 47374556.0000\n",
            "Epoch 236/500\n",
            "13/13 [==============================] - 0s 4ms/step - loss: 23124748.0000 - mse: 23124748.0000 - val_loss: 44641168.0000 - val_mse: 44641168.0000\n",
            "Epoch 237/500\n",
            "13/13 [==============================] - 0s 4ms/step - loss: 23838626.0000 - mse: 23838626.0000 - val_loss: 44512840.0000 - val_mse: 44512840.0000\n",
            "Epoch 238/500\n",
            "13/13 [==============================] - 0s 4ms/step - loss: 22473542.0000 - mse: 22473542.0000 - val_loss: 42790284.0000 - val_mse: 42790284.0000\n",
            "Epoch 239/500\n",
            "13/13 [==============================] - 0s 4ms/step - loss: 22915832.0000 - mse: 22915834.0000 - val_loss: 39423500.0000 - val_mse: 39423500.0000\n",
            "Epoch 240/500\n",
            "13/13 [==============================] - 0s 3ms/step - loss: 22376056.0000 - mse: 22376056.0000 - val_loss: 40605472.0000 - val_mse: 40605472.0000\n",
            "Epoch 241/500\n",
            "13/13 [==============================] - 0s 3ms/step - loss: 23662554.0000 - mse: 23662554.0000 - val_loss: 68328120.0000 - val_mse: 68328120.0000\n",
            "Epoch 242/500\n",
            "13/13 [==============================] - 0s 4ms/step - loss: 21824612.0000 - mse: 21824612.0000 - val_loss: 61676524.0000 - val_mse: 61676524.0000\n",
            "Epoch 243/500\n",
            "13/13 [==============================] - 0s 3ms/step - loss: 25229030.0000 - mse: 25229030.0000 - val_loss: 46539448.0000 - val_mse: 46539448.0000\n",
            "Epoch 244/500\n",
            "13/13 [==============================] - 0s 3ms/step - loss: 21670422.0000 - mse: 21670422.0000 - val_loss: 55361868.0000 - val_mse: 55361868.0000\n",
            "Epoch 245/500\n",
            "13/13 [==============================] - 0s 4ms/step - loss: 23775326.0000 - mse: 23775326.0000 - val_loss: 48067872.0000 - val_mse: 48067872.0000\n",
            "Epoch 246/500\n",
            "13/13 [==============================] - 0s 3ms/step - loss: 22796292.0000 - mse: 22796292.0000 - val_loss: 41762220.0000 - val_mse: 41762220.0000\n",
            "Epoch 247/500\n",
            "13/13 [==============================] - 0s 3ms/step - loss: 22893150.0000 - mse: 22893150.0000 - val_loss: 40950232.0000 - val_mse: 40950232.0000\n",
            "Epoch 248/500\n",
            "13/13 [==============================] - 0s 4ms/step - loss: 21726844.0000 - mse: 21726844.0000 - val_loss: 40577652.0000 - val_mse: 40577652.0000\n",
            "Epoch 249/500\n",
            "13/13 [==============================] - 0s 3ms/step - loss: 24930788.0000 - mse: 24930788.0000 - val_loss: 41152772.0000 - val_mse: 41152772.0000\n",
            "Epoch 250/500\n",
            "13/13 [==============================] - 0s 3ms/step - loss: 21291542.0000 - mse: 21291542.0000 - val_loss: 40614828.0000 - val_mse: 40614828.0000\n",
            "Epoch 251/500\n",
            "13/13 [==============================] - 0s 4ms/step - loss: 21320884.0000 - mse: 21320884.0000 - val_loss: 39926420.0000 - val_mse: 39926420.0000\n",
            "Epoch 252/500\n",
            "13/13 [==============================] - 0s 3ms/step - loss: 23931378.0000 - mse: 23931378.0000 - val_loss: 47540364.0000 - val_mse: 47540364.0000\n",
            "Epoch 253/500\n",
            "13/13 [==============================] - 0s 3ms/step - loss: 22803878.0000 - mse: 22803878.0000 - val_loss: 39583392.0000 - val_mse: 39583392.0000\n",
            "Epoch 254/500\n",
            "13/13 [==============================] - 0s 4ms/step - loss: 23645438.0000 - mse: 23645438.0000 - val_loss: 39169728.0000 - val_mse: 39169728.0000\n",
            "Epoch 255/500\n",
            "13/13 [==============================] - 0s 4ms/step - loss: 20484854.0000 - mse: 20484854.0000 - val_loss: 40948188.0000 - val_mse: 40948188.0000\n",
            "Epoch 256/500\n",
            "13/13 [==============================] - 0s 4ms/step - loss: 23194352.0000 - mse: 23194352.0000 - val_loss: 42717196.0000 - val_mse: 42717196.0000\n",
            "Epoch 257/500\n",
            "13/13 [==============================] - 0s 4ms/step - loss: 21236956.0000 - mse: 21236954.0000 - val_loss: 50129512.0000 - val_mse: 50129512.0000\n",
            "Epoch 258/500\n",
            "13/13 [==============================] - 0s 3ms/step - loss: 24101270.0000 - mse: 24101270.0000 - val_loss: 40826764.0000 - val_mse: 40826764.0000\n",
            "Epoch 259/500\n",
            "13/13 [==============================] - 0s 4ms/step - loss: 22198226.0000 - mse: 22198226.0000 - val_loss: 49266348.0000 - val_mse: 49266348.0000\n",
            "Epoch 260/500\n",
            "13/13 [==============================] - 0s 3ms/step - loss: 22936574.0000 - mse: 22936574.0000 - val_loss: 46327292.0000 - val_mse: 46327288.0000\n",
            "Epoch 261/500\n",
            "13/13 [==============================] - 0s 4ms/step - loss: 21364376.0000 - mse: 21364376.0000 - val_loss: 44320312.0000 - val_mse: 44320312.0000\n",
            "Epoch 262/500\n",
            "13/13 [==============================] - 0s 4ms/step - loss: 23143672.0000 - mse: 23143672.0000 - val_loss: 39406624.0000 - val_mse: 39406624.0000\n",
            "Epoch 263/500\n",
            "13/13 [==============================] - 0s 3ms/step - loss: 21500668.0000 - mse: 21500668.0000 - val_loss: 39630464.0000 - val_mse: 39630464.0000\n",
            "Epoch 264/500\n",
            "13/13 [==============================] - 0s 3ms/step - loss: 22344310.0000 - mse: 22344310.0000 - val_loss: 39914780.0000 - val_mse: 39914780.0000\n",
            "Epoch 265/500\n",
            "13/13 [==============================] - 0s 4ms/step - loss: 21687164.0000 - mse: 21687164.0000 - val_loss: 40645012.0000 - val_mse: 40645008.0000\n",
            "Epoch 266/500\n",
            "13/13 [==============================] - 0s 4ms/step - loss: 24494118.0000 - mse: 24494118.0000 - val_loss: 46533216.0000 - val_mse: 46533216.0000\n",
            "Epoch 267/500\n",
            "13/13 [==============================] - 0s 3ms/step - loss: 22800150.0000 - mse: 22800150.0000 - val_loss: 45187648.0000 - val_mse: 45187648.0000\n",
            "Epoch 268/500\n",
            "13/13 [==============================] - 0s 3ms/step - loss: 21059852.0000 - mse: 21059852.0000 - val_loss: 39784864.0000 - val_mse: 39784864.0000\n",
            "Epoch 269/500\n",
            "13/13 [==============================] - 0s 3ms/step - loss: 25687654.0000 - mse: 25687652.0000 - val_loss: 45113108.0000 - val_mse: 45113108.0000\n",
            "Epoch 270/500\n",
            "13/13 [==============================] - 0s 3ms/step - loss: 20999244.0000 - mse: 20999244.0000 - val_loss: 58041548.0000 - val_mse: 58041548.0000\n",
            "Epoch 271/500\n",
            "13/13 [==============================] - 0s 4ms/step - loss: 23102558.0000 - mse: 23102558.0000 - val_loss: 39493916.0000 - val_mse: 39493916.0000\n",
            "Epoch 272/500\n",
            "13/13 [==============================] - 0s 3ms/step - loss: 21521086.0000 - mse: 21521086.0000 - val_loss: 40200908.0000 - val_mse: 40200908.0000\n",
            "Epoch 273/500\n",
            "13/13 [==============================] - 0s 3ms/step - loss: 21291820.0000 - mse: 21291820.0000 - val_loss: 45611260.0000 - val_mse: 45611260.0000\n",
            "Epoch 274/500\n",
            "13/13 [==============================] - 0s 4ms/step - loss: 22650162.0000 - mse: 22650162.0000 - val_loss: 41503076.0000 - val_mse: 41503076.0000\n",
            "Epoch 275/500\n",
            "13/13 [==============================] - 0s 3ms/step - loss: 23718108.0000 - mse: 23718108.0000 - val_loss: 42599060.0000 - val_mse: 42599060.0000\n",
            "Epoch 276/500\n",
            "13/13 [==============================] - 0s 3ms/step - loss: 22488550.0000 - mse: 22488548.0000 - val_loss: 38837440.0000 - val_mse: 38837440.0000\n",
            "Epoch 277/500\n",
            "13/13 [==============================] - 0s 3ms/step - loss: 22444948.0000 - mse: 22444948.0000 - val_loss: 38760080.0000 - val_mse: 38760080.0000\n",
            "Epoch 278/500\n",
            "13/13 [==============================] - 0s 3ms/step - loss: 21505760.0000 - mse: 21505762.0000 - val_loss: 44667944.0000 - val_mse: 44667944.0000\n",
            "Epoch 279/500\n",
            "13/13 [==============================] - 0s 4ms/step - loss: 22501614.0000 - mse: 22501614.0000 - val_loss: 41413640.0000 - val_mse: 41413640.0000\n",
            "Epoch 280/500\n",
            "13/13 [==============================] - 0s 3ms/step - loss: 21975186.0000 - mse: 21975186.0000 - val_loss: 41984736.0000 - val_mse: 41984736.0000\n",
            "Epoch 281/500\n",
            "13/13 [==============================] - 0s 3ms/step - loss: 21383672.0000 - mse: 21383672.0000 - val_loss: 50606708.0000 - val_mse: 50606708.0000\n",
            "Epoch 282/500\n",
            "13/13 [==============================] - 0s 3ms/step - loss: 22959580.0000 - mse: 22959580.0000 - val_loss: 38647568.0000 - val_mse: 38647568.0000\n",
            "Epoch 283/500\n",
            "13/13 [==============================] - 0s 3ms/step - loss: 20647532.0000 - mse: 20647532.0000 - val_loss: 40332992.0000 - val_mse: 40332992.0000\n",
            "Epoch 284/500\n",
            "13/13 [==============================] - 0s 4ms/step - loss: 21631144.0000 - mse: 21631144.0000 - val_loss: 49789672.0000 - val_mse: 49789672.0000\n",
            "Epoch 285/500\n",
            "13/13 [==============================] - 0s 4ms/step - loss: 23086760.0000 - mse: 23086760.0000 - val_loss: 41079912.0000 - val_mse: 41079912.0000\n",
            "Epoch 286/500\n",
            "13/13 [==============================] - 0s 4ms/step - loss: 22630912.0000 - mse: 22630912.0000 - val_loss: 40999720.0000 - val_mse: 40999720.0000\n",
            "Epoch 287/500\n",
            "13/13 [==============================] - 0s 3ms/step - loss: 22739436.0000 - mse: 22739436.0000 - val_loss: 38329624.0000 - val_mse: 38329624.0000\n",
            "Epoch 288/500\n",
            "13/13 [==============================] - 0s 3ms/step - loss: 22507574.0000 - mse: 22507572.0000 - val_loss: 37966016.0000 - val_mse: 37966016.0000\n",
            "Epoch 289/500\n",
            "13/13 [==============================] - 0s 4ms/step - loss: 21234158.0000 - mse: 21234158.0000 - val_loss: 42288560.0000 - val_mse: 42288560.0000\n",
            "Epoch 290/500\n",
            "13/13 [==============================] - 0s 3ms/step - loss: 21651186.0000 - mse: 21651186.0000 - val_loss: 41054480.0000 - val_mse: 41054480.0000\n",
            "Epoch 291/500\n",
            "13/13 [==============================] - 0s 3ms/step - loss: 22373046.0000 - mse: 22373046.0000 - val_loss: 43828512.0000 - val_mse: 43828512.0000\n",
            "Epoch 292/500\n",
            "13/13 [==============================] - 0s 3ms/step - loss: 21793020.0000 - mse: 21793020.0000 - val_loss: 37880292.0000 - val_mse: 37880292.0000\n",
            "Epoch 293/500\n",
            "13/13 [==============================] - 0s 3ms/step - loss: 22926316.0000 - mse: 22926316.0000 - val_loss: 39479068.0000 - val_mse: 39479068.0000\n",
            "Epoch 294/500\n",
            "13/13 [==============================] - 0s 4ms/step - loss: 22163182.0000 - mse: 22163182.0000 - val_loss: 51045272.0000 - val_mse: 51045268.0000\n",
            "Epoch 295/500\n",
            "13/13 [==============================] - 0s 3ms/step - loss: 23723102.0000 - mse: 23723102.0000 - val_loss: 42339556.0000 - val_mse: 42339556.0000\n",
            "Epoch 296/500\n",
            "13/13 [==============================] - 0s 3ms/step - loss: 19884848.0000 - mse: 19884848.0000 - val_loss: 38297088.0000 - val_mse: 38297088.0000\n",
            "Epoch 297/500\n",
            "13/13 [==============================] - 0s 3ms/step - loss: 24530782.0000 - mse: 24530782.0000 - val_loss: 38405000.0000 - val_mse: 38405000.0000\n",
            "Epoch 298/500\n",
            "13/13 [==============================] - 0s 3ms/step - loss: 20075292.0000 - mse: 20075292.0000 - val_loss: 45217648.0000 - val_mse: 45217648.0000\n",
            "Epoch 299/500\n",
            "13/13 [==============================] - 0s 3ms/step - loss: 21420260.0000 - mse: 21420260.0000 - val_loss: 61012304.0000 - val_mse: 61012312.0000\n",
            "Epoch 300/500\n",
            "13/13 [==============================] - 0s 4ms/step - loss: 21694156.0000 - mse: 21694156.0000 - val_loss: 37825420.0000 - val_mse: 37825420.0000\n",
            "Epoch 301/500\n",
            "13/13 [==============================] - 0s 4ms/step - loss: 22602368.0000 - mse: 22602368.0000 - val_loss: 49323800.0000 - val_mse: 49323800.0000\n",
            "Epoch 302/500\n",
            "13/13 [==============================] - 0s 3ms/step - loss: 20798858.0000 - mse: 20798858.0000 - val_loss: 61158608.0000 - val_mse: 61158608.0000\n",
            "Epoch 303/500\n",
            "13/13 [==============================] - 0s 3ms/step - loss: 22407864.0000 - mse: 22407864.0000 - val_loss: 55590376.0000 - val_mse: 55590376.0000\n",
            "Epoch 304/500\n",
            "13/13 [==============================] - 0s 4ms/step - loss: 22000026.0000 - mse: 22000026.0000 - val_loss: 42394676.0000 - val_mse: 42394676.0000\n",
            "Epoch 305/500\n",
            "13/13 [==============================] - 0s 3ms/step - loss: 21987708.0000 - mse: 21987708.0000 - val_loss: 40211212.0000 - val_mse: 40211212.0000\n",
            "Epoch 306/500\n",
            "13/13 [==============================] - 0s 4ms/step - loss: 21887220.0000 - mse: 21887220.0000 - val_loss: 42814848.0000 - val_mse: 42814852.0000\n",
            "Epoch 307/500\n",
            "13/13 [==============================] - 0s 3ms/step - loss: 21366410.0000 - mse: 21366410.0000 - val_loss: 40295852.0000 - val_mse: 40295852.0000\n",
            "Epoch 308/500\n",
            "13/13 [==============================] - 0s 4ms/step - loss: 20382344.0000 - mse: 20382344.0000 - val_loss: 75073744.0000 - val_mse: 75073744.0000\n",
            "Epoch 309/500\n",
            "13/13 [==============================] - 0s 3ms/step - loss: 25213336.0000 - mse: 25213336.0000 - val_loss: 39436580.0000 - val_mse: 39436580.0000\n",
            "Epoch 310/500\n",
            "13/13 [==============================] - 0s 3ms/step - loss: 20010212.0000 - mse: 20010212.0000 - val_loss: 52359316.0000 - val_mse: 52359316.0000\n",
            "Epoch 311/500\n",
            "13/13 [==============================] - 0s 4ms/step - loss: 22753586.0000 - mse: 22753590.0000 - val_loss: 40925184.0000 - val_mse: 40925184.0000\n",
            "Epoch 312/500\n",
            "13/13 [==============================] - 0s 4ms/step - loss: 20129464.0000 - mse: 20129464.0000 - val_loss: 42136592.0000 - val_mse: 42136592.0000\n",
            "Epoch 313/500\n",
            "13/13 [==============================] - 0s 3ms/step - loss: 22176058.0000 - mse: 22176058.0000 - val_loss: 37958548.0000 - val_mse: 37958548.0000\n",
            "Epoch 314/500\n",
            "13/13 [==============================] - 0s 3ms/step - loss: 23554670.0000 - mse: 23554670.0000 - val_loss: 40681236.0000 - val_mse: 40681236.0000\n",
            "Epoch 315/500\n",
            "13/13 [==============================] - 0s 4ms/step - loss: 19867952.0000 - mse: 19867952.0000 - val_loss: 41510308.0000 - val_mse: 41510308.0000\n",
            "Epoch 316/500\n",
            "13/13 [==============================] - 0s 4ms/step - loss: 23478006.0000 - mse: 23478008.0000 - val_loss: 55774048.0000 - val_mse: 55774048.0000\n",
            "Epoch 317/500\n",
            "13/13 [==============================] - 0s 4ms/step - loss: 20645278.0000 - mse: 20645278.0000 - val_loss: 79804688.0000 - val_mse: 79804688.0000\n",
            "Epoch 318/500\n",
            "13/13 [==============================] - 0s 3ms/step - loss: 22661642.0000 - mse: 22661642.0000 - val_loss: 43441740.0000 - val_mse: 43441736.0000\n",
            "Epoch 319/500\n",
            "13/13 [==============================] - 0s 3ms/step - loss: 20802760.0000 - mse: 20802760.0000 - val_loss: 42262524.0000 - val_mse: 42262524.0000\n",
            "Epoch 320/500\n",
            "13/13 [==============================] - 0s 3ms/step - loss: 22325712.0000 - mse: 22325712.0000 - val_loss: 39889008.0000 - val_mse: 39889008.0000\n",
            "Epoch 321/500\n",
            "13/13 [==============================] - 0s 4ms/step - loss: 20855396.0000 - mse: 20855396.0000 - val_loss: 55978156.0000 - val_mse: 55978156.0000\n",
            "Epoch 322/500\n",
            "13/13 [==============================] - 0s 4ms/step - loss: 21878804.0000 - mse: 21878806.0000 - val_loss: 50636724.0000 - val_mse: 50636724.0000\n",
            "Epoch 323/500\n",
            "13/13 [==============================] - 0s 4ms/step - loss: 20879108.0000 - mse: 20879108.0000 - val_loss: 38720032.0000 - val_mse: 38720032.0000\n",
            "Epoch 324/500\n",
            "13/13 [==============================] - 0s 4ms/step - loss: 23426924.0000 - mse: 23426924.0000 - val_loss: 42799804.0000 - val_mse: 42799804.0000\n",
            "Epoch 325/500\n",
            "13/13 [==============================] - 0s 4ms/step - loss: 22309752.0000 - mse: 22309752.0000 - val_loss: 37540880.0000 - val_mse: 37540880.0000\n",
            "Epoch 326/500\n",
            "13/13 [==============================] - 0s 3ms/step - loss: 21853214.0000 - mse: 21853214.0000 - val_loss: 40496136.0000 - val_mse: 40496136.0000\n",
            "Epoch 327/500\n",
            "13/13 [==============================] - 0s 3ms/step - loss: 23361262.0000 - mse: 23361262.0000 - val_loss: 42534084.0000 - val_mse: 42534080.0000\n",
            "Epoch 328/500\n",
            "13/13 [==============================] - 0s 3ms/step - loss: 19741546.0000 - mse: 19741544.0000 - val_loss: 46288468.0000 - val_mse: 46288468.0000\n",
            "Epoch 329/500\n",
            "13/13 [==============================] - 0s 3ms/step - loss: 21202902.0000 - mse: 21202902.0000 - val_loss: 39923892.0000 - val_mse: 39923892.0000\n",
            "Epoch 330/500\n",
            "13/13 [==============================] - 0s 3ms/step - loss: 19938738.0000 - mse: 19938736.0000 - val_loss: 56094440.0000 - val_mse: 56094440.0000\n",
            "Epoch 331/500\n",
            "13/13 [==============================] - 0s 3ms/step - loss: 23403522.0000 - mse: 23403522.0000 - val_loss: 45366868.0000 - val_mse: 45366868.0000\n",
            "Epoch 332/500\n",
            "13/13 [==============================] - 0s 3ms/step - loss: 21244610.0000 - mse: 21244610.0000 - val_loss: 37906212.0000 - val_mse: 37906212.0000\n",
            "Epoch 333/500\n",
            "13/13 [==============================] - 0s 4ms/step - loss: 20856362.0000 - mse: 20856362.0000 - val_loss: 45578560.0000 - val_mse: 45578560.0000\n",
            "Epoch 334/500\n",
            "13/13 [==============================] - 0s 3ms/step - loss: 23409724.0000 - mse: 23409724.0000 - val_loss: 45282952.0000 - val_mse: 45282952.0000\n",
            "Epoch 335/500\n",
            "13/13 [==============================] - 0s 4ms/step - loss: 19757316.0000 - mse: 19757316.0000 - val_loss: 39451552.0000 - val_mse: 39451552.0000\n",
            "Epoch 336/500\n",
            "13/13 [==============================] - 0s 3ms/step - loss: 21203578.0000 - mse: 21203578.0000 - val_loss: 37356508.0000 - val_mse: 37356508.0000\n",
            "Epoch 337/500\n",
            "13/13 [==============================] - 0s 4ms/step - loss: 21557180.0000 - mse: 21557180.0000 - val_loss: 38797708.0000 - val_mse: 38797708.0000\n",
            "Epoch 338/500\n",
            "13/13 [==============================] - 0s 3ms/step - loss: 21544654.0000 - mse: 21544654.0000 - val_loss: 47957820.0000 - val_mse: 47957820.0000\n",
            "Epoch 339/500\n",
            "13/13 [==============================] - 0s 4ms/step - loss: 23757550.0000 - mse: 23757550.0000 - val_loss: 45463608.0000 - val_mse: 45463608.0000\n",
            "Epoch 340/500\n",
            "13/13 [==============================] - 0s 3ms/step - loss: 20651546.0000 - mse: 20651548.0000 - val_loss: 44624644.0000 - val_mse: 44624644.0000\n",
            "Epoch 341/500\n",
            "13/13 [==============================] - 0s 3ms/step - loss: 22239736.0000 - mse: 22239736.0000 - val_loss: 45006660.0000 - val_mse: 45006660.0000\n",
            "Epoch 342/500\n",
            "13/13 [==============================] - 0s 4ms/step - loss: 19635028.0000 - mse: 19635028.0000 - val_loss: 45305148.0000 - val_mse: 45305148.0000\n",
            "Epoch 343/500\n",
            "13/13 [==============================] - 0s 3ms/step - loss: 23053272.0000 - mse: 23053272.0000 - val_loss: 42883092.0000 - val_mse: 42883092.0000\n",
            "Epoch 344/500\n",
            "13/13 [==============================] - 0s 3ms/step - loss: 22284468.0000 - mse: 22284468.0000 - val_loss: 44059892.0000 - val_mse: 44059892.0000\n",
            "Epoch 345/500\n",
            "13/13 [==============================] - 0s 3ms/step - loss: 20080012.0000 - mse: 20080012.0000 - val_loss: 42524680.0000 - val_mse: 42524680.0000\n",
            "Epoch 346/500\n",
            "13/13 [==============================] - 0s 4ms/step - loss: 22266750.0000 - mse: 22266750.0000 - val_loss: 59872656.0000 - val_mse: 59872656.0000\n",
            "Epoch 347/500\n",
            "13/13 [==============================] - 0s 4ms/step - loss: 21786138.0000 - mse: 21786138.0000 - val_loss: 39431696.0000 - val_mse: 39431696.0000\n",
            "Epoch 348/500\n",
            "13/13 [==============================] - 0s 4ms/step - loss: 21982146.0000 - mse: 21982146.0000 - val_loss: 52024612.0000 - val_mse: 52024612.0000\n",
            "Epoch 349/500\n",
            "13/13 [==============================] - 0s 3ms/step - loss: 19557478.0000 - mse: 19557478.0000 - val_loss: 59034828.0000 - val_mse: 59034832.0000\n",
            "Epoch 350/500\n",
            "13/13 [==============================] - 0s 3ms/step - loss: 22253356.0000 - mse: 22253356.0000 - val_loss: 38350128.0000 - val_mse: 38350128.0000\n",
            "Epoch 351/500\n",
            "13/13 [==============================] - 0s 3ms/step - loss: 20798994.0000 - mse: 20798994.0000 - val_loss: 47084992.0000 - val_mse: 47084992.0000\n",
            "Epoch 352/500\n",
            "13/13 [==============================] - 0s 3ms/step - loss: 21908040.0000 - mse: 21908040.0000 - val_loss: 50461004.0000 - val_mse: 50461004.0000\n",
            "Epoch 353/500\n",
            "13/13 [==============================] - 0s 4ms/step - loss: 20962824.0000 - mse: 20962824.0000 - val_loss: 50798948.0000 - val_mse: 50798944.0000\n",
            "Epoch 354/500\n",
            "13/13 [==============================] - 0s 4ms/step - loss: 21272824.0000 - mse: 21272824.0000 - val_loss: 41764588.0000 - val_mse: 41764588.0000\n",
            "Epoch 355/500\n",
            "13/13 [==============================] - 0s 3ms/step - loss: 21918708.0000 - mse: 21918708.0000 - val_loss: 38638072.0000 - val_mse: 38638072.0000\n",
            "Epoch 356/500\n",
            "13/13 [==============================] - 0s 4ms/step - loss: 20963386.0000 - mse: 20963386.0000 - val_loss: 39225928.0000 - val_mse: 39225928.0000\n",
            "Epoch 357/500\n",
            "13/13 [==============================] - 0s 4ms/step - loss: 20566044.0000 - mse: 20566044.0000 - val_loss: 38512772.0000 - val_mse: 38512772.0000\n",
            "Epoch 358/500\n",
            "13/13 [==============================] - 0s 3ms/step - loss: 20237298.0000 - mse: 20237298.0000 - val_loss: 44640732.0000 - val_mse: 44640732.0000\n",
            "Epoch 359/500\n",
            "13/13 [==============================] - 0s 4ms/step - loss: 23189730.0000 - mse: 23189730.0000 - val_loss: 39814416.0000 - val_mse: 39814416.0000\n",
            "Epoch 360/500\n",
            "13/13 [==============================] - 0s 4ms/step - loss: 19872670.0000 - mse: 19872670.0000 - val_loss: 39615812.0000 - val_mse: 39615812.0000\n",
            "Epoch 361/500\n",
            "13/13 [==============================] - 0s 4ms/step - loss: 21795424.0000 - mse: 21795424.0000 - val_loss: 39654224.0000 - val_mse: 39654224.0000\n",
            "Epoch 362/500\n",
            "13/13 [==============================] - 0s 3ms/step - loss: 20370144.0000 - mse: 20370144.0000 - val_loss: 39314280.0000 - val_mse: 39314280.0000\n",
            "Epoch 363/500\n",
            "13/13 [==============================] - 0s 3ms/step - loss: 22098586.0000 - mse: 22098586.0000 - val_loss: 38815180.0000 - val_mse: 38815180.0000\n",
            "Epoch 364/500\n",
            "13/13 [==============================] - 0s 3ms/step - loss: 19390694.0000 - mse: 19390694.0000 - val_loss: 44887316.0000 - val_mse: 44887320.0000\n",
            "Epoch 365/500\n",
            "13/13 [==============================] - 0s 3ms/step - loss: 21951296.0000 - mse: 21951296.0000 - val_loss: 39485968.0000 - val_mse: 39485968.0000\n",
            "Epoch 366/500\n",
            "13/13 [==============================] - 0s 3ms/step - loss: 22019928.0000 - mse: 22019928.0000 - val_loss: 43722496.0000 - val_mse: 43722496.0000\n",
            "Epoch 367/500\n",
            "13/13 [==============================] - 0s 3ms/step - loss: 21931010.0000 - mse: 21931010.0000 - val_loss: 41317196.0000 - val_mse: 41317196.0000\n",
            "Epoch 368/500\n",
            "13/13 [==============================] - 0s 3ms/step - loss: 20188180.0000 - mse: 20188180.0000 - val_loss: 37286348.0000 - val_mse: 37286348.0000\n",
            "Epoch 369/500\n",
            "13/13 [==============================] - 0s 3ms/step - loss: 20383420.0000 - mse: 20383420.0000 - val_loss: 45272804.0000 - val_mse: 45272804.0000\n",
            "Epoch 370/500\n",
            "13/13 [==============================] - 0s 4ms/step - loss: 21335802.0000 - mse: 21335802.0000 - val_loss: 43106828.0000 - val_mse: 43106828.0000\n",
            "Epoch 371/500\n",
            "13/13 [==============================] - 0s 3ms/step - loss: 22257366.0000 - mse: 22257366.0000 - val_loss: 42194536.0000 - val_mse: 42194536.0000\n",
            "Epoch 372/500\n",
            "13/13 [==============================] - 0s 3ms/step - loss: 19358948.0000 - mse: 19358948.0000 - val_loss: 43542132.0000 - val_mse: 43542132.0000\n",
            "Epoch 373/500\n",
            "13/13 [==============================] - 0s 3ms/step - loss: 21431048.0000 - mse: 21431048.0000 - val_loss: 37664884.0000 - val_mse: 37664884.0000\n",
            "Epoch 374/500\n",
            "13/13 [==============================] - 0s 3ms/step - loss: 20348294.0000 - mse: 20348294.0000 - val_loss: 46102600.0000 - val_mse: 46102600.0000\n",
            "Epoch 375/500\n",
            "13/13 [==============================] - 0s 4ms/step - loss: 20756944.0000 - mse: 20756944.0000 - val_loss: 45312036.0000 - val_mse: 45312036.0000\n",
            "Epoch 376/500\n",
            "13/13 [==============================] - 0s 4ms/step - loss: 20142878.0000 - mse: 20142878.0000 - val_loss: 44352820.0000 - val_mse: 44352820.0000\n",
            "Epoch 377/500\n",
            "13/13 [==============================] - 0s 3ms/step - loss: 21371046.0000 - mse: 21371046.0000 - val_loss: 43766916.0000 - val_mse: 43766916.0000\n",
            "Epoch 378/500\n",
            "13/13 [==============================] - 0s 3ms/step - loss: 21360678.0000 - mse: 21360678.0000 - val_loss: 55086672.0000 - val_mse: 55086672.0000\n",
            "Epoch 379/500\n",
            "13/13 [==============================] - 0s 3ms/step - loss: 21356990.0000 - mse: 21356990.0000 - val_loss: 39473968.0000 - val_mse: 39473968.0000\n",
            "Epoch 380/500\n",
            "13/13 [==============================] - 0s 3ms/step - loss: 20369116.0000 - mse: 20369116.0000 - val_loss: 38821868.0000 - val_mse: 38821868.0000\n",
            "Epoch 381/500\n",
            "13/13 [==============================] - 0s 3ms/step - loss: 19775146.0000 - mse: 19775146.0000 - val_loss: 37467904.0000 - val_mse: 37467904.0000\n",
            "Epoch 382/500\n",
            "13/13 [==============================] - 0s 5ms/step - loss: 22865598.0000 - mse: 22865598.0000 - val_loss: 58588788.0000 - val_mse: 58588788.0000\n",
            "Epoch 383/500\n",
            "13/13 [==============================] - 0s 4ms/step - loss: 20964402.0000 - mse: 20964402.0000 - val_loss: 64301016.0000 - val_mse: 64301016.0000\n",
            "Epoch 384/500\n",
            "13/13 [==============================] - 0s 4ms/step - loss: 20392188.0000 - mse: 20392188.0000 - val_loss: 47913324.0000 - val_mse: 47913324.0000\n",
            "Epoch 385/500\n",
            "13/13 [==============================] - 0s 4ms/step - loss: 23092472.0000 - mse: 23092470.0000 - val_loss: 48991964.0000 - val_mse: 48991964.0000\n",
            "Epoch 386/500\n",
            "13/13 [==============================] - 0s 5ms/step - loss: 19791910.0000 - mse: 19791910.0000 - val_loss: 38811200.0000 - val_mse: 38811204.0000\n",
            "Epoch 387/500\n",
            "13/13 [==============================] - 0s 4ms/step - loss: 22349876.0000 - mse: 22349876.0000 - val_loss: 40105128.0000 - val_mse: 40105128.0000\n",
            "Epoch 388/500\n",
            "13/13 [==============================] - 0s 4ms/step - loss: 21447394.0000 - mse: 21447394.0000 - val_loss: 38126220.0000 - val_mse: 38126220.0000\n",
            "Epoch 389/500\n",
            "13/13 [==============================] - 0s 4ms/step - loss: 20600736.0000 - mse: 20600736.0000 - val_loss: 41737824.0000 - val_mse: 41737824.0000\n",
            "Epoch 390/500\n",
            "13/13 [==============================] - 0s 4ms/step - loss: 21637604.0000 - mse: 21637602.0000 - val_loss: 41981932.0000 - val_mse: 41981932.0000\n",
            "Epoch 391/500\n",
            "13/13 [==============================] - 0s 4ms/step - loss: 21355996.0000 - mse: 21355996.0000 - val_loss: 64247312.0000 - val_mse: 64247312.0000\n",
            "Epoch 392/500\n",
            "13/13 [==============================] - 0s 4ms/step - loss: 21163778.0000 - mse: 21163778.0000 - val_loss: 49318004.0000 - val_mse: 49318004.0000\n",
            "Epoch 393/500\n",
            "13/13 [==============================] - 0s 4ms/step - loss: 22801558.0000 - mse: 22801558.0000 - val_loss: 43006944.0000 - val_mse: 43006944.0000\n",
            "Epoch 394/500\n",
            "13/13 [==============================] - 0s 4ms/step - loss: 20212164.0000 - mse: 20212164.0000 - val_loss: 63582768.0000 - val_mse: 63582768.0000\n",
            "Epoch 395/500\n",
            "13/13 [==============================] - 0s 4ms/step - loss: 19966128.0000 - mse: 19966128.0000 - val_loss: 40357556.0000 - val_mse: 40357556.0000\n",
            "Epoch 396/500\n",
            "13/13 [==============================] - 0s 3ms/step - loss: 22334152.0000 - mse: 22334152.0000 - val_loss: 41536728.0000 - val_mse: 41536728.0000\n",
            "Epoch 397/500\n",
            "13/13 [==============================] - 0s 4ms/step - loss: 21773456.0000 - mse: 21773456.0000 - val_loss: 38390868.0000 - val_mse: 38390868.0000\n",
            "Epoch 398/500\n",
            "13/13 [==============================] - 0s 5ms/step - loss: 19766528.0000 - mse: 19766528.0000 - val_loss: 41487060.0000 - val_mse: 41487060.0000\n",
            "Epoch 399/500\n",
            "13/13 [==============================] - 0s 4ms/step - loss: 22424284.0000 - mse: 22424284.0000 - val_loss: 40020952.0000 - val_mse: 40020952.0000\n",
            "Epoch 400/500\n",
            "13/13 [==============================] - 0s 3ms/step - loss: 20119536.0000 - mse: 20119536.0000 - val_loss: 42156228.0000 - val_mse: 42156228.0000\n",
            "Epoch 401/500\n",
            "13/13 [==============================] - 0s 5ms/step - loss: 22607620.0000 - mse: 22607620.0000 - val_loss: 39093052.0000 - val_mse: 39093052.0000\n",
            "Epoch 402/500\n",
            "13/13 [==============================] - 0s 4ms/step - loss: 20215724.0000 - mse: 20215724.0000 - val_loss: 51776164.0000 - val_mse: 51776164.0000\n",
            "Epoch 403/500\n",
            "13/13 [==============================] - 0s 4ms/step - loss: 19514966.0000 - mse: 19514966.0000 - val_loss: 53423828.0000 - val_mse: 53423828.0000\n",
            "Epoch 404/500\n",
            "13/13 [==============================] - 0s 4ms/step - loss: 21325028.0000 - mse: 21325028.0000 - val_loss: 39087140.0000 - val_mse: 39087136.0000\n",
            "Epoch 405/500\n",
            "13/13 [==============================] - 0s 5ms/step - loss: 20707122.0000 - mse: 20707122.0000 - val_loss: 46451788.0000 - val_mse: 46451788.0000\n",
            "Epoch 406/500\n",
            "13/13 [==============================] - 0s 4ms/step - loss: 21336256.0000 - mse: 21336256.0000 - val_loss: 38299528.0000 - val_mse: 38299528.0000\n",
            "Epoch 407/500\n",
            "13/13 [==============================] - 0s 4ms/step - loss: 20926480.0000 - mse: 20926480.0000 - val_loss: 41714960.0000 - val_mse: 41714960.0000\n",
            "Epoch 408/500\n",
            "13/13 [==============================] - 0s 4ms/step - loss: 19998412.0000 - mse: 19998412.0000 - val_loss: 46025952.0000 - val_mse: 46025952.0000\n",
            "Epoch 409/500\n",
            "13/13 [==============================] - 0s 4ms/step - loss: 21808902.0000 - mse: 21808902.0000 - val_loss: 46997380.0000 - val_mse: 46997380.0000\n",
            "Epoch 410/500\n",
            "13/13 [==============================] - 0s 4ms/step - loss: 19235558.0000 - mse: 19235558.0000 - val_loss: 37289324.0000 - val_mse: 37289324.0000\n",
            "Epoch 411/500\n",
            "13/13 [==============================] - 0s 4ms/step - loss: 21435294.0000 - mse: 21435294.0000 - val_loss: 40240784.0000 - val_mse: 40240784.0000\n",
            "Epoch 412/500\n",
            "13/13 [==============================] - 0s 4ms/step - loss: 20878484.0000 - mse: 20878484.0000 - val_loss: 38653648.0000 - val_mse: 38653648.0000\n",
            "Epoch 413/500\n",
            "13/13 [==============================] - 0s 4ms/step - loss: 19729000.0000 - mse: 19729000.0000 - val_loss: 46737384.0000 - val_mse: 46737384.0000\n",
            "Epoch 414/500\n",
            "13/13 [==============================] - 0s 4ms/step - loss: 21721600.0000 - mse: 21721602.0000 - val_loss: 56300272.0000 - val_mse: 56300272.0000\n",
            "Epoch 415/500\n",
            "13/13 [==============================] - 0s 4ms/step - loss: 20437480.0000 - mse: 20437480.0000 - val_loss: 39182080.0000 - val_mse: 39182080.0000\n",
            "Epoch 416/500\n",
            "13/13 [==============================] - 0s 4ms/step - loss: 20914750.0000 - mse: 20914750.0000 - val_loss: 42782224.0000 - val_mse: 42782224.0000\n",
            "Epoch 417/500\n",
            "13/13 [==============================] - 0s 4ms/step - loss: 19965098.0000 - mse: 19965098.0000 - val_loss: 57679120.0000 - val_mse: 57679120.0000\n",
            "Epoch 418/500\n",
            "13/13 [==============================] - 0s 4ms/step - loss: 19782136.0000 - mse: 19782136.0000 - val_loss: 43691876.0000 - val_mse: 43691876.0000\n",
            "Epoch 419/500\n",
            "13/13 [==============================] - 0s 4ms/step - loss: 20366136.0000 - mse: 20366136.0000 - val_loss: 39599428.0000 - val_mse: 39599428.0000\n",
            "Epoch 420/500\n",
            "13/13 [==============================] - 0s 4ms/step - loss: 20095916.0000 - mse: 20095916.0000 - val_loss: 40028900.0000 - val_mse: 40028900.0000\n",
            "Epoch 421/500\n",
            "13/13 [==============================] - 0s 4ms/step - loss: 22048522.0000 - mse: 22048522.0000 - val_loss: 38754228.0000 - val_mse: 38754228.0000\n",
            "Epoch 422/500\n",
            "13/13 [==============================] - 0s 3ms/step - loss: 20012238.0000 - mse: 20012238.0000 - val_loss: 39118112.0000 - val_mse: 39118112.0000\n",
            "Epoch 423/500\n",
            "13/13 [==============================] - 0s 4ms/step - loss: 20852506.0000 - mse: 20852506.0000 - val_loss: 59002532.0000 - val_mse: 59002532.0000\n",
            "Epoch 424/500\n",
            "13/13 [==============================] - 0s 5ms/step - loss: 21365868.0000 - mse: 21365868.0000 - val_loss: 39684548.0000 - val_mse: 39684548.0000\n",
            "Epoch 425/500\n",
            "13/13 [==============================] - 0s 4ms/step - loss: 19183410.0000 - mse: 19183410.0000 - val_loss: 44149316.0000 - val_mse: 44149316.0000\n",
            "Epoch 426/500\n",
            "13/13 [==============================] - 0s 4ms/step - loss: 18878006.0000 - mse: 18878006.0000 - val_loss: 47416608.0000 - val_mse: 47416608.0000\n",
            "Epoch 427/500\n",
            "13/13 [==============================] - 0s 4ms/step - loss: 21252676.0000 - mse: 21252676.0000 - val_loss: 38158164.0000 - val_mse: 38158164.0000\n",
            "Epoch 428/500\n",
            "13/13 [==============================] - 0s 4ms/step - loss: 23388452.0000 - mse: 23388452.0000 - val_loss: 37702416.0000 - val_mse: 37702416.0000\n",
            "Epoch 429/500\n",
            "13/13 [==============================] - 0s 4ms/step - loss: 19306850.0000 - mse: 19306850.0000 - val_loss: 48352264.0000 - val_mse: 48352264.0000\n",
            "Epoch 430/500\n",
            "13/13 [==============================] - 0s 4ms/step - loss: 19975682.0000 - mse: 19975682.0000 - val_loss: 43382572.0000 - val_mse: 43382576.0000\n",
            "Epoch 431/500\n",
            "13/13 [==============================] - 0s 4ms/step - loss: 21350558.0000 - mse: 21350558.0000 - val_loss: 39169568.0000 - val_mse: 39169568.0000\n",
            "Epoch 432/500\n",
            "13/13 [==============================] - 0s 4ms/step - loss: 20371440.0000 - mse: 20371440.0000 - val_loss: 49065464.0000 - val_mse: 49065464.0000\n",
            "Epoch 433/500\n",
            "13/13 [==============================] - 0s 4ms/step - loss: 21018104.0000 - mse: 21018106.0000 - val_loss: 38261592.0000 - val_mse: 38261592.0000\n",
            "Epoch 434/500\n",
            "13/13 [==============================] - 0s 4ms/step - loss: 19667526.0000 - mse: 19667526.0000 - val_loss: 46279656.0000 - val_mse: 46279656.0000\n",
            "Epoch 435/500\n",
            "13/13 [==============================] - 0s 3ms/step - loss: 20538914.0000 - mse: 20538914.0000 - val_loss: 42420168.0000 - val_mse: 42420168.0000\n",
            "Epoch 436/500\n",
            "13/13 [==============================] - 0s 4ms/step - loss: 18542756.0000 - mse: 18542756.0000 - val_loss: 42130300.0000 - val_mse: 42130300.0000\n",
            "Epoch 437/500\n",
            "13/13 [==============================] - 0s 5ms/step - loss: 23351026.0000 - mse: 23351026.0000 - val_loss: 40448008.0000 - val_mse: 40448008.0000\n",
            "Epoch 438/500\n",
            "13/13 [==============================] - 0s 4ms/step - loss: 19562140.0000 - mse: 19562142.0000 - val_loss: 40206504.0000 - val_mse: 40206504.0000\n",
            "Epoch 439/500\n",
            "13/13 [==============================] - 0s 4ms/step - loss: 21494720.0000 - mse: 21494720.0000 - val_loss: 39871348.0000 - val_mse: 39871348.0000\n",
            "Epoch 440/500\n",
            "13/13 [==============================] - 0s 4ms/step - loss: 18824080.0000 - mse: 18824080.0000 - val_loss: 41466716.0000 - val_mse: 41466716.0000\n",
            "Epoch 441/500\n",
            "13/13 [==============================] - 0s 4ms/step - loss: 19998336.0000 - mse: 19998336.0000 - val_loss: 64879820.0000 - val_mse: 64879820.0000\n",
            "Epoch 442/500\n",
            "13/13 [==============================] - 0s 4ms/step - loss: 21053258.0000 - mse: 21053258.0000 - val_loss: 39964128.0000 - val_mse: 39964128.0000\n",
            "Epoch 443/500\n",
            "13/13 [==============================] - 0s 4ms/step - loss: 20136464.0000 - mse: 20136464.0000 - val_loss: 42982012.0000 - val_mse: 42982012.0000\n",
            "Epoch 444/500\n",
            "13/13 [==============================] - 0s 4ms/step - loss: 20142330.0000 - mse: 20142330.0000 - val_loss: 42837928.0000 - val_mse: 42837928.0000\n",
            "Epoch 445/500\n",
            "13/13 [==============================] - 0s 4ms/step - loss: 20527520.0000 - mse: 20527520.0000 - val_loss: 41071476.0000 - val_mse: 41071476.0000\n",
            "Epoch 446/500\n",
            "13/13 [==============================] - 0s 4ms/step - loss: 20772282.0000 - mse: 20772282.0000 - val_loss: 52179184.0000 - val_mse: 52179184.0000\n",
            "Epoch 447/500\n",
            "13/13 [==============================] - 0s 4ms/step - loss: 19952602.0000 - mse: 19952602.0000 - val_loss: 43522584.0000 - val_mse: 43522584.0000\n",
            "Epoch 448/500\n",
            "13/13 [==============================] - 0s 4ms/step - loss: 24675814.0000 - mse: 24675814.0000 - val_loss: 39218848.0000 - val_mse: 39218848.0000\n",
            "Epoch 449/500\n",
            "13/13 [==============================] - 0s 4ms/step - loss: 19660474.0000 - mse: 19660474.0000 - val_loss: 45179288.0000 - val_mse: 45179288.0000\n",
            "Epoch 450/500\n",
            "13/13 [==============================] - 0s 4ms/step - loss: 20218412.0000 - mse: 20218412.0000 - val_loss: 43472472.0000 - val_mse: 43472472.0000\n",
            "Epoch 451/500\n",
            "13/13 [==============================] - 0s 4ms/step - loss: 20580850.0000 - mse: 20580850.0000 - val_loss: 43971512.0000 - val_mse: 43971512.0000\n",
            "Epoch 452/500\n",
            "13/13 [==============================] - 0s 4ms/step - loss: 20713792.0000 - mse: 20713792.0000 - val_loss: 41715444.0000 - val_mse: 41715444.0000\n",
            "Epoch 453/500\n",
            "13/13 [==============================] - 0s 4ms/step - loss: 18833608.0000 - mse: 18833608.0000 - val_loss: 48098988.0000 - val_mse: 48098988.0000\n",
            "Epoch 454/500\n",
            "13/13 [==============================] - 0s 4ms/step - loss: 20692990.0000 - mse: 20692990.0000 - val_loss: 40248764.0000 - val_mse: 40248764.0000\n",
            "Epoch 455/500\n",
            "13/13 [==============================] - 0s 4ms/step - loss: 20707808.0000 - mse: 20707808.0000 - val_loss: 49194848.0000 - val_mse: 49194848.0000\n",
            "Epoch 456/500\n",
            "13/13 [==============================] - 0s 3ms/step - loss: 19986184.0000 - mse: 19986186.0000 - val_loss: 42463880.0000 - val_mse: 42463884.0000\n",
            "Epoch 457/500\n",
            "13/13 [==============================] - 0s 4ms/step - loss: 21073248.0000 - mse: 21073248.0000 - val_loss: 41701732.0000 - val_mse: 41701732.0000\n",
            "Epoch 458/500\n",
            "13/13 [==============================] - 0s 4ms/step - loss: 20852484.0000 - mse: 20852484.0000 - val_loss: 37745556.0000 - val_mse: 37745556.0000\n",
            "Epoch 459/500\n",
            "13/13 [==============================] - 0s 4ms/step - loss: 19422932.0000 - mse: 19422932.0000 - val_loss: 60133568.0000 - val_mse: 60133568.0000\n",
            "Epoch 460/500\n",
            "13/13 [==============================] - 0s 4ms/step - loss: 19744696.0000 - mse: 19744696.0000 - val_loss: 51797032.0000 - val_mse: 51797032.0000\n",
            "Epoch 461/500\n",
            "13/13 [==============================] - 0s 5ms/step - loss: 20758294.0000 - mse: 20758294.0000 - val_loss: 47190844.0000 - val_mse: 47190844.0000\n",
            "Epoch 462/500\n",
            "13/13 [==============================] - 0s 4ms/step - loss: 19822932.0000 - mse: 19822932.0000 - val_loss: 41806688.0000 - val_mse: 41806688.0000\n",
            "Epoch 463/500\n",
            "13/13 [==============================] - 0s 5ms/step - loss: 20780006.0000 - mse: 20780006.0000 - val_loss: 60904920.0000 - val_mse: 60904920.0000\n",
            "Epoch 464/500\n",
            "13/13 [==============================] - 0s 4ms/step - loss: 19057634.0000 - mse: 19057634.0000 - val_loss: 41678144.0000 - val_mse: 41678144.0000\n",
            "Epoch 465/500\n",
            "13/13 [==============================] - 0s 4ms/step - loss: 19114130.0000 - mse: 19114130.0000 - val_loss: 56787236.0000 - val_mse: 56787236.0000\n",
            "Epoch 466/500\n",
            "13/13 [==============================] - 0s 4ms/step - loss: 22625388.0000 - mse: 22625388.0000 - val_loss: 47497552.0000 - val_mse: 47497552.0000\n",
            "Epoch 467/500\n",
            "13/13 [==============================] - 0s 4ms/step - loss: 19735792.0000 - mse: 19735792.0000 - val_loss: 59923960.0000 - val_mse: 59923960.0000\n",
            "Epoch 468/500\n",
            "13/13 [==============================] - 0s 4ms/step - loss: 21801096.0000 - mse: 21801096.0000 - val_loss: 41634288.0000 - val_mse: 41634288.0000\n",
            "Epoch 469/500\n",
            "13/13 [==============================] - 0s 3ms/step - loss: 18423294.0000 - mse: 18423294.0000 - val_loss: 45613676.0000 - val_mse: 45613676.0000\n",
            "Epoch 470/500\n",
            "13/13 [==============================] - 0s 5ms/step - loss: 23158840.0000 - mse: 23158840.0000 - val_loss: 39756436.0000 - val_mse: 39756436.0000\n",
            "Epoch 471/500\n",
            "13/13 [==============================] - 0s 3ms/step - loss: 18837954.0000 - mse: 18837954.0000 - val_loss: 38235464.0000 - val_mse: 38235464.0000\n",
            "Epoch 472/500\n",
            "13/13 [==============================] - 0s 5ms/step - loss: 19867798.0000 - mse: 19867798.0000 - val_loss: 37983884.0000 - val_mse: 37983884.0000\n",
            "Epoch 473/500\n",
            "13/13 [==============================] - 0s 4ms/step - loss: 21433214.0000 - mse: 21433214.0000 - val_loss: 38203724.0000 - val_mse: 38203724.0000\n",
            "Epoch 474/500\n",
            "13/13 [==============================] - 0s 4ms/step - loss: 18853300.0000 - mse: 18853300.0000 - val_loss: 39124948.0000 - val_mse: 39124948.0000\n",
            "Epoch 475/500\n",
            "13/13 [==============================] - 0s 4ms/step - loss: 19911078.0000 - mse: 19911078.0000 - val_loss: 44683436.0000 - val_mse: 44683436.0000\n",
            "Epoch 476/500\n",
            "13/13 [==============================] - 0s 4ms/step - loss: 21583836.0000 - mse: 21583836.0000 - val_loss: 50360588.0000 - val_mse: 50360588.0000\n",
            "Epoch 477/500\n",
            "13/13 [==============================] - 0s 4ms/step - loss: 18674412.0000 - mse: 18674412.0000 - val_loss: 43824184.0000 - val_mse: 43824184.0000\n",
            "Epoch 478/500\n",
            "13/13 [==============================] - 0s 4ms/step - loss: 20617494.0000 - mse: 20617494.0000 - val_loss: 42840448.0000 - val_mse: 42840448.0000\n",
            "Epoch 479/500\n",
            "13/13 [==============================] - 0s 4ms/step - loss: 19915962.0000 - mse: 19915962.0000 - val_loss: 39593088.0000 - val_mse: 39593088.0000\n",
            "Epoch 480/500\n",
            "13/13 [==============================] - 0s 4ms/step - loss: 21062738.0000 - mse: 21062738.0000 - val_loss: 41476896.0000 - val_mse: 41476896.0000\n",
            "Epoch 481/500\n",
            "13/13 [==============================] - 0s 4ms/step - loss: 18762470.0000 - mse: 18762472.0000 - val_loss: 44034216.0000 - val_mse: 44034216.0000\n",
            "Epoch 482/500\n",
            "13/13 [==============================] - 0s 4ms/step - loss: 19998972.0000 - mse: 19998972.0000 - val_loss: 40467652.0000 - val_mse: 40467648.0000\n",
            "Epoch 483/500\n",
            "13/13 [==============================] - 0s 4ms/step - loss: 19845588.0000 - mse: 19845588.0000 - val_loss: 42494112.0000 - val_mse: 42494112.0000\n",
            "Epoch 484/500\n",
            "13/13 [==============================] - 0s 4ms/step - loss: 18488034.0000 - mse: 18488034.0000 - val_loss: 59917972.0000 - val_mse: 59917972.0000\n",
            "Epoch 485/500\n",
            "13/13 [==============================] - 0s 4ms/step - loss: 21518620.0000 - mse: 21518620.0000 - val_loss: 46323688.0000 - val_mse: 46323688.0000\n",
            "Epoch 486/500\n",
            "13/13 [==============================] - 0s 3ms/step - loss: 20398892.0000 - mse: 20398892.0000 - val_loss: 49333644.0000 - val_mse: 49333644.0000\n",
            "Epoch 487/500\n",
            "13/13 [==============================] - 0s 4ms/step - loss: 19565272.0000 - mse: 19565272.0000 - val_loss: 45490068.0000 - val_mse: 45490068.0000\n",
            "Epoch 488/500\n",
            "13/13 [==============================] - 0s 4ms/step - loss: 21219920.0000 - mse: 21219920.0000 - val_loss: 43487288.0000 - val_mse: 43487288.0000\n",
            "Epoch 489/500\n",
            "13/13 [==============================] - 0s 4ms/step - loss: 18821820.0000 - mse: 18821820.0000 - val_loss: 39045636.0000 - val_mse: 39045636.0000\n",
            "Epoch 490/500\n",
            "13/13 [==============================] - 0s 4ms/step - loss: 20944098.0000 - mse: 20944100.0000 - val_loss: 38954732.0000 - val_mse: 38954732.0000\n",
            "Epoch 491/500\n",
            "13/13 [==============================] - 0s 4ms/step - loss: 18314794.0000 - mse: 18314792.0000 - val_loss: 43687928.0000 - val_mse: 43687928.0000\n",
            "Epoch 492/500\n",
            "13/13 [==============================] - 0s 4ms/step - loss: 21733220.0000 - mse: 21733220.0000 - val_loss: 43832344.0000 - val_mse: 43832344.0000\n",
            "Epoch 493/500\n",
            "13/13 [==============================] - 0s 4ms/step - loss: 19413890.0000 - mse: 19413890.0000 - val_loss: 41814572.0000 - val_mse: 41814572.0000\n",
            "Epoch 494/500\n",
            "13/13 [==============================] - 0s 4ms/step - loss: 19538148.0000 - mse: 19538148.0000 - val_loss: 39342784.0000 - val_mse: 39342784.0000\n",
            "Epoch 495/500\n",
            "13/13 [==============================] - 0s 4ms/step - loss: 20702946.0000 - mse: 20702946.0000 - val_loss: 40897360.0000 - val_mse: 40897360.0000\n",
            "Epoch 496/500\n",
            "13/13 [==============================] - 0s 4ms/step - loss: 19279076.0000 - mse: 19279076.0000 - val_loss: 41161692.0000 - val_mse: 41161692.0000\n",
            "Epoch 497/500\n",
            "13/13 [==============================] - 0s 4ms/step - loss: 21132166.0000 - mse: 21132166.0000 - val_loss: 65990680.0000 - val_mse: 65990680.0000\n",
            "Epoch 498/500\n",
            "13/13 [==============================] - 0s 4ms/step - loss: 18948934.0000 - mse: 18948934.0000 - val_loss: 40670652.0000 - val_mse: 40670652.0000\n",
            "Epoch 499/500\n",
            "13/13 [==============================] - 0s 4ms/step - loss: 20886220.0000 - mse: 20886220.0000 - val_loss: 43487180.0000 - val_mse: 43487180.0000\n",
            "Epoch 500/500\n",
            "13/13 [==============================] - 0s 4ms/step - loss: 19309808.0000 - mse: 19309808.0000 - val_loss: 46129776.0000 - val_mse: 46129776.0000\n"
          ],
          "name": "stdout"
        }
      ]
    },
    {
      "cell_type": "code",
      "metadata": {
        "colab": {
          "base_uri": "https://localhost:8080/",
          "height": 293
        },
        "id": "8JHj6HzIMPHA",
        "outputId": "344e3885-06b7-4ed0-9b7e-b308417f3ad5"
      },
      "source": [
        "# \"Loss\"\n",
        "pd.DataFrame(ann.history)[['mse','val_mse']].plot()"
      ],
      "execution_count": null,
      "outputs": [
        {
          "output_type": "execute_result",
          "data": {
            "text/plain": [
              "<matplotlib.axes._subplots.AxesSubplot at 0x7fc2b99b95d0>"
            ]
          },
          "metadata": {
            "tags": []
          },
          "execution_count": 47
        },
        {
          "output_type": "display_data",
          "data": {
            "image/png": "[encoded data removed]",
            "text/plain": [
              "<Figure size 432x288 with 1 Axes>"
            ]
          },
          "metadata": {
            "tags": [],
            "needs_background": "light"
          }
        }
      ]
    },
    {
      "cell_type": "code",
      "metadata": {
        "colab": {
          "base_uri": "https://localhost:8080/"
        },
        "id": "isBqUavkLVgj",
        "outputId": "40482b7d-9473-4a06-845f-d9418fcac52e"
      },
      "source": [
        "r2 = r2_score(y_test, y_pred)\n",
        "print('R2 score on test set using ANN:',round(r2,2))"
      ],
      "execution_count": null,
      "outputs": [
        {
          "output_type": "stream",
          "text": [
            "R2 score on test set using ANN: 0.87\n"
          ],
          "name": "stdout"
        }
      ]
    }
  ]
}